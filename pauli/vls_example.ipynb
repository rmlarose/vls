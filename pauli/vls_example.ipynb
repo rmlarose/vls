{
 "cells": [
  {
   "cell_type": "markdown",
   "metadata": {},
   "source": [
    "# <p style=\"text-align: center;\"> Variational Linear Systems: Simple Example </p> \n",
    "<p style=\"text-align: center;\"> Ryan LaRose </p>"
   ]
  },
  {
   "cell_type": "markdown",
   "metadata": {},
   "source": [
    "This notebook briefly demonstrates the current state of the Variational Linear Systems (VLS) code. All code is contained in `vls_pauli.py`, which defines a `PauliSystem` class."
   ]
  },
  {
   "cell_type": "code",
   "execution_count": 1,
   "metadata": {},
   "outputs": [],
   "source": [
    "# =======\n",
    "# imports\n",
    "# =======\n",
    "import time\n",
    "\n",
    "import numpy as np\n",
    "\n",
    "from vls_pauli import PauliSystem\n",
    "from cirq import ParamResolver, Symbol, ops, Circuit, LineQubit"
   ]
  },
  {
   "cell_type": "markdown",
   "metadata": {},
   "source": [
    "# Creating a Linear System of Equations"
   ]
  },
  {
   "cell_type": "markdown",
   "metadata": {},
   "source": [
    "A `PauliSystem` consists of a matrix of the form\n",
    "\\begin{equation}\n",
    "A = \\sum_{k = 1}^{K} c_k \\sigma_k\n",
    "\\end{equation}\n",
    "where $c_k$ are complex coefficients and $\\sigma_k$ are strings of Pauli operators. In code, we represent the matrix $A$ as arrays of strings corresponding to Pauli operators. For example, to represent the Pauli operators\n",
    "\\begin{align}\n",
    "\\sigma_1 &= \\sigma_I \\otimes \\sigma_x \\otimes \\sigma_Y \\otimes \\sigma_Z\n",
    "\\end{align}\n",
    "we would write:"
   ]
  },
  {
   "cell_type": "code",
   "execution_count": 2,
   "metadata": {},
   "outputs": [],
   "source": [
    "# specify the pauli operators of the matrix\n",
    "Amat_ops = np.array([[\"I\", \"X\", \"Y\", \"Z\"]])"
   ]
  },
  {
   "cell_type": "markdown",
   "metadata": {},
   "source": [
    "To store more terms, we simply append more lists of Pauli operators (string keys) to the operator matrix above. Coefficients $c_k$ are stored similarly as arrays of complex values:"
   ]
  },
  {
   "cell_type": "code",
   "execution_count": 3,
   "metadata": {},
   "outputs": [],
   "source": [
    "# specify the coefficients of each term in the matrix\n",
    "Amat_coeffs = np.array([1-0j])"
   ]
  },
  {
   "cell_type": "markdown",
   "metadata": {},
   "source": [
    "Finally, the solution vector\n",
    "\\begin{equation}\n",
    "|b\\rangle = U |0\\rangle\n",
    "\\end{equation}\n",
    "is represented by the unitary $U$ that (efficiently) prepares $|b\\rangle$ from the ground state. For example, the unitary $U$ could be\n",
    "\\begin{equation}\n",
    "U = \\sigma_I \\otimes \\sigma_X \\otimes \\sigma_Y \\otimes \\sigma_Z,\n",
    "\\end{equation}\n",
    "which we would represent in code as:"
   ]
  },
  {
   "cell_type": "code",
   "execution_count": 4,
   "metadata": {},
   "outputs": [],
   "source": [
    "# specify the unitary that prepares the solution vector b\n",
    "Umat_ops = np.array([\"I\", \"X\", \"Y\", \"Z\"])"
   ]
  },
  {
   "cell_type": "markdown",
   "metadata": {},
   "source": [
    "To create `PauliSystem`, we can then simply feed in `Amat_coeffs`, `Amat_ops`, and `Umat_ops`."
   ]
  },
  {
   "cell_type": "code",
   "execution_count": 5,
   "metadata": {},
   "outputs": [],
   "source": [
    "# create a linear system of equations\n",
    "system = PauliSystem(Amat_coeffs, Amat_ops, Umat_ops)"
   ]
  },
  {
   "cell_type": "markdown",
   "metadata": {},
   "source": [
    "# Working with a `PauliSystem`"
   ]
  },
  {
   "cell_type": "markdown",
   "metadata": {},
   "source": [
    "The `PauliSystem` class can tell basic information about the system:"
   ]
  },
  {
   "cell_type": "code",
   "execution_count": 6,
   "metadata": {},
   "outputs": [
    {
     "name": "stdout",
     "output_type": "stream",
     "text": [
      "Number of qubits in system: 4\n",
      "Size of matrix: (16, 16)\n"
     ]
    }
   ],
   "source": [
    "print(\"Number of qubits in system:\", system.num_qubits())\n",
    "print(\"Size of matrix:\", system.size())"
   ]
  },
  {
   "cell_type": "markdown",
   "metadata": {},
   "source": [
    "To see the actual matrix representation of the system (in the computational basis), we can do:"
   ]
  },
  {
   "cell_type": "code",
   "execution_count": 7,
   "metadata": {},
   "outputs": [
    {
     "name": "stdout",
     "output_type": "stream",
     "text": [
      "[[0.+0.j 0.+0.j 0.+0.j 0.+0.j 0.+0.j 0.+0.j 0.-1.j 0.+0.j 0.+0.j 0.+0.j\n",
      "  0.+0.j 0.+0.j 0.+0.j 0.+0.j 0.+0.j 0.+0.j]\n",
      " [0.+0.j 0.+0.j 0.+0.j 0.+0.j 0.+0.j 0.+0.j 0.+0.j 0.+1.j 0.+0.j 0.+0.j\n",
      "  0.+0.j 0.+0.j 0.+0.j 0.+0.j 0.+0.j 0.+0.j]\n",
      " [0.+0.j 0.+0.j 0.+0.j 0.+0.j 0.+1.j 0.+0.j 0.+0.j 0.+0.j 0.+0.j 0.+0.j\n",
      "  0.+0.j 0.+0.j 0.+0.j 0.+0.j 0.+0.j 0.+0.j]\n",
      " [0.+0.j 0.+0.j 0.+0.j 0.+0.j 0.+0.j 0.-1.j 0.+0.j 0.+0.j 0.+0.j 0.+0.j\n",
      "  0.+0.j 0.+0.j 0.+0.j 0.+0.j 0.+0.j 0.+0.j]\n",
      " [0.+0.j 0.+0.j 0.-1.j 0.+0.j 0.+0.j 0.+0.j 0.+0.j 0.+0.j 0.+0.j 0.+0.j\n",
      "  0.+0.j 0.+0.j 0.+0.j 0.+0.j 0.+0.j 0.+0.j]\n",
      " [0.+0.j 0.+0.j 0.+0.j 0.+1.j 0.+0.j 0.+0.j 0.+0.j 0.+0.j 0.+0.j 0.+0.j\n",
      "  0.+0.j 0.+0.j 0.+0.j 0.+0.j 0.+0.j 0.+0.j]\n",
      " [0.+1.j 0.+0.j 0.+0.j 0.+0.j 0.+0.j 0.+0.j 0.+0.j 0.+0.j 0.+0.j 0.+0.j\n",
      "  0.+0.j 0.+0.j 0.+0.j 0.+0.j 0.+0.j 0.+0.j]\n",
      " [0.+0.j 0.-1.j 0.+0.j 0.+0.j 0.+0.j 0.+0.j 0.+0.j 0.+0.j 0.+0.j 0.+0.j\n",
      "  0.+0.j 0.+0.j 0.+0.j 0.+0.j 0.+0.j 0.+0.j]\n",
      " [0.+0.j 0.+0.j 0.+0.j 0.+0.j 0.+0.j 0.+0.j 0.+0.j 0.+0.j 0.+0.j 0.+0.j\n",
      "  0.+0.j 0.+0.j 0.+0.j 0.+0.j 0.-1.j 0.+0.j]\n",
      " [0.+0.j 0.+0.j 0.+0.j 0.+0.j 0.+0.j 0.+0.j 0.+0.j 0.+0.j 0.+0.j 0.+0.j\n",
      "  0.+0.j 0.+0.j 0.+0.j 0.+0.j 0.+0.j 0.+1.j]\n",
      " [0.+0.j 0.+0.j 0.+0.j 0.+0.j 0.+0.j 0.+0.j 0.+0.j 0.+0.j 0.+0.j 0.+0.j\n",
      "  0.+0.j 0.+0.j 0.+1.j 0.+0.j 0.+0.j 0.+0.j]\n",
      " [0.+0.j 0.+0.j 0.+0.j 0.+0.j 0.+0.j 0.+0.j 0.+0.j 0.+0.j 0.+0.j 0.+0.j\n",
      "  0.+0.j 0.+0.j 0.+0.j 0.-1.j 0.+0.j 0.+0.j]\n",
      " [0.+0.j 0.+0.j 0.+0.j 0.+0.j 0.+0.j 0.+0.j 0.+0.j 0.+0.j 0.+0.j 0.+0.j\n",
      "  0.-1.j 0.+0.j 0.+0.j 0.+0.j 0.+0.j 0.+0.j]\n",
      " [0.+0.j 0.+0.j 0.+0.j 0.+0.j 0.+0.j 0.+0.j 0.+0.j 0.+0.j 0.+0.j 0.+0.j\n",
      "  0.+0.j 0.+1.j 0.+0.j 0.+0.j 0.+0.j 0.+0.j]\n",
      " [0.+0.j 0.+0.j 0.+0.j 0.+0.j 0.+0.j 0.+0.j 0.+0.j 0.+0.j 0.+1.j 0.+0.j\n",
      "  0.+0.j 0.+0.j 0.+0.j 0.+0.j 0.+0.j 0.+0.j]\n",
      " [0.+0.j 0.+0.j 0.+0.j 0.+0.j 0.+0.j 0.+0.j 0.+0.j 0.+0.j 0.+0.j 0.-1.j\n",
      "  0.+0.j 0.+0.j 0.+0.j 0.+0.j 0.+0.j 0.+0.j]]\n"
     ]
    }
   ],
   "source": [
    "# get the matrix of the system\n",
    "matrix = system.matrix()\n",
    "print(matrix)"
   ]
  },
  {
   "cell_type": "markdown",
   "metadata": {},
   "source": [
    "We can also see the solution vector $|b\\rangle$ by doing:"
   ]
  },
  {
   "cell_type": "code",
   "execution_count": 8,
   "metadata": {},
   "outputs": [
    {
     "name": "stdout",
     "output_type": "stream",
     "text": [
      "[0.+0.j 0.+0.j 0.+0.j 0.+0.j 0.+0.j 0.+0.j 0.+1.j 0.+0.j 0.+0.j 0.+0.j\n",
      " 0.+0.j 0.+0.j 0.+0.j 0.+0.j 0.+0.j 0.+0.j]\n"
     ]
    }
   ],
   "source": [
    "b = system.vector()\n",
    "print(b)"
   ]
  },
  {
   "cell_type": "markdown",
   "metadata": {},
   "source": [
    "# Creating an Ansatz"
   ]
  },
  {
   "cell_type": "markdown",
   "metadata": {},
   "source": [
    "Initially, the `PauliSystem` ansatz for $V$ is an empty circuit:"
   ]
  },
  {
   "cell_type": "code",
   "execution_count": 9,
   "metadata": {},
   "outputs": [
    {
     "data": {
      "text/html": [
       "<pre style=\"overflow: auto; white-space: pre;\"></pre>"
      ],
      "text/plain": []
     },
     "execution_count": 9,
     "metadata": {},
     "output_type": "execute_result"
    }
   ],
   "source": [
    "# print out the initial (empty) ansatz\n",
    "system.ansatz"
   ]
  },
  {
   "cell_type": "markdown",
   "metadata": {},
   "source": [
    "We are free to pick whatever ansatz we wish. Here, we will start with the two-qubit alternating ansatz and simplify it to single qubit rotations. The two-qubit alternating ansatz is built-in to the `PauliSystem` class and can be easily created by doing:"
   ]
  },
  {
   "cell_type": "code",
   "execution_count": 10,
   "metadata": {},
   "outputs": [
    {
     "data": {
      "text/html": [
       "<pre style=\"overflow: auto; white-space: pre;\">1: ───X^Symbol(\"0\")────Y^Symbol(\"1\")────Z^Symbol(\"2\")────@───X^Symbol(\"6\")────Y^Symbol(\"7\")────Z^Symbol(\"8\")────@───X^Symbol(\"39\")───Y^Symbol(\"40\")───Z^Symbol(\"41\")───────X───X^Symbol(\"45\")───Y^Symbol(\"46\")───Z^Symbol(\"47\")───────X───\n",
       "                                                         │                                                      │                                                          │                                                          │\n",
       "2: ───X^Symbol(\"3\")────Y^Symbol(\"4\")────Z^Symbol(\"5\")────X───X^Symbol(\"9\")────Y^Symbol(\"10\")───Z^Symbol(\"11\")───X───X^Symbol(\"24\")───Y^Symbol(\"25\")───Z^Symbol(\"26\")───@───┼───X^Symbol(\"30\")───Y^Symbol(\"31\")───Z^Symbol(\"32\")───@───┼───\n",
       "                                                                                                                                                                       │   │                                                      │   │\n",
       "3: ───X^Symbol(\"12\")───Y^Symbol(\"13\")───Z^Symbol(\"14\")───@───X^Symbol(\"18\")───Y^Symbol(\"19\")───Z^Symbol(\"20\")───@───X^Symbol(\"27\")───Y^Symbol(\"28\")───Z^Symbol(\"29\")───X───┼───X^Symbol(\"33\")───Y^Symbol(\"34\")───Z^Symbol(\"35\")───X───┼───\n",
       "                                                         │                                                      │                                                          │                                                          │\n",
       "4: ───X^Symbol(\"15\")───Y^Symbol(\"16\")───Z^Symbol(\"17\")───X───X^Symbol(\"21\")───Y^Symbol(\"22\")───Z^Symbol(\"23\")───X───X^Symbol(\"36\")───Y^Symbol(\"37\")───Z^Symbol(\"38\")───────@───X^Symbol(\"42\")───Y^Symbol(\"43\")───Z^Symbol(\"44\")───────@───</pre>"
      ],
      "text/plain": [
       "1: ───X^Symbol(\"0\")────Y^Symbol(\"1\")────Z^Symbol(\"2\")────@───X^Symbol(\"6\")────Y^Symbol(\"7\")────Z^Symbol(\"8\")────@───X^Symbol(\"39\")───Y^Symbol(\"40\")───Z^Symbol(\"41\")───────X───X^Symbol(\"45\")───Y^Symbol(\"46\")───Z^Symbol(\"47\")───────X───\n",
       "                                                         │                                                      │                                                          │                                                          │\n",
       "2: ───X^Symbol(\"3\")────Y^Symbol(\"4\")────Z^Symbol(\"5\")────X───X^Symbol(\"9\")────Y^Symbol(\"10\")───Z^Symbol(\"11\")───X───X^Symbol(\"24\")───Y^Symbol(\"25\")───Z^Symbol(\"26\")───@───┼───X^Symbol(\"30\")───Y^Symbol(\"31\")───Z^Symbol(\"32\")───@───┼───\n",
       "                                                                                                                                                                       │   │                                                      │   │\n",
       "3: ───X^Symbol(\"12\")───Y^Symbol(\"13\")───Z^Symbol(\"14\")───@───X^Symbol(\"18\")───Y^Symbol(\"19\")───Z^Symbol(\"20\")───@───X^Symbol(\"27\")───Y^Symbol(\"28\")───Z^Symbol(\"29\")───X───┼───X^Symbol(\"33\")───Y^Symbol(\"34\")───Z^Symbol(\"35\")───X───┼───\n",
       "                                                         │                                                      │                                                          │                                                          │\n",
       "4: ───X^Symbol(\"15\")───Y^Symbol(\"16\")───Z^Symbol(\"17\")───X───X^Symbol(\"21\")───Y^Symbol(\"22\")───Z^Symbol(\"23\")───X───X^Symbol(\"36\")───Y^Symbol(\"37\")───Z^Symbol(\"38\")───────@───X^Symbol(\"42\")───Y^Symbol(\"43\")───Z^Symbol(\"44\")───────@───"
      ]
     },
     "execution_count": 10,
     "metadata": {},
     "output_type": "execute_result"
    }
   ],
   "source": [
    "system.make_ansatz_circuit()\n",
    "system.ansatz"
   ]
  },
  {
   "cell_type": "markdown",
   "metadata": {},
   "source": [
    "This circuit contains 48 parameters (4 qubits x 2 \"gates\" / qubit x 6 parameters / gate). (Note that printing the circuit gets cut off in the notebook, scroll side to side to see the entire circuit.) For our simple example, we will chop off some of the gates to make the optimization easier:"
   ]
  },
  {
   "cell_type": "code",
   "execution_count": 11,
   "metadata": {
    "scrolled": true
   },
   "outputs": [
    {
     "data": {
      "text/html": [
       "<pre style=\"overflow: auto; white-space: pre;\">1: ───X^Symbol(\"0\")────Y^Symbol(\"1\")────Z^Symbol(\"2\")────\n",
       "\n",
       "2: ───X^Symbol(\"3\")────Y^Symbol(\"4\")────Z^Symbol(\"5\")────\n",
       "\n",
       "3: ───X^Symbol(\"12\")───Y^Symbol(\"13\")───Z^Symbol(\"14\")───\n",
       "\n",
       "4: ───X^Symbol(\"15\")───Y^Symbol(\"16\")───Z^Symbol(\"17\")───</pre>"
      ],
      "text/plain": [
       "1: ───X^Symbol(\"0\")────Y^Symbol(\"1\")────Z^Symbol(\"2\")────\n",
       "\n",
       "2: ───X^Symbol(\"3\")────Y^Symbol(\"4\")────Z^Symbol(\"5\")────\n",
       "\n",
       "3: ───X^Symbol(\"12\")───Y^Symbol(\"13\")───Z^Symbol(\"14\")───\n",
       "\n",
       "4: ───X^Symbol(\"15\")───Y^Symbol(\"16\")───Z^Symbol(\"17\")───"
      ]
     },
     "execution_count": 11,
     "metadata": {},
     "output_type": "execute_result"
    }
   ],
   "source": [
    "# remove some of the gates and print it out\n",
    "system.ansatz = system.ansatz[:-13]\n",
    "system.ansatz"
   ]
  },
  {
   "cell_type": "markdown",
   "metadata": {},
   "source": [
    "# Computing the Cost"
   ]
  },
  {
   "cell_type": "markdown",
   "metadata": {},
   "source": [
    "The local cost function is computed via the Hadamard Test. The local cost function can be written\n",
    "\\begin{equation}\n",
    "C_1 = 1 - \\frac{1}{n} \\sum_{k = 1}^{K} \\sum_{l \\geq k}^{K} \\frac{w_{k, l} c_k c_l^*}{\\langle 0 | V^\\dagger A_k^\\dagger A_l V | 0 \\rangle} \\sum_{j = 1}^{n} \\text{Re} \\, \\langle V_{k, l}^{(j)} \\rangle\n",
    "\\end{equation}\n",
    "where\n",
    "\\begin{equation}\n",
    "\\langle V_{k, l}^{(j)} \\rangle := \\langle0^{\\otimes n}| V^\\dagger A_k^\\dagger U P_j U^\\dagger A_l V |0^{\\otimes n}\\rangle\n",
    "\\end{equation}\n",
    "and \n",
    "\\begin{equation}\n",
    "    w_{k, l} = \\begin{cases}\n",
    "    1 \\qquad \\text{if } k = l\\\\\n",
    "    2 \\qquad \\text{otherwise}\n",
    "    \\end{cases} .\n",
    "\\end{equation}\n",
    "Thus we have $(n + 1) K^2$ different circuits to run in order to compute the cost. For this simple example, $n = 4$ and $K = 1$, so we only have five circuits to run. The circuit for computing $\\langle V_{1, 1}^{(1)} \\rangle$ is shown below:"
   ]
  },
  {
   "cell_type": "code",
   "execution_count": 12,
   "metadata": {
    "scrolled": true
   },
   "outputs": [
    {
     "data": {
      "text/html": [
       "<pre style=\"overflow: auto; white-space: pre;\">0: ───H──────────────────────────────────────────────────────@───@───@───@───────@───@───@───H───M('z')───\n",
       "                                                             │   │   │   │       │   │   │\n",
       "1: ───────X^Symbol(\"0\")────Y^Symbol(\"1\")────Z^Symbol(\"2\")────┼───┼───┼───@───────┼───┼───┼────────────────\n",
       "                                                             │   │   │           │   │   │\n",
       "2: ───────X^Symbol(\"3\")────Y^Symbol(\"4\")────Z^Symbol(\"5\")────X───┼───┼───X───X───X───┼───┼────────────────\n",
       "                                                                 │   │               │   │\n",
       "3: ───────X^Symbol(\"12\")───Y^Symbol(\"13\")───Z^Symbol(\"14\")───────Y───┼───Y───Y───────Y───┼────────────────\n",
       "                                                                     │                   │\n",
       "4: ───────X^Symbol(\"15\")───Y^Symbol(\"16\")───Z^Symbol(\"17\")───────────Z───Z───Z───────────Z────────────────</pre>"
      ],
      "text/plain": [
       "0: ───H──────────────────────────────────────────────────────@───@───@───@───────@───@───@───H───M('z')───\n",
       "                                                             │   │   │   │       │   │   │\n",
       "1: ───────X^Symbol(\"0\")────Y^Symbol(\"1\")────Z^Symbol(\"2\")────┼───┼───┼───@───────┼───┼───┼────────────────\n",
       "                                                             │   │   │           │   │   │\n",
       "2: ───────X^Symbol(\"3\")────Y^Symbol(\"4\")────Z^Symbol(\"5\")────X───┼───┼───X───X───X───┼───┼────────────────\n",
       "                                                                 │   │               │   │\n",
       "3: ───────X^Symbol(\"12\")───Y^Symbol(\"13\")───Z^Symbol(\"14\")───────Y───┼───Y───Y───────Y───┼────────────────\n",
       "                                                                     │                   │\n",
       "4: ───────X^Symbol(\"15\")───Y^Symbol(\"16\")───Z^Symbol(\"17\")───────────Z───Z───Z───────────Z────────────────"
      ]
     },
     "execution_count": 12,
     "metadata": {},
     "output_type": "execute_result"
    }
   ],
   "source": [
    "system.make_hadamard_test_circuit(system.ops[0], system.ops[0], 0, \"real\")"
   ]
  },
  {
   "cell_type": "markdown",
   "metadata": {},
   "source": [
    "The circuit for computing the norm\n",
    "\\begin{equation}\n",
    "\\langle 0 | V^\\dagger A_k^\\dagger A_l V | 0 \\rangle = \\langle \\psi | A_k^\\dagger A_l | \\psi \\rangle \n",
    "\\end{equation}\n",
    "for the example $k = 0$, $l = 0$ is shown below:"
   ]
  },
  {
   "cell_type": "code",
   "execution_count": 13,
   "metadata": {},
   "outputs": [
    {
     "data": {
      "text/html": [
       "<pre style=\"overflow: auto; white-space: pre;\">0: ───H──────────────────────────────────────────────────────@───@───@───@───@───@───H───M('z')───\n",
       "                                                             │   │   │   │   │   │\n",
       "1: ───────X^Symbol(\"0\")────Y^Symbol(\"1\")────Z^Symbol(\"2\")────┼───┼───┼───┼───┼───┼────────────────\n",
       "                                                             │   │   │   │   │   │\n",
       "2: ───────X^Symbol(\"3\")────Y^Symbol(\"4\")────Z^Symbol(\"5\")────X───┼───┼───X───┼───┼────────────────\n",
       "                                                                 │   │       │   │\n",
       "3: ───────X^Symbol(\"12\")───Y^Symbol(\"13\")───Z^Symbol(\"14\")───────Y───┼───────Y───┼────────────────\n",
       "                                                                     │           │\n",
       "4: ───────X^Symbol(\"15\")───Y^Symbol(\"16\")───Z^Symbol(\"17\")───────────Z───────────Z────────────────</pre>"
      ],
      "text/plain": [
       "0: ───H──────────────────────────────────────────────────────@───@───@───@───@───@───H───M('z')───\n",
       "                                                             │   │   │   │   │   │\n",
       "1: ───────X^Symbol(\"0\")────Y^Symbol(\"1\")────Z^Symbol(\"2\")────┼───┼───┼───┼───┼───┼────────────────\n",
       "                                                             │   │   │   │   │   │\n",
       "2: ───────X^Symbol(\"3\")────Y^Symbol(\"4\")────Z^Symbol(\"5\")────X───┼───┼───X───┼───┼────────────────\n",
       "                                                                 │   │       │   │\n",
       "3: ───────X^Symbol(\"12\")───Y^Symbol(\"13\")───Z^Symbol(\"14\")───────Y───┼───────Y───┼────────────────\n",
       "                                                                     │           │\n",
       "4: ───────X^Symbol(\"15\")───Y^Symbol(\"16\")───Z^Symbol(\"17\")───────────Z───────────Z────────────────"
      ]
     },
     "execution_count": 13,
     "metadata": {},
     "output_type": "execute_result"
    }
   ],
   "source": [
    "system.make_norm_circuit(system.ops[0], system.ops[0], \"real\")"
   ]
  },
  {
   "cell_type": "markdown",
   "metadata": {},
   "source": [
    "To compute the cost, we can call `PauliSystem.cost` or `PauliSystem.eff_cost` (the latter exploits symmetries to compute the cost more efficiently) and pass in a set of angles to the ansatz gates:"
   ]
  },
  {
   "cell_type": "code",
   "execution_count": 17,
   "metadata": {},
   "outputs": [
    {
     "name": "stdout",
     "output_type": "stream",
     "text": [
      "0.93245\n",
      "Local cost C_1 = 0.93245\n",
      "Time to compute cost = 0.28073954582214355 seconds\n"
     ]
    }
   ],
   "source": [
    "# =======================================\n",
    "# compute the cost for some set of angles\n",
    "# =======================================\n",
    "\n",
    "# normalize the coefficients\n",
    "system.normalize_coeffs()\n",
    "\n",
    "# get some angles\n",
    "angles = np.random.randn(18)\n",
    "\n",
    "# compute the cost and time it\n",
    "start = time.time()\n",
    "cost = system.eff_cost(angles)\n",
    "end = time.time() - start\n",
    "\n",
    "# print out the results\n",
    "print(\"Local cost C_1 =\", cost)\n",
    "print(\"Time to compute cost =\", end, \"seconds\")"
   ]
  },
  {
   "cell_type": "markdown",
   "metadata": {},
   "source": [
    "# Solving the System"
   ]
  },
  {
   "cell_type": "markdown",
   "metadata": {},
   "source": [
    "To solve the system, we minimize the cost function. We'll do this below with the Powell optimization algorithm."
   ]
  },
  {
   "cell_type": "code",
   "execution_count": 21,
   "metadata": {},
   "outputs": [
    {
     "name": "stdout",
     "output_type": "stream",
     "text": [
      "0.9289499999999999\n",
      "0.5724\n",
      "0.9228500000000001\n",
      "0.5689500000000001\n",
      "0.60015\n",
      "0.59275\n",
      "0.5699000000000001\n",
      "0.5736\n",
      "0.5724\n",
      "0.5871\n",
      "0.57345\n",
      "0.58565\n",
      "0.56935\n",
      "0.8321000000000001\n",
      "0.8319\n",
      "0.5731999999999999\n",
      "0.78175\n",
      "0.7933\n",
      "0.5726\n",
      "1.1881\n",
      "0.90985\n",
      "0.7093499999999999\n",
      "0.68825\n",
      "0.5679\n",
      "0.486\n",
      "0.46304999999999996\n",
      "0.5261\n",
      "0.4115\n",
      "0.40464999999999995\n",
      "0.40035\n",
      "0.32825000000000004\n",
      "0.21225000000000005\n",
      "0.17710000000000004\n",
      "0.1372\n",
      "0.1362\n",
      "0.12850000000000006\n",
      "0.1290499999999999\n",
      "0.14834999999999998\n",
      "0.13065000000000004\n",
      "0.1499999999999999\n",
      "0.13560000000000005\n",
      "0.15510000000000002\n",
      "0.13044999999999995\n",
      "0.15080000000000005\n",
      "0.18009999999999993\n",
      "0.1735\n",
      "0.07740000000000002\n",
      "0.08599999999999997\n",
      "0.11825000000000008\n",
      "0.14174999999999993\n",
      "0.07645000000000002\n",
      "0.06230000000000002\n",
      "0.06555\n",
      "0.052000000000000046\n",
      "0.05315000000000003\n",
      "0.11620000000000008\n",
      "0.05710000000000004\n",
      "0.054750000000000076\n",
      "0.05630000000000002\n",
      "0.05095000000000005\n",
      "0.0616000000000001\n",
      "0.05689999999999995\n",
      "0.05625000000000002\n",
      "0.041749999999999954\n",
      "0.06655\n",
      "0.03964999999999996\n",
      "0.042200000000000015\n",
      "0.04239999999999999\n",
      "0.04544999999999999\n",
      "0.06269999999999998\n",
      "0.020950000000000024\n",
      "0.02429999999999999\n",
      "0.014599999999999946\n",
      "0.01330000000000009\n",
      "0.01905000000000001\n",
      "0.012249999999999983\n",
      "0.023499999999999965\n",
      "0.013699999999999934\n",
      "0.011299999999999977\n",
      "0.024249999999999994\n",
      "0.012049999999999894\n",
      "0.026499999999999968\n",
      "0.010050000000000114\n",
      "0.011050000000000004\n",
      "0.00824999999999998\n",
      "0.00934999999999997\n",
      "0.009550000000000058\n",
      "0.02639999999999998\n",
      "0.00924999999999998\n",
      "0.016650000000000054\n",
      "0.012899999999999912\n",
      "0.020100000000000007\n",
      "0.00824999999999998\n",
      "0.011050000000000004\n",
      "0.007800000000000029\n",
      "0.00924999999999998\n",
      "0.012199999999999989\n",
      "0.009449999999999958\n",
      "0.013100000000000112\n",
      "0.009299999999999975\n",
      "0.009700000000000042\n",
      "0.008249999999999869\n",
      "0.011150000000000104\n",
      "0.011249999999999982\n",
      "0.006050000000000111\n",
      "0.00934999999999997\n",
      "0.0034999999999999476\n",
      "0.0033999999999999586\n",
      "0.0034999999999999476\n",
      "0.003549999999999942\n",
      "0.0040999999999999925\n",
      "0.0048000000000000265\n",
      "0.0024999999999999467\n",
      "0.00495000000000001\n",
      "0.0021500000000000963\n",
      "0.0041999999999999815\n",
      "0.0026999999999999247\n",
      "0.0028000000000000247\n",
      "0.0020499999999999963\n",
      "0.0024999999999999467\n",
      "0.0019499999999998963\n",
      "0.004450000000000065\n",
      "0.003450000000000064\n",
      "0.0014499999999999513\n",
      "0.0017000000000000348\n",
      "0.0005500000000000504\n",
      "0.0007499999999999174\n",
      "0.0011999999999999789\n",
      "0.0012499999999999734\n",
      "0.0004999999999999449\n",
      "0.0010000000000000009\n",
      "0.0009000000000000119\n",
      "0.0017000000000000348\n",
      "0.0008000000000000229\n",
      "0.0009000000000000119\n",
      "0.0008500000000000174\n",
      "0.0007499999999999174\n",
      "0.0006500000000000394\n",
      "0.0007500000000000284\n",
      "0.0007500000000000284\n",
      "0.0011499999999999844\n",
      "0.0005499999999999394\n",
      "0.0005499999999999394\n",
      "0.00034999999999996145\n",
      "0.0005499999999999394\n",
      "0.0004999999999999449\n",
      "0.0006500000000000394\n",
      "0.00019999999999997797\n",
      "0.0004999999999999449\n",
      "0.00029999999999996696\n",
      "0.00044999999999995044\n",
      "0.00034999999999996145\n",
      "0.0004999999999999449\n",
      "0.00029999999999996696\n",
      "0.0007000000000000339\n",
      "0.00029999999999996696\n",
      "0.00039999999999995595\n",
      "0.0004999999999999449\n",
      "0.0003500000000000725\n",
      "0.00039999999999995595\n",
      "0.00034999999999996145\n",
      "0.0006500000000000394\n",
      "0.0005500000000000504\n",
      "0.00039999999999995595\n",
      "0.00034999999999996145\n",
      "0.0005499999999999394\n",
      "0.0006000000000000449\n",
      "0.00039999999999995595\n",
      "0.00024999999999997247\n",
      "0.00039999999999995595\n",
      "0.00014999999999998348\n",
      "0.00029999999999996696\n",
      "0.00029999999999996696\n",
      "0.00044999999999995044\n",
      "0.0006000000000000449\n",
      "0.0006000000000000449\n",
      "0.0005500000000000504\n",
      "0.00044999999999995044\n",
      "0.00019999999999997797\n",
      "0.00024999999999997247\n",
      "0.00019999999999997797\n",
      "0.00039999999999995595\n",
      "0.00029999999999996696\n",
      "0.00039999999999995595\n",
      "0.00024999999999997247\n",
      "0.0005999999999999339\n",
      "0.0005499999999999394\n",
      "0.0004999999999999449\n",
      "0.00039999999999995595\n",
      "0.00044999999999995044\n",
      "0.00034999999999996145\n",
      "0.00044999999999995044\n",
      "0.0006000000000000449\n",
      "0.00034999999999996145\n",
      "0.00034999999999996145\n",
      "0.00029999999999996696\n",
      "0.0006499999999999284\n",
      "0.00014999999999998348\n",
      "0.00039999999999995595\n",
      "0.00019999999999997797\n",
      "0.00029999999999996696\n",
      "0.00034999999999996145\n",
      "0.0005499999999999394\n",
      "0.00034999999999996145\n",
      "0.00034999999999996145\n",
      "0.0005999999999999339\n",
      "0.0007000000000000339\n",
      "0.00019999999999997797\n",
      "0.0003500000000000725\n",
      "0.00039999999999995595\n",
      "0.0006000000000000449\n",
      "0.0004999999999999449\n",
      "0.00029999999999996696\n",
      "0.00029999999999996696\n",
      "0.00040000000000006697\n",
      "0.0006000000000000449\n",
      "0.00039999999999995595\n",
      "0.00034999999999996145\n",
      "0.00024999999999997247\n",
      "0.00039999999999995595\n",
      "0.00034999999999996145\n",
      "0.00024999999999997247\n",
      "0.00024999999999997247\n",
      "0.00014999999999998348\n",
      "0.00019999999999997797\n",
      "0.00029999999999996696\n",
      "0.0007000000000000339\n"
     ]
    }
   ],
   "source": [
    "# ===============================================\n",
    "# minimize the cost (prints each cost evaluation)\n",
    "# ===============================================\n",
    "start = time.time()\n",
    "out = system.solve(x0=angles, opt_method=\"COBYLA\")\n",
    "end = time.time() - start"
   ]
  },
  {
   "cell_type": "code",
   "execution_count": 23,
   "metadata": {},
   "outputs": [
    {
     "name": "stdout",
     "output_type": "stream",
     "text": [
      "It took 1 minute(s) to solve the system.\n",
      "Number of function evaluations: 227\n"
     ]
    }
   ],
   "source": [
    "print(\"It took {} minute(s) to solve the system.\".format(round(end / 60)))\n",
    "#print(\"Number of iterations of optimization method:\", out[\"nit\"])\n",
    "print(\"Number of function evaluations:\", out[\"nfev\"])"
   ]
  },
  {
   "cell_type": "markdown",
   "metadata": {},
   "source": [
    "# Comparing the Estimated and Exact Solutions"
   ]
  },
  {
   "cell_type": "markdown",
   "metadata": {},
   "source": [
    "Below we print out the cost at the optimal angles found for the ansatz and print out the ansatz circuit with the optimal angles."
   ]
  },
  {
   "cell_type": "code",
   "execution_count": 24,
   "metadata": {},
   "outputs": [
    {
     "name": "stdout",
     "output_type": "stream",
     "text": [
      "0.00040000000000006697\n"
     ]
    },
    {
     "data": {
      "text/html": [
       "<pre style=\"overflow: auto; white-space: pre;\">1: ───X^-0.994─────Y^-0.991─────Z^0.915────\n",
       "\n",
       "2: ───X^-0.00312───Y^0.0113─────Z^-0.588───\n",
       "\n",
       "3: ───X^0.0075─────Y^0.000161───Z^0.944────\n",
       "\n",
       "4: ───X^0.00105────Y^-0.00422───Z^-0.38────</pre>"
      ],
      "text/plain": [
       "1: ───X^-0.994─────Y^-0.991─────Z^0.915────\n",
       "\n",
       "2: ───X^-0.00312───Y^0.0113─────Z^-0.588───\n",
       "\n",
       "3: ───X^0.0075─────Y^0.000161───Z^0.944────\n",
       "\n",
       "4: ───X^0.00105────Y^-0.00422───Z^-0.38────"
      ]
     },
     "execution_count": 24,
     "metadata": {},
     "output_type": "execute_result"
    }
   ],
   "source": [
    "# get the optimal angles\n",
    "opt_angles = out[\"x\"]\n",
    "\n",
    "# evaluate the cost at the optimal angles found\n",
    "system.eff_cost(opt_angles)\n",
    "\n",
    "# get a param resolver\n",
    "param_resolver = ParamResolver(\n",
    "    {str(ii) : opt_angles[ii] for ii in range(len(opt_angles))}\n",
    ")\n",
    "\n",
    "sol_circ = system.ansatz.with_parameters_resolved_by(param_resolver)\n",
    "sol_circ"
   ]
  },
  {
   "cell_type": "markdown",
   "metadata": {},
   "source": [
    "Next we convert the circuit to a unitary matrix and get the first column to check our solution with the actual solution."
   ]
  },
  {
   "cell_type": "code",
   "execution_count": 25,
   "metadata": {
    "scrolled": true
   },
   "outputs": [
    {
     "name": "stdout",
     "output_type": "stream",
     "text": [
      "overlap of computed and exact solution = (0.04257143659529625-0.9986949908283624j)\n"
     ]
    }
   ],
   "source": [
    "# get the approximate solution and compute \"bhat\"\n",
    "xhat = sol_circ.to_unitary_matrix()[:, 0]\n",
    "bhat = np.dot(matrix, xhat)\n",
    "\n",
    "# print out the overlap between \"bhat\" and the actual solution vector b\n",
    "print(\"overlap of computed and exact solution =\", np.dot(b.conj().T, bhat))"
   ]
  },
  {
   "cell_type": "code",
   "execution_count": 29,
   "metadata": {},
   "outputs": [
    {
     "name": "stdout",
     "output_type": "stream",
     "text": [
      "<bhat|bhat> = (1.0000000000000004+0j)\n",
      "<b|b> = (1+0j)\n"
     ]
    }
   ],
   "source": [
    "# make sure both vectors are normalized\n",
    "print(\"<bhat|bhat> =\", np.dot(bhat.conj().T, bhat))\n",
    "print(\"<b|b> =\", np.dot(b.conj().T, b))"
   ]
  },
  {
   "cell_type": "markdown",
   "metadata": {},
   "source": [
    "# Future Work"
   ]
  },
  {
   "cell_type": "markdown",
   "metadata": {},
   "source": [
    "* Better optimization methods.\n",
    "    * Optimize over a subset of the parameters at a time, then loop through (and reoptimize).\n",
    "    * Add random gates using simulated annealing.\n",
    "    * Compute all $nK^2$ circuits in parallel.\n",
    "* Compute expectations of local observables at each cost iteration.\n",
    "* Allow for arbitrary unitaries (not just Paulis)"
   ]
  }
 ],
 "metadata": {
  "kernelspec": {
   "display_name": "Python 3",
   "language": "python",
   "name": "python3"
  },
  "language_info": {
   "codemirror_mode": {
    "name": "ipython",
    "version": 3
   },
   "file_extension": ".py",
   "mimetype": "text/x-python",
   "name": "python",
   "nbconvert_exporter": "python",
   "pygments_lexer": "ipython3",
   "version": "3.6.4"
  }
 },
 "nbformat": 4,
 "nbformat_minor": 2
}
