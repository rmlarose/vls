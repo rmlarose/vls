{
 "cells": [
  {
   "cell_type": "markdown",
   "metadata": {},
   "source": [
    "# <p style=\"text-align: center;\"> Variational Linear Systems Code </p> \n",
    "<p style=\"text-align: center;\"> Ryan LaRose </p>"
   ]
  },
  {
   "cell_type": "markdown",
   "metadata": {},
   "source": [
    "This notebook briefly demonstrates the current state of the Variational Linear Systems (VLS) code. All code is contained in `vls_pauli.py`, which defines a `PauliSystem` class."
   ]
  },
  {
   "cell_type": "code",
   "execution_count": 1,
   "metadata": {},
   "outputs": [],
   "source": [
    "# =======\n",
    "# imports\n",
    "# =======\n",
    "import time\n",
    "\n",
    "import numpy as np\n",
    "\n",
    "from vls_pauli import PauliSystem\n",
    "from cirq import ParamResolver, Symbol, ops, Circuit, LineQubit"
   ]
  },
  {
   "cell_type": "markdown",
   "metadata": {},
   "source": [
    "# Creating a Linear System of Equations"
   ]
  },
  {
   "cell_type": "markdown",
   "metadata": {},
   "source": [
    "A `PauliSystem` consists of a matrix of the form\n",
    "\\begin{equation}\n",
    "A = \\sum_{k = 1}^{K} c_k \\sigma_k\n",
    "\\end{equation}\n",
    "where $c_k$ are complex coefficients and $\\sigma_k$ are strings of Pauli operators. In code, we represent the matrix $A$ as arrays of strings corresponding to Pauli operators. For example, to represent the Pauli operators\n",
    "\\begin{align}\n",
    "\\sigma_1 &= \\sigma_I \\otimes \\sigma_x \\otimes \\sigma_Y \\otimes \\sigma_Z\n",
    "\\end{align}\n",
    "we would write:"
   ]
  },
  {
   "cell_type": "code",
   "execution_count": 2,
   "metadata": {},
   "outputs": [],
   "source": [
    "# specify the pauli operators of the matrix\n",
    "Amat_ops = np.array([[\"I\", \"X\", \"Y\", \"Z\"]])"
   ]
  },
  {
   "cell_type": "markdown",
   "metadata": {},
   "source": [
    "Coefficients $c_k$ are stored similarly as arrays of complex values:"
   ]
  },
  {
   "cell_type": "code",
   "execution_count": null,
   "metadata": {},
   "outputs": [],
   "source": [
    "# specify the coefficients of each term in the matrix\n",
    "Amat_coeffs = np.array([1-0j])"
   ]
  },
  {
   "cell_type": "markdown",
   "metadata": {},
   "source": [
    "Finally, the solution vector\n",
    "\\begin{equation}\n",
    "|b\\rangle = U |0\\rangle\n",
    "\\end{equation}\n",
    "is represented by the unitary $U$ that (efficiently) prepares $|b\\rangle$ from the ground state. For example, the unitary $U$ could be\n",
    "\\begin{equation}\n",
    "U = \\sigma_I \\otimes \\sigma_X \\otimes \\sigma_Y \\otimes \\sigma_Z,\n",
    "\\end{equation}\n",
    "which we would represent in code as:"
   ]
  },
  {
   "cell_type": "code",
   "execution_count": null,
   "metadata": {},
   "outputs": [],
   "source": [
    "# specify the unitary that prepares the solution vector b\n",
    "Umat_ops = np.array([\"I\", \"X\", \"Y\", \"Z\"])"
   ]
  },
  {
   "cell_type": "markdown",
   "metadata": {},
   "source": [
    "To create `PauliSystem`, we can then simply feed in `Amat_coeffs`, `Amat_ops`, and `Umat_ops`."
   ]
  },
  {
   "cell_type": "code",
   "execution_count": null,
   "metadata": {},
   "outputs": [],
   "source": [
    "# create a linear system of equations\n",
    "system = PauliSystem(Amat_coeffs, Amat_ops, Umat_ops)"
   ]
  },
  {
   "cell_type": "markdown",
   "metadata": {},
   "source": [
    "# Working with a `PauliSystem`"
   ]
  },
  {
   "cell_type": "markdown",
   "metadata": {},
   "source": [
    "The `PauliSystem` class can tell basic information about the system:"
   ]
  },
  {
   "cell_type": "code",
   "execution_count": null,
   "metadata": {},
   "outputs": [],
   "source": [
    "print(\"Number of qubits in system:\", system.num_qubits())\n",
    "print(\"Size of matrix:\", system.size())"
   ]
  },
  {
   "cell_type": "markdown",
   "metadata": {},
   "source": [
    "To see the actual matrix representation of the system (in the computational basis), we can do:"
   ]
  },
  {
   "cell_type": "code",
   "execution_count": null,
   "metadata": {},
   "outputs": [],
   "source": [
    "# get the matrix of the system\n",
    "matrix = system.matrix()\n",
    "print(matrix)"
   ]
  },
  {
   "cell_type": "markdown",
   "metadata": {},
   "source": [
    "We can also see the solution vector $|b\\rangle$ by doing:"
   ]
  },
  {
   "cell_type": "code",
   "execution_count": null,
   "metadata": {},
   "outputs": [],
   "source": [
    "b = system.vector()\n",
    "print(b)"
   ]
  },
  {
   "cell_type": "markdown",
   "metadata": {},
   "source": [
    "# Creating an Ansatz"
   ]
  },
  {
   "cell_type": "markdown",
   "metadata": {},
   "source": [
    "Initially, the `PauliSystem` ansatz for $V$ is an empty circuit:"
   ]
  },
  {
   "cell_type": "code",
   "execution_count": null,
   "metadata": {},
   "outputs": [],
   "source": [
    "# print out the initial (empty) ansatz\n",
    "system.ansatz"
   ]
  },
  {
   "cell_type": "markdown",
   "metadata": {},
   "source": [
    "We are free to pick whatever ansatz we wish. Here, we will use a product of single qubit rotations."
   ]
  },
  {
   "cell_type": "code",
   "execution_count": null,
   "metadata": {},
   "outputs": [],
   "source": [
    "system.make_ansatz_circuit()\n",
    "system.ansatz"
   ]
  },
  {
   "cell_type": "markdown",
   "metadata": {},
   "source": [
    "This circuit contains 48 parameters (4 qubits x 2 \"gates\" / qubit x 6 parameters / gate). (Note that printing the circuit gets cut off in the notebook, scroll side to side to see the entire circuit.) For our simple example, we will chop off some of the gates to make the optimization easier:"
   ]
  },
  {
   "cell_type": "code",
   "execution_count": null,
   "metadata": {
    "scrolled": true
   },
   "outputs": [],
   "source": [
    "# remove some of the gates and print it out\n",
    "system.ansatz = system.ansatz[:-13]\n",
    "system.ansatz"
   ]
  },
  {
   "cell_type": "markdown",
   "metadata": {},
   "source": [
    "# Computing the Cost"
   ]
  },
  {
   "cell_type": "markdown",
   "metadata": {},
   "source": [
    "The local cost function is computed via the Hadamard Test. The local cost function can be written\n",
    "\\begin{equation}\n",
    "C_1 = 1 - \\frac{1}{n} \\sum_{k = 1}^{K} \\sum_{l \\geq k}^{K} w_{k, l} c_k c_l^* \\sum_{j = 1}^{n} \\text{Re} \\, \\langle V_{k, l}^{(j)} \\rangle\n",
    "\\end{equation}\n",
    "where\n",
    "\\begin{equation}\n",
    "\\langle V_{k, l}^{(j)} \\rangle := \\langle0^{\\otimes n}| V^\\dagger A_k^\\dagger U P_j U^\\dagger A_l V |0^{\\otimes n}\\rangle\n",
    "\\end{equation}\n",
    "and \n",
    "\\begin{equation}\n",
    "    w_{k, l} = \\begin{cases}\n",
    "    1 \\qquad \\text{if } k = l\\\\\n",
    "    2 \\qquad \\text{otherwise}\n",
    "    \\end{cases} .\n",
    "\\end{equation}\n",
    "Thus we have $n K^2$ different circuits to compute the cost. An example of one (the $k = 0$, $l = 0$, $j = 0$ term) is shown below:"
   ]
  },
  {
   "cell_type": "code",
   "execution_count": null,
   "metadata": {
    "scrolled": true
   },
   "outputs": [],
   "source": [
    "system.make_hadamard_test_circuit(system.ops[0], system.ops[0], 0, \"real\")"
   ]
  },
  {
   "cell_type": "markdown",
   "metadata": {},
   "source": [
    "The circuit for computing the norm\n",
    "\\begin{equation}\n",
    "\\langle 0 | V^\\dagger A_k^\\dagger A_l V | 0 \\rangle = \\langle \\psi | A_k^\\dagger A_l | \\psi \\rangle \n",
    "\\end{equation}\n",
    "for the example $k = 0$, $l = 0$ is shown below:"
   ]
  },
  {
   "cell_type": "code",
   "execution_count": null,
   "metadata": {},
   "outputs": [],
   "source": [
    "system.make_norm_circuit(system.ops[0], system.ops[0], \"real\")"
   ]
  },
  {
   "cell_type": "markdown",
   "metadata": {},
   "source": [
    "To compute the cost, we can call `PauliSystem.cost` or `PauliSystem.eff_cost` (the latter exploits symmetries to compute the cost more efficiently) and pass in a set of angles to the ansatz gates:"
   ]
  },
  {
   "cell_type": "code",
   "execution_count": null,
   "metadata": {},
   "outputs": [],
   "source": [
    "# =======================================\n",
    "# compute the cost for some set of angles\n",
    "# =======================================\n",
    "\n",
    "# normalize the coefficients\n",
    "system.normalize_coeffs()\n",
    "\n",
    "# get some angles\n",
    "angles = np.random.randn(18)\n",
    "\n",
    "# compute the cost and time it\n",
    "start = time.time()\n",
    "cost = system.eff_cost(angles)\n",
    "end = time.time() - start\n",
    "\n",
    "# print out the results\n",
    "print(\"Local cost C_1 =\", cost)\n",
    "print(\"Time to compute cost =\", end, \"seconds\")"
   ]
  },
  {
   "cell_type": "markdown",
   "metadata": {},
   "source": [
    "# Solving the System"
   ]
  },
  {
   "cell_type": "markdown",
   "metadata": {},
   "source": [
    "To solve the system, we minimize the cost function. We'll do this below with the Powell optimization algorithm."
   ]
  },
  {
   "cell_type": "code",
   "execution_count": null,
   "metadata": {},
   "outputs": [],
   "source": [
    "# ===============================================\n",
    "# minimize the cost (prints each cost evaluation)\n",
    "# ===============================================\n",
    "start = time.time()\n",
    "out = system.solve(x0=angles, opt_method=\"Powell\")\n",
    "end = time.time() - start"
   ]
  },
  {
   "cell_type": "code",
   "execution_count": null,
   "metadata": {},
   "outputs": [],
   "source": [
    "print(\"It took {} minutes to solve the system.\".format(round(end / 60)))\n",
    "print(\"Number of iterations of optimization method:\", out[\"nit\"])\n",
    "print(\"Number of function evaluations:\", out[\"nfev\"])"
   ]
  },
  {
   "cell_type": "markdown",
   "metadata": {},
   "source": [
    "# Comparing the Estimated and Exact Solutions"
   ]
  },
  {
   "cell_type": "code",
   "execution_count": null,
   "metadata": {},
   "outputs": [],
   "source": [
    "# get the optimal angles\n",
    "opt_angles = out[\"x\"]\n",
    "\n",
    "# evaluate the cost at the optimal angles found\n",
    "system.eff_cost(opt_angles)\n",
    "\n",
    "# get a param resolver\n",
    "param_resolver = ParamResolver(\n",
    "    {str(ii) : opt_angles[ii] for ii in range(len(opt_angles))}\n",
    ")\n",
    "\n",
    "sol_circ = system.ansatz.with_parameters_resolved_by(param_resolver)\n",
    "sol_circ"
   ]
  },
  {
   "cell_type": "code",
   "execution_count": null,
   "metadata": {
    "scrolled": true
   },
   "outputs": [],
   "source": [
    "xhat = sol_circ.to_unitary_matrix()[:, 0]\n",
    "bhat = np.dot(matrix, xhat)"
   ]
  },
  {
   "cell_type": "code",
   "execution_count": null,
   "metadata": {
    "scrolled": true
   },
   "outputs": [],
   "source": [
    "print(bhat)\n",
    "print(b)"
   ]
  },
  {
   "cell_type": "code",
   "execution_count": null,
   "metadata": {},
   "outputs": [],
   "source": [
    "print(\"overlap of computed and exact solution =\", np.dot(b.conj().T, bhat))"
   ]
  },
  {
   "cell_type": "markdown",
   "metadata": {},
   "source": [
    "# Future Work"
   ]
  },
  {
   "cell_type": "markdown",
   "metadata": {},
   "source": [
    "* Normalize the cost to be between zero and one! (divide by N_Ax)\n",
    "* Better optimization methods.\n",
    "    * Optimize over a subset of the parameters at a time, then loop through (and reoptimize).\n",
    "    * Add random gates using simulated annealing.\n",
    "    * Compute all $nK^2$ circuits in parallel.\n",
    "* Compute expectations of local observables at each cost iteration.\n",
    "* Allow for arbitrary unitaries (not just Paulis)"
   ]
  }
 ],
 "metadata": {
  "kernelspec": {
   "display_name": "Python 3",
   "language": "python",
   "name": "python3"
  },
  "language_info": {
   "codemirror_mode": {
    "name": "ipython",
    "version": 3
   },
   "file_extension": ".py",
   "mimetype": "text/x-python",
   "name": "python",
   "nbconvert_exporter": "python",
   "pygments_lexer": "ipython3",
   "version": "3.6.4"
  }
 },
 "nbformat": 4,
 "nbformat_minor": 2
}
