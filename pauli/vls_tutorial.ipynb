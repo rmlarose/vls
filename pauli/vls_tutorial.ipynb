{
 "cells": [
  {
   "cell_type": "markdown",
   "metadata": {},
   "source": [
    "# <p style=\"text-align: center;\"> Variational Linear Systems Code </p> \n",
    "<p style=\"text-align: center;\"> Ryan LaRose </p>"
   ]
  },
  {
   "cell_type": "markdown",
   "metadata": {},
   "source": [
    "This notebook briefly demonstrates the current state of the Variational Linear Systems (VLS) code. All code is contained in `vls_pauli.py`, which defines a `PauliSystem` class."
   ]
  },
  {
   "cell_type": "code",
   "execution_count": 82,
   "metadata": {},
   "outputs": [],
   "source": [
    "# imports\n",
    "import time\n",
    "\n",
    "import numpy as np\n",
    "\n",
    "from vls_pauli import PauliSystem"
   ]
  },
  {
   "cell_type": "markdown",
   "metadata": {},
   "source": [
    "# Creating a Linear System of Equations"
   ]
  },
  {
   "cell_type": "markdown",
   "metadata": {},
   "source": [
    "A `PauliSystem` consists of a matrix of the form\n",
    "\\begin{equation}\n",
    "A = \\sum_{k = 1}^{K} c_k \\sigma_k\n",
    "\\end{equation}\n",
    "where $c_k$ are complex coefficients and $\\sigma_k$ are strings of Pauli operators. In code, we represent the matrix $A$ as arrays of strings corresponding to Pauli operators. For example, to represent the Pauli operators\n",
    "\\begin{align}\n",
    "\\sigma_1 &= \\sigma_X \\otimes \\sigma_Y \\otimes \\sigma_X \\otimes \\sigma_Z \\\\\n",
    "\\sigma_2 &= \\sigma_Z \\otimes \\sigma_X \\otimes \\sigma_I \\otimes \\sigma_Y\n",
    "\\end{align}\n",
    "we would write:"
   ]
  },
  {
   "cell_type": "code",
   "execution_count": 83,
   "metadata": {},
   "outputs": [],
   "source": [
    "# specify the pauli operators of the matrix\n",
    "Amat_ops = np.array([[\"X\", \"Y\", \"X\", \"Z\"],\n",
    "                     [\"Z\", \"X\", \"I\", \"Y\"]])"
   ]
  },
  {
   "cell_type": "markdown",
   "metadata": {},
   "source": [
    "Coefficients $c_k$ are stored similarly as arrays of complex values:"
   ]
  },
  {
   "cell_type": "code",
   "execution_count": 84,
   "metadata": {},
   "outputs": [],
   "source": [
    "# specify the coefficients of each term in the matrix\n",
    "Amat_coeffs = np.array([0.5 + 0.5j, 1 - 2j])"
   ]
  },
  {
   "cell_type": "markdown",
   "metadata": {},
   "source": [
    "Finally, the solution vector\n",
    "\\begin{equation}\n",
    "|b\\rangle = U |0\\>\n",
    "\\end{equation}\n",
    "is represented by the unitary $U$ that (efficiently) prepares $|b\\rangle$ from the ground state. For example, the unitary $U$ could be\n",
    "\\begin{equation}\n",
    "U = \\sigma_x \\otimes \\sigma_x \\otimes \\sigma_I \\otimes \\sigma_X,\n",
    "\\end{equation}\n",
    "which we would represent in code as:"
   ]
  },
  {
   "cell_type": "code",
   "execution_count": 85,
   "metadata": {},
   "outputs": [],
   "source": [
    "# specify the unitary that prepares the solution vector b\n",
    "Umat_ops = np.array([\"X\", \"X\", \"I\", \"X\"])"
   ]
  },
  {
   "cell_type": "markdown",
   "metadata": {},
   "source": [
    "To create `PauliSystem`, we can then simply feed in `Amat_coeffs`, `Amat_ops`, and `Umat_ops`."
   ]
  },
  {
   "cell_type": "code",
   "execution_count": 86,
   "metadata": {},
   "outputs": [],
   "source": [
    "# create a linear system of equations\n",
    "system = PauliSystem(Amat_coeffs, Amat_ops, Umat_ops)"
   ]
  },
  {
   "cell_type": "markdown",
   "metadata": {},
   "source": [
    "# Working with a `PauliSystem`"
   ]
  },
  {
   "cell_type": "markdown",
   "metadata": {},
   "source": [
    "The `PauliSystem` class can tell basic information about the system:"
   ]
  },
  {
   "cell_type": "code",
   "execution_count": 87,
   "metadata": {},
   "outputs": [
    {
     "name": "stdout",
     "output_type": "stream",
     "text": [
      "Number of qubits in system: 4\n",
      "Size of matrix: (16, 16)\n"
     ]
    }
   ],
   "source": [
    "print(\"Number of qubits in system:\", system.num_qubits())\n",
    "print(\"Size of matrix:\", system.size())"
   ]
  },
  {
   "cell_type": "markdown",
   "metadata": {},
   "source": [
    "To see the actual matrix representation of the system (in the computational basis), we can do:"
   ]
  },
  {
   "cell_type": "code",
   "execution_count": 88,
   "metadata": {},
   "outputs": [
    {
     "name": "stdout",
     "output_type": "stream",
     "text": [
      "[[ 0. +0.j   0. +0.j   0. +0.j   0. +0.j   0. +0.j  -2. -1.j   0. +0.j\n",
      "   0. +0.j   0. +0.j   0. +0.j   0. +0.j   0. +0.j   0. +0.j   0. +0.j\n",
      "   0.5-0.5j  0. +0.j ]\n",
      " [ 0. +0.j   0. +0.j   0. +0.j   0. +0.j   2. +1.j   0. +0.j   0. +0.j\n",
      "   0. +0.j   0. +0.j   0. +0.j   0. +0.j   0. +0.j   0. +0.j   0. +0.j\n",
      "   0. +0.j  -0.5+0.5j]\n",
      " [ 0. +0.j   0. +0.j   0. +0.j   0. +0.j   0. +0.j   0. +0.j   0. +0.j\n",
      "  -2. -1.j   0. +0.j   0. +0.j   0. +0.j   0. +0.j   0.5-0.5j  0. +0.j\n",
      "   0. +0.j   0. +0.j ]\n",
      " [ 0. +0.j   0. +0.j   0. +0.j   0. +0.j   0. +0.j   0. +0.j   2. +1.j\n",
      "   0. +0.j   0. +0.j   0. +0.j   0. +0.j   0. +0.j   0. +0.j  -0.5+0.5j\n",
      "   0. +0.j   0. +0.j ]\n",
      " [ 0. +0.j  -2. -1.j   0. +0.j   0. +0.j   0. +0.j   0. +0.j   0. +0.j\n",
      "   0. +0.j   0. +0.j   0. +0.j  -0.5+0.5j  0. +0.j   0. +0.j   0. +0.j\n",
      "   0. +0.j   0. +0.j ]\n",
      " [ 2. +1.j   0. +0.j   0. +0.j   0. +0.j   0. +0.j   0. +0.j   0. +0.j\n",
      "   0. +0.j   0. +0.j   0. +0.j   0. +0.j   0.5-0.5j  0. +0.j   0. +0.j\n",
      "   0. +0.j   0. +0.j ]\n",
      " [ 0. +0.j   0. +0.j   0. +0.j  -2. -1.j   0. +0.j   0. +0.j   0. +0.j\n",
      "   0. +0.j  -0.5+0.5j  0. +0.j   0. +0.j   0. +0.j   0. +0.j   0. +0.j\n",
      "   0. +0.j   0. +0.j ]\n",
      " [ 0. +0.j   0. +0.j   2. +1.j   0. +0.j   0. +0.j   0. +0.j   0. +0.j\n",
      "   0. +0.j   0. +0.j   0.5-0.5j  0. +0.j   0. +0.j   0. +0.j   0. +0.j\n",
      "   0. +0.j   0. +0.j ]\n",
      " [ 0. +0.j   0. +0.j   0. +0.j   0. +0.j   0. +0.j   0. +0.j   0.5-0.5j\n",
      "   0. +0.j   0. +0.j   0. +0.j   0. +0.j   0. +0.j   0. +0.j   2. +1.j\n",
      "   0. +0.j   0. +0.j ]\n",
      " [ 0. +0.j   0. +0.j   0. +0.j   0. +0.j   0. +0.j   0. +0.j   0. +0.j\n",
      "  -0.5+0.5j  0. +0.j   0. +0.j   0. +0.j   0. +0.j  -2. -1.j   0. +0.j\n",
      "   0. +0.j   0. +0.j ]\n",
      " [ 0. +0.j   0. +0.j   0. +0.j   0. +0.j   0.5-0.5j  0. +0.j   0. +0.j\n",
      "   0. +0.j   0. +0.j   0. +0.j   0. +0.j   0. +0.j   0. +0.j   0. +0.j\n",
      "   0. +0.j   2. +1.j ]\n",
      " [ 0. +0.j   0. +0.j   0. +0.j   0. +0.j   0. +0.j  -0.5+0.5j  0. +0.j\n",
      "   0. +0.j   0. +0.j   0. +0.j   0. +0.j   0. +0.j   0. +0.j   0. +0.j\n",
      "  -2. -1.j   0. +0.j ]\n",
      " [ 0. +0.j   0. +0.j  -0.5+0.5j  0. +0.j   0. +0.j   0. +0.j   0. +0.j\n",
      "   0. +0.j   0. +0.j   2. +1.j   0. +0.j   0. +0.j   0. +0.j   0. +0.j\n",
      "   0. +0.j   0. +0.j ]\n",
      " [ 0. +0.j   0. +0.j   0. +0.j   0.5-0.5j  0. +0.j   0. +0.j   0. +0.j\n",
      "   0. +0.j  -2. -1.j   0. +0.j   0. +0.j   0. +0.j   0. +0.j   0. +0.j\n",
      "   0. +0.j   0. +0.j ]\n",
      " [-0.5+0.5j  0. +0.j   0. +0.j   0. +0.j   0. +0.j   0. +0.j   0. +0.j\n",
      "   0. +0.j   0. +0.j   0. +0.j   0. +0.j   2. +1.j   0. +0.j   0. +0.j\n",
      "   0. +0.j   0. +0.j ]\n",
      " [ 0. +0.j   0.5-0.5j  0. +0.j   0. +0.j   0. +0.j   0. +0.j   0. +0.j\n",
      "   0. +0.j   0. +0.j   0. +0.j  -2. -1.j   0. +0.j   0. +0.j   0. +0.j\n",
      "   0. +0.j   0. +0.j ]]\n"
     ]
    }
   ],
   "source": [
    "# get the matrix of the system\n",
    "matrix = system.matrix()\n",
    "print(matrix)"
   ]
  },
  {
   "cell_type": "markdown",
   "metadata": {},
   "source": [
    "We can also see the solution vector $|b\\rangle$ by doing:"
   ]
  },
  {
   "cell_type": "code",
   "execution_count": 89,
   "metadata": {},
   "outputs": [
    {
     "name": "stdout",
     "output_type": "stream",
     "text": [
      "[0.+0.j 0.+0.j 0.+0.j 0.+0.j 0.+0.j 0.+0.j 0.+0.j 0.+0.j 0.+0.j 0.+0.j\n",
      " 0.+0.j 0.+0.j 0.+0.j 1.+0.j 0.+0.j 0.+0.j]\n"
     ]
    }
   ],
   "source": [
    "b = system.vector()\n",
    "print(b)"
   ]
  },
  {
   "cell_type": "markdown",
   "metadata": {},
   "source": [
    "# Creating an Ansatz"
   ]
  },
  {
   "cell_type": "markdown",
   "metadata": {},
   "source": [
    "Initially, the `PauliSystem` ansatz for $V$ is an empty circuit:"
   ]
  },
  {
   "cell_type": "code",
   "execution_count": 90,
   "metadata": {},
   "outputs": [
    {
     "data": {
      "text/html": [
       "<pre style=\"overflow: auto; white-space: pre;\"></pre>"
      ],
      "text/plain": []
     },
     "execution_count": 90,
     "metadata": {},
     "output_type": "execute_result"
    }
   ],
   "source": [
    "system.ansatz"
   ]
  },
  {
   "cell_type": "markdown",
   "metadata": {},
   "source": [
    "We are free to pick whatever ansatz we wish. The method `PauliSystem.make_ansatz_circuit` is currently set to make an alternating two-qubit gate ansatz."
   ]
  },
  {
   "cell_type": "code",
   "execution_count": 91,
   "metadata": {},
   "outputs": [
    {
     "data": {
      "text/html": [
       "<pre style=\"overflow: auto; white-space: pre;\">1: ───X^Symbol(\"0\")────Y^Symbol(\"1\")────Z^Symbol(\"2\")────@───X^Symbol(\"6\")────Y^Symbol(\"7\")────Z^Symbol(\"8\")────@───X^Symbol(\"39\")───Y^Symbol(\"40\")───Z^Symbol(\"41\")───────X───X^Symbol(\"45\")───Y^Symbol(\"46\")───Z^Symbol(\"47\")───────X───\n",
       "                                                         │                                                      │                                                          │                                                          │\n",
       "2: ───X^Symbol(\"3\")────Y^Symbol(\"4\")────Z^Symbol(\"5\")────X───X^Symbol(\"9\")────Y^Symbol(\"10\")───Z^Symbol(\"11\")───X───X^Symbol(\"24\")───Y^Symbol(\"25\")───Z^Symbol(\"26\")───@───┼───X^Symbol(\"30\")───Y^Symbol(\"31\")───Z^Symbol(\"32\")───@───┼───\n",
       "                                                                                                                                                                       │   │                                                      │   │\n",
       "3: ───X^Symbol(\"12\")───Y^Symbol(\"13\")───Z^Symbol(\"14\")───@───X^Symbol(\"18\")───Y^Symbol(\"19\")───Z^Symbol(\"20\")───@───X^Symbol(\"27\")───Y^Symbol(\"28\")───Z^Symbol(\"29\")───X───┼───X^Symbol(\"33\")───Y^Symbol(\"34\")───Z^Symbol(\"35\")───X───┼───\n",
       "                                                         │                                                      │                                                          │                                                          │\n",
       "4: ───X^Symbol(\"15\")───Y^Symbol(\"16\")───Z^Symbol(\"17\")───X───X^Symbol(\"21\")───Y^Symbol(\"22\")───Z^Symbol(\"23\")───X───X^Symbol(\"36\")───Y^Symbol(\"37\")───Z^Symbol(\"38\")───────@───X^Symbol(\"42\")───Y^Symbol(\"43\")───Z^Symbol(\"44\")───────@───</pre>"
      ],
      "text/plain": [
       "1: ───X^Symbol(\"0\")────Y^Symbol(\"1\")────Z^Symbol(\"2\")────@───X^Symbol(\"6\")────Y^Symbol(\"7\")────Z^Symbol(\"8\")────@───X^Symbol(\"39\")───Y^Symbol(\"40\")───Z^Symbol(\"41\")───────X───X^Symbol(\"45\")───Y^Symbol(\"46\")───Z^Symbol(\"47\")───────X───\n",
       "                                                         │                                                      │                                                          │                                                          │\n",
       "2: ───X^Symbol(\"3\")────Y^Symbol(\"4\")────Z^Symbol(\"5\")────X───X^Symbol(\"9\")────Y^Symbol(\"10\")───Z^Symbol(\"11\")───X───X^Symbol(\"24\")───Y^Symbol(\"25\")───Z^Symbol(\"26\")───@───┼───X^Symbol(\"30\")───Y^Symbol(\"31\")───Z^Symbol(\"32\")───@───┼───\n",
       "                                                                                                                                                                       │   │                                                      │   │\n",
       "3: ───X^Symbol(\"12\")───Y^Symbol(\"13\")───Z^Symbol(\"14\")───@───X^Symbol(\"18\")───Y^Symbol(\"19\")───Z^Symbol(\"20\")───@───X^Symbol(\"27\")───Y^Symbol(\"28\")───Z^Symbol(\"29\")───X───┼───X^Symbol(\"33\")───Y^Symbol(\"34\")───Z^Symbol(\"35\")───X───┼───\n",
       "                                                         │                                                      │                                                          │                                                          │\n",
       "4: ───X^Symbol(\"15\")───Y^Symbol(\"16\")───Z^Symbol(\"17\")───X───X^Symbol(\"21\")───Y^Symbol(\"22\")───Z^Symbol(\"23\")───X───X^Symbol(\"36\")───Y^Symbol(\"37\")───Z^Symbol(\"38\")───────@───X^Symbol(\"42\")───Y^Symbol(\"43\")───Z^Symbol(\"44\")───────@───"
      ]
     },
     "execution_count": 91,
     "metadata": {},
     "output_type": "execute_result"
    }
   ],
   "source": [
    "system.make_ansatz_circuit()\n",
    "system.ansatz # note: circuits aren't printed to allow for scrollable outputs"
   ]
  },
  {
   "cell_type": "markdown",
   "metadata": {},
   "source": [
    "This circuit contains 48 parameters (4 qubits x 2 \"gates\" / qubit x 6 parameters / gate). (Note that printing the circuit gets cut off in the notebook, scroll side to side to see the entire circuit.) For our simple example, we will chop off some of the gates to make the optimization easier:"
   ]
  },
  {
   "cell_type": "code",
   "execution_count": 92,
   "metadata": {
    "scrolled": true
   },
   "outputs": [
    {
     "data": {
      "text/html": [
       "<pre style=\"overflow: auto; white-space: pre;\">1: ───X^Symbol(\"0\")────Y^Symbol(\"1\")────Z^Symbol(\"2\")────@───X^Symbol(\"6\")────Y^Symbol(\"7\")────Z^Symbol(\"8\")────\n",
       "                                                         │\n",
       "2: ───X^Symbol(\"3\")────Y^Symbol(\"4\")────Z^Symbol(\"5\")────X───X^Symbol(\"9\")────Y^Symbol(\"10\")───Z^Symbol(\"11\")───\n",
       "\n",
       "3: ───X^Symbol(\"12\")───Y^Symbol(\"13\")───Z^Symbol(\"14\")───@───X^Symbol(\"18\")───Y^Symbol(\"19\")───Z^Symbol(\"20\")───\n",
       "                                                         │\n",
       "4: ───X^Symbol(\"15\")───Y^Symbol(\"16\")───Z^Symbol(\"17\")───X───X^Symbol(\"21\")───Y^Symbol(\"22\")───Z^Symbol(\"23\")───</pre>"
      ],
      "text/plain": [
       "1: ───X^Symbol(\"0\")────Y^Symbol(\"1\")────Z^Symbol(\"2\")────@───X^Symbol(\"6\")────Y^Symbol(\"7\")────Z^Symbol(\"8\")────\n",
       "                                                         │\n",
       "2: ───X^Symbol(\"3\")────Y^Symbol(\"4\")────Z^Symbol(\"5\")────X───X^Symbol(\"9\")────Y^Symbol(\"10\")───Z^Symbol(\"11\")───\n",
       "\n",
       "3: ───X^Symbol(\"12\")───Y^Symbol(\"13\")───Z^Symbol(\"14\")───@───X^Symbol(\"18\")───Y^Symbol(\"19\")───Z^Symbol(\"20\")───\n",
       "                                                         │\n",
       "4: ───X^Symbol(\"15\")───Y^Symbol(\"16\")───Z^Symbol(\"17\")───X───X^Symbol(\"21\")───Y^Symbol(\"22\")───Z^Symbol(\"23\")───"
      ]
     },
     "execution_count": 92,
     "metadata": {},
     "output_type": "execute_result"
    }
   ],
   "source": [
    "system.ansatz = system.ansatz[:-9]\n",
    "system.ansatz"
   ]
  },
  {
   "cell_type": "markdown",
   "metadata": {},
   "source": [
    "# Computing the Cost"
   ]
  },
  {
   "cell_type": "markdown",
   "metadata": {},
   "source": [
    "The local cost function is computed via the Hadamard Test. The local cost function can be written\n",
    "\\begin{equation}\n",
    "C_1 = 1 - \\frac{1}{n} \\sum_{k = 1}^{K} \\sum_{l = 1}^{K} w_{k, l} c_k c_l^* \\sum_{j = 1}^{n} \\langle V_{k, l}^{(j)} \\rangle\n",
    "\\end{equation}\n",
    "where\n",
    "\\begin{equation}\n",
    "\\langle V_{k, l}^{(j)} \\rangle := \\langle0^{\\otimes n}| V^\\dagger A_k^\\dagger U P_j U^\\dagger A_l V |0^{\\otimes n}\\rangle\n",
    "\\end{equation}\n",
    "Thus we have $n K^2$ different circuits to compute the cost. An example of one (the $k = 0$, $l = 1$, $j = 1$ term) is shown below:"
   ]
  },
  {
   "cell_type": "code",
   "execution_count": 93,
   "metadata": {},
   "outputs": [
    {
     "data": {
      "text/html": [
       "<pre style=\"overflow: auto; white-space: pre;\">0: ───H─────────────────────────────────────────────────────────────────────────────────────────────────────────────@───@───@───@───────@───────@───@───@───H───M('z')───\n",
       "                                                                                                                    │   │   │   │       │       │   │   │\n",
       "1: ───────X^Symbol(\"0\")────Y^Symbol(\"1\")────Z^Symbol(\"2\")────@───X^Symbol(\"6\")────Y^Symbol(\"7\")────Z^Symbol(\"8\")────X───┼───┼───┼───X───@───X───Z───┼───┼────────────────\n",
       "                                                             │                                                          │   │   │                   │   │\n",
       "2: ───────X^Symbol(\"3\")────Y^Symbol(\"4\")────Z^Symbol(\"5\")────X───X^Symbol(\"9\")────Y^Symbol(\"10\")───Z^Symbol(\"11\")───────Y───┼───┼───X───────X───────X───┼────────────────\n",
       "                                                                                                                            │   │                       │\n",
       "3: ───────X^Symbol(\"12\")───Y^Symbol(\"13\")───Z^Symbol(\"14\")───@───X^Symbol(\"18\")───Y^Symbol(\"19\")───Z^Symbol(\"20\")───────────X───┼───────────────────────┼────────────────\n",
       "                                                             │                                                                  │                       │\n",
       "4: ───────X^Symbol(\"15\")───Y^Symbol(\"16\")───Z^Symbol(\"17\")───X───X^Symbol(\"21\")───Y^Symbol(\"22\")───Z^Symbol(\"23\")───────────────Z───X───────X───────────Y────────────────</pre>"
      ],
      "text/plain": [
       "0: ───H─────────────────────────────────────────────────────────────────────────────────────────────────────────────@───@───@───@───────@───────@───@───@───H───M('z')───\n",
       "                                                                                                                    │   │   │   │       │       │   │   │\n",
       "1: ───────X^Symbol(\"0\")────Y^Symbol(\"1\")────Z^Symbol(\"2\")────@───X^Symbol(\"6\")────Y^Symbol(\"7\")────Z^Symbol(\"8\")────X───┼───┼───┼───X───@───X───Z───┼───┼────────────────\n",
       "                                                             │                                                          │   │   │                   │   │\n",
       "2: ───────X^Symbol(\"3\")────Y^Symbol(\"4\")────Z^Symbol(\"5\")────X───X^Symbol(\"9\")────Y^Symbol(\"10\")───Z^Symbol(\"11\")───────Y───┼───┼───X───────X───────X───┼────────────────\n",
       "                                                                                                                            │   │                       │\n",
       "3: ───────X^Symbol(\"12\")───Y^Symbol(\"13\")───Z^Symbol(\"14\")───@───X^Symbol(\"18\")───Y^Symbol(\"19\")───Z^Symbol(\"20\")───────────X───┼───────────────────────┼────────────────\n",
       "                                                             │                                                                  │                       │\n",
       "4: ───────X^Symbol(\"15\")───Y^Symbol(\"16\")───Z^Symbol(\"17\")───X───X^Symbol(\"21\")───Y^Symbol(\"22\")───Z^Symbol(\"23\")───────────────Z───X───────X───────────Y────────────────"
      ]
     },
     "execution_count": 93,
     "metadata": {},
     "output_type": "execute_result"
    }
   ],
   "source": [
    "system.make_hadamard_test_circuit(system.ops[0], system.ops[1], 0, \"real\")"
   ]
  },
  {
   "cell_type": "markdown",
   "metadata": {},
   "source": [
    "To compute the cost, we can call `PauliSystem.cost` or `PauliSystem.eff_cost` (the latter exploits symmetries to compute the cost more efficiently) and pass in a set of angles to the ansatz gates:"
   ]
  },
  {
   "cell_type": "code",
   "execution_count": 94,
   "metadata": {},
   "outputs": [
    {
     "name": "stdout",
     "output_type": "stream",
     "text": [
      "-2.63235\n",
      "Local cost C_1 = -2.63235\n",
      "Time to compute cost = 0.6501102447509766 seconds\n"
     ]
    }
   ],
   "source": [
    "angles = np.zeros(24)\n",
    "start = time.time()\n",
    "cost = system.eff_cost(angles)\n",
    "end = time.time() - start\n",
    "print(\"Local cost C_1 =\", cost)\n",
    "print(\"Time to compute cost =\", end, \"seconds\")"
   ]
  },
  {
   "cell_type": "code",
   "execution_count": null,
   "metadata": {},
   "outputs": [],
   "source": []
  }
 ],
 "metadata": {
  "kernelspec": {
   "display_name": "Python 3",
   "language": "python",
   "name": "python3"
  },
  "language_info": {
   "codemirror_mode": {
    "name": "ipython",
    "version": 3
   },
   "file_extension": ".py",
   "mimetype": "text/x-python",
   "name": "python",
   "nbconvert_exporter": "python",
   "pygments_lexer": "ipython3",
   "version": "3.6.4"
  }
 },
 "nbformat": 4,
 "nbformat_minor": 2
}
