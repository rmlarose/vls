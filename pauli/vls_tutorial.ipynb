{
 "cells": [
  {
   "cell_type": "markdown",
   "metadata": {},
   "source": [
    "# <p style=\"text-align: center;\"> Variational Linear Systems Code </p> \n",
    "<p style=\"text-align: center;\"> Ryan LaRose </p>"
   ]
  },
  {
   "cell_type": "markdown",
   "metadata": {},
   "source": [
    "This notebook briefly demonstrates the current state of the Variational Linear Systems (VLS) code. All code is contained in `vls_pauli.py`, which defines a `PauliSystem` class."
   ]
  },
  {
   "cell_type": "code",
   "execution_count": 47,
   "metadata": {},
   "outputs": [],
   "source": [
    "# imports\n",
    "from vls_pauli import PauliSystem\n",
    "\n",
    "import numpy as np"
   ]
  },
  {
   "cell_type": "markdown",
   "metadata": {},
   "source": [
    "# Creating a Linear System of Equations"
   ]
  },
  {
   "cell_type": "markdown",
   "metadata": {},
   "source": [
    "A `PauliSystem` consists of a matrix of the form\n",
    "\\begin{equation}\n",
    "A = \\sum_{k = 1}^{K} c_k \\sigma_k\n",
    "\\end{equation}\n",
    "where $c_k$ are complex coefficients and $\\sigma_k$ are strings of Pauli operators. In code, we represent the matrix $A$ as arrays of strings corresponding to Pauli operators. For example, to represent the Pauli operators\n",
    "\\begin{align}\n",
    "\\sigma_1 &= \\sigma_X \\otimes \\sigma_Y \\otimes \\sigma_X \\\\\n",
    "\\sigma_2 &= \\sigma_Z \\otimes \\sigma_X \\otimes \\sigma_I \n",
    "\\end{align}\n",
    "we would write:"
   ]
  },
  {
   "cell_type": "code",
   "execution_count": 48,
   "metadata": {},
   "outputs": [],
   "source": [
    "Amat_ops = np.array([[\"X\", \"Y\", \"X\", \"Z\"],\n",
    "                     [\"Z\", \"X\", \"I\", \"Y\"]])"
   ]
  },
  {
   "cell_type": "markdown",
   "metadata": {},
   "source": [
    "Coefficients $c_k$ are stored similarly as arrays of complex values:"
   ]
  },
  {
   "cell_type": "code",
   "execution_count": 49,
   "metadata": {},
   "outputs": [],
   "source": [
    "Amat_coeffs = np.array([0.5 + 0.5j, 1 - 2j])"
   ]
  },
  {
   "cell_type": "markdown",
   "metadata": {},
   "source": [
    "Finally, the solution vector\n",
    "\\begin{equation}\n",
    "|b\\rangle = U |0\\>\n",
    "\\end{equation}\n",
    "is represented by the unitary $U$ that (efficiently) prepares $|b\\rangle$ from the ground state. For example, the unitary $U$ could be\n",
    "\\begin{equation}\n",
    "U = \\sigma_x \\otimes \\sigma_x \\otimes \\sigma_I,\n",
    "\\end{equation}\n",
    "which we would represent in code as:"
   ]
  },
  {
   "cell_type": "code",
   "execution_count": 50,
   "metadata": {},
   "outputs": [],
   "source": [
    "Umat_ops = np.array([\"X\", \"X\", \"I\", \"X\"])"
   ]
  },
  {
   "cell_type": "markdown",
   "metadata": {},
   "source": [
    "To create `PauliSystem`, we can then simply feed in `Amat_coeffs`, `Amat_ops`, and `Umat_ops`."
   ]
  },
  {
   "cell_type": "code",
   "execution_count": 51,
   "metadata": {},
   "outputs": [],
   "source": [
    "system = PauliSystem(Amat_coeffs, Amat_ops, Umat_ops)"
   ]
  },
  {
   "cell_type": "markdown",
   "metadata": {},
   "source": [
    "# Working with a Pauli System"
   ]
  },
  {
   "cell_type": "markdown",
   "metadata": {},
   "source": [
    "To see the actual matrix representation of the system (in the computational basis), we can do:"
   ]
  },
  {
   "cell_type": "code",
   "execution_count": 52,
   "metadata": {},
   "outputs": [
    {
     "name": "stdout",
     "output_type": "stream",
     "text": [
      "Size of matrix: (16, 16)\n",
      "[[ 0. +0.j   0. +0.j   0. +0.j   0. +0.j   0. +0.j  -2. -1.j   0. +0.j\n",
      "   0. +0.j   0. +0.j   0. +0.j   0. +0.j   0. +0.j   0. +0.j   0. +0.j\n",
      "   0.5-0.5j  0. +0.j ]\n",
      " [ 0. +0.j   0. +0.j   0. +0.j   0. +0.j   2. +1.j   0. +0.j   0. +0.j\n",
      "   0. +0.j   0. +0.j   0. +0.j   0. +0.j   0. +0.j   0. +0.j   0. +0.j\n",
      "   0. +0.j  -0.5+0.5j]\n",
      " [ 0. +0.j   0. +0.j   0. +0.j   0. +0.j   0. +0.j   0. +0.j   0. +0.j\n",
      "  -2. -1.j   0. +0.j   0. +0.j   0. +0.j   0. +0.j   0.5-0.5j  0. +0.j\n",
      "   0. +0.j   0. +0.j ]\n",
      " [ 0. +0.j   0. +0.j   0. +0.j   0. +0.j   0. +0.j   0. +0.j   2. +1.j\n",
      "   0. +0.j   0. +0.j   0. +0.j   0. +0.j   0. +0.j   0. +0.j  -0.5+0.5j\n",
      "   0. +0.j   0. +0.j ]\n",
      " [ 0. +0.j  -2. -1.j   0. +0.j   0. +0.j   0. +0.j   0. +0.j   0. +0.j\n",
      "   0. +0.j   0. +0.j   0. +0.j  -0.5+0.5j  0. +0.j   0. +0.j   0. +0.j\n",
      "   0. +0.j   0. +0.j ]\n",
      " [ 2. +1.j   0. +0.j   0. +0.j   0. +0.j   0. +0.j   0. +0.j   0. +0.j\n",
      "   0. +0.j   0. +0.j   0. +0.j   0. +0.j   0.5-0.5j  0. +0.j   0. +0.j\n",
      "   0. +0.j   0. +0.j ]\n",
      " [ 0. +0.j   0. +0.j   0. +0.j  -2. -1.j   0. +0.j   0. +0.j   0. +0.j\n",
      "   0. +0.j  -0.5+0.5j  0. +0.j   0. +0.j   0. +0.j   0. +0.j   0. +0.j\n",
      "   0. +0.j   0. +0.j ]\n",
      " [ 0. +0.j   0. +0.j   2. +1.j   0. +0.j   0. +0.j   0. +0.j   0. +0.j\n",
      "   0. +0.j   0. +0.j   0.5-0.5j  0. +0.j   0. +0.j   0. +0.j   0. +0.j\n",
      "   0. +0.j   0. +0.j ]\n",
      " [ 0. +0.j   0. +0.j   0. +0.j   0. +0.j   0. +0.j   0. +0.j   0.5-0.5j\n",
      "   0. +0.j   0. +0.j   0. +0.j   0. +0.j   0. +0.j   0. +0.j   2. +1.j\n",
      "   0. +0.j   0. +0.j ]\n",
      " [ 0. +0.j   0. +0.j   0. +0.j   0. +0.j   0. +0.j   0. +0.j   0. +0.j\n",
      "  -0.5+0.5j  0. +0.j   0. +0.j   0. +0.j   0. +0.j  -2. -1.j   0. +0.j\n",
      "   0. +0.j   0. +0.j ]\n",
      " [ 0. +0.j   0. +0.j   0. +0.j   0. +0.j   0.5-0.5j  0. +0.j   0. +0.j\n",
      "   0. +0.j   0. +0.j   0. +0.j   0. +0.j   0. +0.j   0. +0.j   0. +0.j\n",
      "   0. +0.j   2. +1.j ]\n",
      " [ 0. +0.j   0. +0.j   0. +0.j   0. +0.j   0. +0.j  -0.5+0.5j  0. +0.j\n",
      "   0. +0.j   0. +0.j   0. +0.j   0. +0.j   0. +0.j   0. +0.j   0. +0.j\n",
      "  -2. -1.j   0. +0.j ]\n",
      " [ 0. +0.j   0. +0.j  -0.5+0.5j  0. +0.j   0. +0.j   0. +0.j   0. +0.j\n",
      "   0. +0.j   0. +0.j   2. +1.j   0. +0.j   0. +0.j   0. +0.j   0. +0.j\n",
      "   0. +0.j   0. +0.j ]\n",
      " [ 0. +0.j   0. +0.j   0. +0.j   0.5-0.5j  0. +0.j   0. +0.j   0. +0.j\n",
      "   0. +0.j  -2. -1.j   0. +0.j   0. +0.j   0. +0.j   0. +0.j   0. +0.j\n",
      "   0. +0.j   0. +0.j ]\n",
      " [-0.5+0.5j  0. +0.j   0. +0.j   0. +0.j   0. +0.j   0. +0.j   0. +0.j\n",
      "   0. +0.j   0. +0.j   0. +0.j   0. +0.j   2. +1.j   0. +0.j   0. +0.j\n",
      "   0. +0.j   0. +0.j ]\n",
      " [ 0. +0.j   0.5-0.5j  0. +0.j   0. +0.j   0. +0.j   0. +0.j   0. +0.j\n",
      "   0. +0.j   0. +0.j   0. +0.j  -2. -1.j   0. +0.j   0. +0.j   0. +0.j\n",
      "   0. +0.j   0. +0.j ]]\n"
     ]
    }
   ],
   "source": [
    "matrix = system.matrix()\n",
    "print(\"Size of matrix:\", matrix.shape)\n",
    "print(matrix)"
   ]
  },
  {
   "cell_type": "markdown",
   "metadata": {},
   "source": [
    "We can also see the solution vector $|b\\rangle$ by doing:"
   ]
  },
  {
   "cell_type": "code",
   "execution_count": 53,
   "metadata": {},
   "outputs": [
    {
     "ename": "AttributeError",
     "evalue": "'PauliSystem' object has no attribute 'vector'",
     "output_type": "error",
     "traceback": [
      "\u001b[0;31m---------------------------------------------------------------------------\u001b[0m",
      "\u001b[0;31mAttributeError\u001b[0m                            Traceback (most recent call last)",
      "\u001b[0;32m<ipython-input-53-f5975e0b62dc>\u001b[0m in \u001b[0;36m<module>\u001b[0;34m()\u001b[0m\n\u001b[0;32m----> 1\u001b[0;31m \u001b[0mb\u001b[0m \u001b[0;34m=\u001b[0m \u001b[0msystem\u001b[0m\u001b[0;34m.\u001b[0m\u001b[0mvector\u001b[0m\u001b[0;34m(\u001b[0m\u001b[0;34m)\u001b[0m\u001b[0;34m\u001b[0m\u001b[0m\n\u001b[0m",
      "\u001b[0;31mAttributeError\u001b[0m: 'PauliSystem' object has no attribute 'vector'"
     ]
    }
   ],
   "source": [
    "b = system.vector()"
   ]
  },
  {
   "cell_type": "markdown",
   "metadata": {},
   "source": [
    "# Creating an Ansatz"
   ]
  },
  {
   "cell_type": "markdown",
   "metadata": {},
   "source": [
    "Initially, the `PauliSystem` ansatz for $V$ is an empty circuit:"
   ]
  },
  {
   "cell_type": "code",
   "execution_count": 24,
   "metadata": {},
   "outputs": [
    {
     "name": "stdout",
     "output_type": "stream",
     "text": [
      "\n"
     ]
    }
   ],
   "source": [
    "print(system.ansatz)"
   ]
  },
  {
   "cell_type": "markdown",
   "metadata": {},
   "source": [
    "We are free to pick whatever ansatz we wish. The method `PauliSystem.make_ansatz_circuit` is currently set to make an alternating two-qubit gate ansatz."
   ]
  },
  {
   "cell_type": "code",
   "execution_count": 26,
   "metadata": {},
   "outputs": [
    {
     "name": "stdout",
     "output_type": "stream",
     "text": [
      "1: ───X^Symbol(\"0\")────Y^Symbol(\"1\")────Z^Symbol(\"2\")────@───X^Symbol(\"6\")───Y^Symbol(\"7\")────Z^Symbol(\"8\")────@─────────────────────────────────────────────────────────────────────────────────────────────────────────────────\n",
      "                                                         │                                                     │\n",
      "2: ───X^Symbol(\"3\")────Y^Symbol(\"4\")────Z^Symbol(\"5\")────X───X^Symbol(\"9\")───Y^Symbol(\"10\")───Z^Symbol(\"11\")───X───X^Symbol(\"12\")───Y^Symbol(\"13\")───Z^Symbol(\"14\")───@───X^Symbol(\"18\")───Y^Symbol(\"19\")───Z^Symbol(\"20\")───@───\n",
      "                                                                                                                                                                      │                                                      │\n",
      "3: ───X^Symbol(\"15\")───Y^Symbol(\"16\")───Z^Symbol(\"17\")────────────────────────────────────────────────────────────────────────────────────────────────────────────────X───X^Symbol(\"21\")───Y^Symbol(\"22\")───Z^Symbol(\"23\")───X───\n"
     ]
    }
   ],
   "source": [
    "system.make_ansatz_circuit()\n",
    "print(system.ansatz)"
   ]
  },
  {
   "cell_type": "markdown",
   "metadata": {},
   "source": [
    "This circuit contains 48 parameters (4 qubits x 2 \"gates\" / qubit x 6 parameters / gate). (Note that printing the circuit gets cut off in the notebook.) For our simple example, we will chop off some of the gates to make the optimization easier:"
   ]
  },
  {
   "cell_type": "code",
   "execution_count": 27,
   "metadata": {},
   "outputs": [
    {
     "name": "stdout",
     "output_type": "stream",
     "text": [
      "1: ───X^Symbol(\"0\")────Y^Symbol(\"1\")────Z^Symbol(\"2\")────@───X^Symbol(\"6\")───Y^Symbol(\"7\")────Z^Symbol(\"8\")────\n",
      "                                                         │\n",
      "2: ───X^Symbol(\"3\")────Y^Symbol(\"4\")────Z^Symbol(\"5\")────X───X^Symbol(\"9\")───Y^Symbol(\"10\")───Z^Symbol(\"11\")───\n",
      "\n",
      "3: ───X^Symbol(\"15\")───Y^Symbol(\"16\")───Z^Symbol(\"17\")─────────────────────────────────────────────────────────\n"
     ]
    }
   ],
   "source": [
    "system.ansatz = system.ansatz[:-9]\n",
    "print(system.ansatz)"
   ]
  },
  {
   "cell_type": "code",
   "execution_count": null,
   "metadata": {},
   "outputs": [],
   "source": []
  }
 ],
 "metadata": {
  "kernelspec": {
   "display_name": "Python 3",
   "language": "python",
   "name": "python3"
  },
  "language_info": {
   "codemirror_mode": {
    "name": "ipython",
    "version": 3
   },
   "file_extension": ".py",
   "mimetype": "text/x-python",
   "name": "python",
   "nbconvert_exporter": "python",
   "pygments_lexer": "ipython3",
   "version": "3.6.4"
  }
 },
 "nbformat": 4,
 "nbformat_minor": 2
}
