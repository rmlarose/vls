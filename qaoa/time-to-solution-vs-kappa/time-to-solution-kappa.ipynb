{
 "cells": [
  {
   "cell_type": "markdown",
   "metadata": {},
   "source": [
    "# QAOA Implementation: Time to Solution vs. Condition Number"
   ]
  },
  {
   "cell_type": "markdown",
   "metadata": {},
   "source": [
    "### Description"
   ]
  },
  {
   "cell_type": "markdown",
   "metadata": {},
   "source": [
    "We seek to solve the \"quantum linear systems problem\" (QLSP) defined by the system\n",
    "\n",
    "\\begin{equation}\n",
    "    A \\mathbf{x} = \\mathbf{b}\n",
    "\\end{equation}\n",
    "\n",
    "where $A \\in \\mathbb{R}^{N \\times N}$ and $N = 2^n$. QLSP is similar to the classical linear systems problem except we only want to output a \"quantum description\" of the solution\n",
    "\n",
    "\\begin{equation}\n",
    "    | \\mathbf{x} \\rangle = |A^{-1} \\mathbf{b} \\rangle\n",
    "\\end{equation}\n",
    "\n",
    "(because we don't have a good way around this).\n",
    "\n",
    "\n",
    "This notebook explores the time to solution vs the condition condition number $\\kappa$ of the matrix $A$."
   ]
  },
  {
   "cell_type": "code",
   "execution_count": 326,
   "metadata": {},
   "outputs": [],
   "source": [
    "\"\"\"Imports for the notebook.\n",
    "\n",
    "Requires:\n",
    "    numpy\n",
    "    scipy\n",
    "    matplotlib\n",
    "\"\"\"\n",
    "from copy import deepcopy\n",
    "import matplotlib.pyplot as plt\n",
    "import numpy as np\n",
    "from scipy.linalg import expm\n",
    "from scipy.optimize import minimize\n",
    "\n",
    "# Set precision for printing\n",
    "np.set_printoptions(precision=2)"
   ]
  },
  {
   "cell_type": "markdown",
   "metadata": {},
   "source": [
    "# Defining the linear system of equations"
   ]
  },
  {
   "cell_type": "markdown",
   "metadata": {},
   "source": [
    "Here, we define the matrix for the linear system of equations. First, we define Pauli $Z$ and the identity $I$ for convenience."
   ]
  },
  {
   "cell_type": "code",
   "execution_count": 2,
   "metadata": {},
   "outputs": [],
   "source": [
    "\"\"\"Helper function and matrices for defining the linear system.\"\"\"\n",
    "# Function for tensor products with arbitrary numbers of terms\n",
    "def tensor(*args) -> np.ndarray:\n",
    "    \"\"\"Returns the tensor product over all matrices in args.\n",
    "    \n",
    "    Args:\n",
    "        Each argument must be a np.ndarray.\n",
    "    \"\"\"\n",
    "    if len(args) <= 0:\n",
    "        raise ValueError(\"No arguments provided.\")\n",
    "    args = list(args)\n",
    "    mat = args.pop(0)\n",
    "    for term in args:\n",
    "        mat = np.kron(mat, term)\n",
    "    return mat\n",
    "\n",
    "# Define the Pauli X matrix\n",
    "xmat = np.array([[0, 1],\n",
    "                 [1, 0]], dtype=np.float32)\n",
    "\n",
    "# Define the Pauli Z matrix\n",
    "zmat = np.array([[1, 0],\n",
    "                 [0, -1]], dtype=np.float32)\n",
    "\n",
    "# Define the identity matrix\n",
    "imat = np.identity(2, dtype=np.float32)"
   ]
  },
  {
   "cell_type": "code",
   "execution_count": 3,
   "metadata": {},
   "outputs": [],
   "source": [
    "\"\"\"Quick test for the tensor function.\"\"\"\n",
    "assert np.allclose(np.kron(imat, imat), tensor(imat, imat))\n",
    "assert np.allclose(np.kron(imat, zmat), tensor(imat, zmat))\n",
    "assert np.allclose(np.kron(zmat, imat), tensor(zmat, imat))\n",
    "assert np.allclose(np.kron(zmat, zmat), tensor(zmat, zmat))"
   ]
  },
  {
   "cell_type": "markdown",
   "metadata": {},
   "source": [
    "We can now determine a matrix in terms of $\\kappa$:"
   ]
  },
  {
   "cell_type": "code",
   "execution_count": 4,
   "metadata": {},
   "outputs": [],
   "source": [
    "\"\"\"Define a function to get the linear system for a given condition number kappa.\"\"\"\n",
    "def matrix(kappa: float) -> np.ndarray:\n",
    "    \"\"\"Returns the matrix A defined above as a function of kappa.\n",
    "    \n",
    "    Args:\n",
    "        kappa : float\n",
    "            Condition number of matrix. (Must be greater than or equal to zero.)\n",
    "    \"\"\"\n",
    "    # Overall coefficient for matrix\n",
    "    coeff = 1 / 4 / kappa\n",
    "    \n",
    "    # Define the terms in the system\n",
    "    term1 = 2.0 * (kappa + 1.0) * tensor(imat, imat, imat)\n",
    "    term2 = (kappa - 1.0) * tensor(imat, imat, zmat)\n",
    "    term3 = (kappa - 1.0) * tensor(imat, zmat, imat)\n",
    "    \n",
    "    # Return the matrix\n",
    "    return coeff * (term1 + term2 + term3)"
   ]
  },
  {
   "cell_type": "code",
   "execution_count": 5,
   "metadata": {},
   "outputs": [],
   "source": [
    "\"\"\"Quick test for the matrix function.\"\"\"\n",
    "for kappa in range(1, 1000):\n",
    "    assert np.isclose(np.linalg.cond(matrix(kappa)), kappa)"
   ]
  },
  {
   "cell_type": "markdown",
   "metadata": {},
   "source": [
    "Finally, we define a function for the $b$ vector in terms of the number of qubits. We always use $\\mathbf{b} = H^{\\otimes n} |0\\rangle ^{\\otimes n}$ where $n$ is the number of qubits."
   ]
  },
  {
   "cell_type": "code",
   "execution_count": 6,
   "metadata": {},
   "outputs": [],
   "source": [
    "\"\"\"Define a function to get the b vector.\"\"\"\n",
    "def vector(nqubits: int) -> np.ndarray:\n",
    "    dim = 2**nqubits\n",
    "    return 1.0 / np.sqrt(dim) * np.ones(dim)"
   ]
  },
  {
   "cell_type": "code",
   "execution_count": 7,
   "metadata": {},
   "outputs": [],
   "source": [
    "\"\"\"Quick test for the vector function.\"\"\"\n",
    "for nqubits in range(1, 10):\n",
    "    assert np.isclose(np.linalg.norm(vector(nqubits), ord=2), 1.0)"
   ]
  },
  {
   "cell_type": "markdown",
   "metadata": {},
   "source": [
    "## Defining the Hamiltonian for QAOA"
   ]
  },
  {
   "cell_type": "markdown",
   "metadata": {},
   "source": [
    "We follow the method outlined in [1] to construct our ansatz wavefunction. First, define the projector\n",
    "\n",
    "\\begin{equation}\n",
    "    P_\\mathbf{b}^\\perp := I - |\\mathbf{b}\\rangle \\langle \\mathbf{b}| .\n",
    "\\end{equation}\n",
    "\n",
    "Since $P_\\mathbf{b}^\\perp |\\mathbf{b} \\rangle = \\mathbf{0}$, we have\n",
    "\n",
    "\\begin{equation}\n",
    "    P_\\mathbf{b}^\\perp A | \\mathbf{x} \\rangle = \\mathbf{0} .\n",
    "\\end{equation} \n",
    "\n",
    "Define $B := P_\\mathbf{b}^\\perp A$ and the operator\n",
    "\n",
    "\\begin{equation}\n",
    "    H_f := B^\\dagger B = A P_\\mathbf{b}^\\perp A .\n",
    "\\end{equation} \n",
    "\n",
    "The subscript $f$ will become apparent shortly. This operator (Hamiltonian) is:\n",
    "\n",
    "* Hermitian. \n",
    "* positive-semidefinite $\\implies$ $|\\mathbf{x}\\rangle$ is the ground state.\n",
    "\n",
    "Note that $|\\mathbf{x}\\rangle$ is the _unique_ ground state since $P_\\mathbf{b}^\\perp$ is an $N - 1$ dimensional projector.\n",
    "\n",
    "We now parameterize the linear system $A$ with the schedule\n",
    "\n",
    "\\begin{equation}\n",
    "    A \\mapsto A(t) := (1 - t) I + t A\n",
    "\\end{equation}\n",
    "\n",
    "for $0 \\le t \\le 1$ and similarly the Hamiltonian\n",
    "\n",
    "\\begin{equation}\n",
    "        H(t) := A(t) P_\\mathbf{b}^\\perp A(t)  .\n",
    "\\end{equation} \n",
    "\n",
    "Note that $H(t=1) = H_f$. \n",
    "\n",
    "This defines our \"driver Hamiltonian\" in QAOA, i.e. the unitary operator\n",
    "\n",
    "\\begin{equation}\n",
    "    U_t(\\gamma) = e^{ - i \\gamma H(t) }\n",
    "\\end{equation}\n",
    "\n",
    "We will, for now, take the standard mixer Hamiltonian\n",
    "\n",
    "\\begin{equation}\n",
    "    V(\\beta) = \\prod_j e^{ - i \\beta X_j} ,\n",
    "\\end{equation}\n",
    "\n",
    "i.e., a rotation of each qubit about the $x$-axis by $2 \\beta$. \n",
    "\n",
    "The ansatz wavefunction is thus\n",
    "\n",
    "\\begin{equation}\n",
    "    |\\mathbf{\\gamma}, \\mathbf{\\beta} \\rangle := \\left[ \\prod_{1}^{p} U_{t_i} (\\gamma_i) V(\\beta_i) \\right] H^{\\otimes n} |0\\rangle^{\\otimes n}\n",
    "\\end{equation}\n",
    "\n",
    "where $n := \\log_2 N$. "
   ]
  },
  {
   "cell_type": "markdown",
   "metadata": {},
   "source": [
    "We now define the Hamiltonian in code."
   ]
  },
  {
   "cell_type": "code",
   "execution_count": 8,
   "metadata": {},
   "outputs": [],
   "source": [
    "\"\"\"Define the Hamiltonian.\"\"\"\n",
    "def ham(amat: np.ndarray, bvec: np.ndarray, time: float) -> np.ndarray:\n",
    "    \"\"\"Returns the Hamiltonian of the linear system Ax = b at time t.\"\"\"\n",
    "    # Get the dimension of the system\n",
    "    dim = len(bvec)\n",
    "    \n",
    "    # Get the b projector\n",
    "    bprojector = np.identity(dim) - np.outer(bvec, bvec)\n",
    "    \n",
    "    # Compute the B matrix\n",
    "    bmat = bprojector @ amat\n",
    "    \n",
    "    # Compute the final hamiltonian\n",
    "    ham_final = bmat.conj().T @ bmat\n",
    "    \n",
    "    # Return the Hamiltonian at time t\n",
    "    return (1.0 - time) * np.identity(dim) + time * ham_final"
   ]
  },
  {
   "cell_type": "code",
   "execution_count": 38,
   "metadata": {},
   "outputs": [],
   "source": [
    "\"\"\"Quick test for the ham function.\"\"\"\n",
    "amat = matrix(kappa=10)\n",
    "bvec = vector(3)\n",
    "assert np.allclose(ham(amat, bvec, time=0), np.identity(8))\n",
    "assert np.allclose(ham(amat, bvec, time=0.25), ham(amat, bvec, time=0.25).conj().T)"
   ]
  },
  {
   "cell_type": "code",
   "execution_count": 47,
   "metadata": {},
   "outputs": [
    {
     "data": {
      "text/plain": [
       "array([[ 0.88, -0.07, -0.07, -0.01, -0.12, -0.07, -0.07, -0.01],\n",
       "       [-0.07,  0.26, -0.04, -0.01, -0.07, -0.04, -0.04, -0.01],\n",
       "       [-0.07, -0.04,  0.26, -0.01, -0.07, -0.04, -0.04, -0.01],\n",
       "       [-0.01, -0.01, -0.01,  0.01, -0.01, -0.01, -0.01, -0.  ],\n",
       "       [-0.12, -0.07, -0.07, -0.01,  0.88, -0.07, -0.07, -0.01],\n",
       "       [-0.07, -0.04, -0.04, -0.01, -0.07,  0.26, -0.04, -0.01],\n",
       "       [-0.07, -0.04, -0.04, -0.01, -0.07, -0.04,  0.26, -0.01],\n",
       "       [-0.01, -0.01, -0.01, -0.  , -0.01, -0.01, -0.01,  0.01]])"
      ]
     },
     "execution_count": 47,
     "metadata": {},
     "output_type": "execute_result"
    }
   ],
   "source": [
    "\n",
    "ham(amat, bvec, time=1.0)"
   ]
  },
  {
   "cell_type": "markdown",
   "metadata": {},
   "source": [
    "And now we define functions for the driver Hamiltonian and mixer Hamiltonian in QAOA."
   ]
  },
  {
   "cell_type": "code",
   "execution_count": 10,
   "metadata": {},
   "outputs": [],
   "source": [
    "\"\"\"Define the driver Hamiltonian.\"\"\"\n",
    "def driver(gamma: float, amat: np.ndarray, bvec: np.ndarray, time: float) -> np.ndarray:\n",
    "    \"\"\"Returns the driver Hamiltonian.\"\"\"\n",
    "    # Get the Hamiltonian\n",
    "    H = ham(amat, bvec, time)\n",
    "    \n",
    "    # Return the exponentiated Hamiltonian\n",
    "    return expm(-1j * gamma * H * kappa)"
   ]
  },
  {
   "cell_type": "code",
   "execution_count": 52,
   "metadata": {},
   "outputs": [],
   "source": [
    "\"\"\"Quick tests for the driver Hamiltonian.\"\"\"\n",
    "amat = matrix(kappa=10)\n",
    "bvec = vector(3)\n",
    "assert np.allclose(driver(gamma=0.0, amat=amat, bvec=bvec, time=0), np.identity(8))\n",
    "\n",
    "# Check unitary\n",
    "driverf = driver(gamma=0.2, amat=amat, bvec=bvec, time=1.0)\n",
    "assert np.allclose(driverf.conj().T @ driverf, np.identity(8))"
   ]
  },
  {
   "cell_type": "code",
   "execution_count": 12,
   "metadata": {},
   "outputs": [],
   "source": [
    "\"\"\"Define the mixer Hamiltonian.\"\"\"\n",
    "def mixer(beta: float) -> np.ndarray:\n",
    "    # Get the tensor product of Pauli X on each qubit\n",
    "    xtensor = tensor(xmat, xmat, xmat)\n",
    "    \n",
    "    # Return the exponentiated Hamiltonian\n",
    "    return expm(-1j * beta * xtensor * kappa)"
   ]
  },
  {
   "cell_type": "code",
   "execution_count": 55,
   "metadata": {},
   "outputs": [],
   "source": [
    "\"\"\"Quick tests for the mixer Hamiltonian.\"\"\"\n",
    "assert np.allclose(mixer(beta=0.0), np.identity(8))\n",
    "\n",
    "# Check unitary\n",
    "mix = mixer(beta=0.5)\n",
    "assert np.allclose(mix.conj().T @ mix, np.identity(8))"
   ]
  },
  {
   "cell_type": "markdown",
   "metadata": {},
   "source": [
    "Last, we need to define the initial state $H^{\\otimes n} |0\\rangle ^{\\otimes n}$ for QAOA:"
   ]
  },
  {
   "cell_type": "code",
   "execution_count": 56,
   "metadata": {},
   "outputs": [],
   "source": [
    "def init_state(nqubits: int) -> np.ndarray:\n",
    "    \"\"\"Returns the initial state H|0> for QAOA.\"\"\"\n",
    "    dim = 2**nqubits\n",
    "    return 1.0 / np.sqrt(dim) * np.ones(dim)"
   ]
  },
  {
   "cell_type": "code",
   "execution_count": 60,
   "metadata": {},
   "outputs": [],
   "source": [
    "\"\"\"Quick tests for initial state.\"\"\"\n",
    "for nqubits in range(1, 10):\n",
    "    assert np.isclose(np.linalg.norm(init_state(nqubits), ord=2), 1.0)\n",
    "    assert len(set(init_state(nqubits))) == 1"
   ]
  },
  {
   "cell_type": "markdown",
   "metadata": {},
   "source": [
    "## Defining the Ansatz"
   ]
  },
  {
   "cell_type": "markdown",
   "metadata": {},
   "source": [
    "The following functions will assume the matrix $A$ and vector $\\mathbf{b}$ have been defined (to limit the number of arguments)."
   ]
  },
  {
   "cell_type": "code",
   "execution_count": 93,
   "metadata": {},
   "outputs": [],
   "source": [
    "\"\"\"Defining the matrix, vector, and time to get the Hamiltonian, ansatz, and state.\"\"\"\n",
    "amat = matrix(kappa=10)\n",
    "bvec = vector(3)\n",
    "xclassical = np.linalg.solve(amat, bvec)\n",
    "time = 1.0\n",
    "Hf = ham(amat, bvec, 1.0)"
   ]
  },
  {
   "cell_type": "code",
   "execution_count": 94,
   "metadata": {},
   "outputs": [
    {
     "name": "stdout",
     "output_type": "stream",
     "text": [
      "Classical solution:\n",
      "[0.35 0.64 0.64 3.54 0.35 0.64 0.64 3.54]\n"
     ]
    }
   ],
   "source": [
    "\"\"\"Print out the classical solution.\"\"\"\n",
    "print(\"Classical solution:\")\n",
    "print(xclassical)"
   ]
  },
  {
   "cell_type": "code",
   "execution_count": 95,
   "metadata": {},
   "outputs": [],
   "source": [
    "def state(gammas: list, betas: list) -> np.ndarray:\n",
    "    \"\"\"Returns the state of the computer after the QAOA ansatz is applied with parameters gammas and betas.\"\"\"\n",
    "    if len(gammas) != len(betas):\n",
    "        raise ValueError(\"Length of gammas must be equal to the length of betas.\")\n",
    "    \n",
    "    if len(gammas) == 0:\n",
    "        raise ValueError(\"Need at least one parameter.\")\n",
    "    \n",
    "    # Get the first gamma and beta value\n",
    "    gamma0 = gammas[0]\n",
    "    beta0 = betas[0]\n",
    "    \n",
    "    # Get the first driver and mixer unitaries\n",
    "    driver0 = driver(gamma0, amat, bvec, time)\n",
    "    mixer0 = mixer(beta0)\n",
    "    \n",
    "    # Get the ansatz after this state\n",
    "    ansatz = np.dot(driver0, mixer0)\n",
    "    \n",
    "    # Do this for all parameters\n",
    "    for gamma, beta in zip(gammas[1:], betas[1:]):\n",
    "        drive = driver(gamma, amat, bvec, time)\n",
    "        mix = mixer(beta)\n",
    "        \n",
    "        ansatz = np.dot(ansatz, np.dot(drive, mix))\n",
    "    \n",
    "    # Return the ansatz applied to the initial state H|0>\n",
    "    return np.dot(ansatz, init_state(nqubits=3))"
   ]
  },
  {
   "cell_type": "code",
   "execution_count": 96,
   "metadata": {},
   "outputs": [],
   "source": [
    "\"\"\"Quick tests for the state function.\"\"\"\n",
    "assert np.allclose(state([0], [0]), init_state(3))\n",
    "assert np.allclose(state([0] * 10, [0] * 10), init_state(3))\n",
    "assert np.isclose(np.linalg.norm(state([1, 2], [3, 4]), ord=2), 1.0, atol=1e-4)\n",
    "assert np.allclose(state([0, 0, 1], [0, 0, 2]), state([1], [2]))\n",
    "assert np.allclose(state([0, 0, 1], [0, 0, 2]), state([1, 0, 0, 0], [2, 0, 0, 0]))"
   ]
  },
  {
   "cell_type": "markdown",
   "metadata": {},
   "source": [
    "## Defining the cost"
   ]
  },
  {
   "cell_type": "markdown",
   "metadata": {},
   "source": [
    "We now define the cost function for a set of parameters."
   ]
  },
  {
   "cell_type": "code",
   "execution_count": 106,
   "metadata": {},
   "outputs": [],
   "source": [
    "\"\"\"Defining the cost function.\"\"\"\n",
    "def cost(angles: list) -> float:\n",
    "    \"\"\"Returns the cost at the given angles, formatted as [gammas, betas].\"\"\"\n",
    "    if len(angles) % 2 != 0:\n",
    "        raise ValueError(\"Number of parameters must be even.\")\n",
    "    \n",
    "    # Get the gammas and betas\n",
    "    gammas = angles[:len(angles) // 2]\n",
    "    betas = angles[len(angles) // 2:]\n",
    "    \n",
    "    # Get the state\n",
    "    psi = state(gammas, betas)\n",
    "    \n",
    "    # Compute the overlap\n",
    "    overlap = abs(np.dot(psi.conj().T, xclassical))**2 / np.dot(xclassical, xclassical)\n",
    "    \n",
    "    # Compute the cost to minimize\n",
    "    obj = 1.0 - overlap\n",
    "    \n",
    "    # Display it to the console\n",
    "    print(\"Current cost:\", obj, end=\"\\r\")\n",
    "    \n",
    "    # Return the cost\n",
    "    return obj"
   ]
  },
  {
   "cell_type": "markdown",
   "metadata": {},
   "source": [
    "## Define gradient minimizer"
   ]
  },
  {
   "cell_type": "code",
   "execution_count": 337,
   "metadata": {},
   "outputs": [],
   "source": [
    "\"\"\"Defining a gradient optimizer.\"\"\"\n",
    "# Result class for optimization results\n",
    "class Result:\n",
    "        def __init__(self, fval, nfev, nit, x, tol):\n",
    "            self.fval = fval\n",
    "            self.nfev = nfev\n",
    "            self.nit = nit\n",
    "            self.x = x\n",
    "            self.success = fval < tol\n",
    "\n",
    "# Function to perform gradient optimization\n",
    "def vqgd(obj, x, eta=0.5, tol=1e-2, maxit=300, maxfev=1000):\n",
    "    \"\"\"Variational quantum gradient descent minimizer.\"\"\"\n",
    "    # Number of parameters\n",
    "    nparams = len(x)\n",
    "    \n",
    "    # Iteration counter\n",
    "    it = 0\n",
    "    \n",
    "    # Function evaluation counter\n",
    "    nfev = 0\n",
    "    \n",
    "    while obj(x) > tol and it < maxit and nfev < maxfev:\n",
    "        \n",
    "        for ii in range(nparams):\n",
    "            # ======================\n",
    "            # Compute the derivative\n",
    "            # ======================\n",
    "            \n",
    "            # Copy current parameters\n",
    "            xplus = deepcopy(x)\n",
    "            xminus = deepcopy(x)\n",
    "            \n",
    "            # Shift by plus/minus pi / 2\n",
    "            xplus[ii] += np.pi / 2\n",
    "            xminus[ii] -= np.pi / 2\n",
    "            \n",
    "            # Compute the derivative\n",
    "            deriv = 0.5 * (obj(xplus) - obj(xminus))\n",
    "            \n",
    "            # ====================\n",
    "            # Update the parameter\n",
    "            # ====================\n",
    "            \n",
    "            x[ii] += eta * deriv\n",
    "        \n",
    "        # Increment the counters\n",
    "        it += 1\n",
    "        nfev += 1 + 2 * nparams\n",
    "    \n",
    "    return Result(obj(x), nfev, it, x, tol)"
   ]
  },
  {
   "cell_type": "markdown",
   "metadata": {},
   "source": [
    "## Do the minimization"
   ]
  },
  {
   "cell_type": "code",
   "execution_count": 404,
   "metadata": {
    "scrolled": true
   },
   "outputs": [
    {
     "name": "stdout",
     "output_type": "stream",
     "text": [
      "Current cost: 0.0009611979043929741\n",
      "nfev = 189\n",
      "obj = 0.0009611979043929741\n"
     ]
    }
   ],
   "source": [
    "\"\"\"Do the minimization for a particular matrix using scipy.optimize.minimize.\"\"\"\n",
    "# Define the system\n",
    "kappa = 1000\n",
    "amat = matrix(kappa)\n",
    "bvec = vector(3)\n",
    "xclassical = np.linalg.solve(amat, bvec)\n",
    "time = 1.0\n",
    "\n",
    "# Random set of initial parameters\n",
    "x0 = np.random.randn(10)\n",
    "\n",
    "# Do the minimization\n",
    "out = minimize(cost, x0, method=\"COBYLA\", tol=1e-7)\n",
    "\n",
    "print()\n",
    "print(\"nfev =\", out.nfev)\n",
    "print(\"obj =\", out.fun)"
   ]
  },
  {
   "cell_type": "code",
   "execution_count": 381,
   "metadata": {},
   "outputs": [],
   "source": [
    "\"\"\"Define functions to return the final state and overlap with classical solution.\n",
    "\n",
    "REQUIRES: Output of scipy.optimize.minimize to be named `out`.\n",
    "\"\"\"\n",
    "def final_state():\n",
    "    return state(out.x[:len(out.x) // 2], out.x[len(out.x) // 2: ])\n",
    "\n",
    "def final_overlap():\n",
    "    return abs(np.dot(final_state(), xclassical))**2 / np.dot(xclassical, xclassical)"
   ]
  },
  {
   "cell_type": "code",
   "execution_count": 382,
   "metadata": {},
   "outputs": [
    {
     "name": "stdout",
     "output_type": "stream",
     "text": [
      "Final overlap: 1.0000001462562824\n"
     ]
    }
   ],
   "source": [
    "print(\"Final overlap:\", final_overlap())"
   ]
  },
  {
   "cell_type": "markdown",
   "metadata": {},
   "source": [
    "## Do the minimization while varying kappa"
   ]
  },
  {
   "cell_type": "code",
   "execution_count": 421,
   "metadata": {},
   "outputs": [],
   "source": [
    "\"\"\"Some constants and hyperparameters.\"\"\"\n",
    "# Number of trials to do at each kappa value\n",
    "NUM_TRIALS = 50\n",
    "\n",
    "# Minimum fidelity to consider a solution\n",
    "MIN_FIDELITY = 0.95\n",
    "\n",
    "# Kappa values to consider\n",
    "kappas = np.linspace(1, 1000, 50)\n",
    "\n",
    "# Number to average over\n",
    "SHOTS = 10"
   ]
  },
  {
   "cell_type": "code",
   "execution_count": null,
   "metadata": {
    "scrolled": false
   },
   "outputs": [
    {
     "name": "stdout",
     "output_type": "stream",
     "text": [
      "Status: kappa = 1.0\n",
      "Current cost: 4.178716794811521e-0887\n",
      "kappa = 1.0 completed in 1 trial(s).\n",
      "fidelity = 0.999999958212832\n",
      "\n",
      "Status: kappa = 21.387755102040817\n",
      "Current cost: 4.571274456488528e-055\n",
      "kappa = 21.387755102040817 completed in 1 trial(s).\n",
      "fidelity = 0.9999542872554351\n",
      "\n",
      "Status: kappa = 41.775510204081634\n",
      "Current cost: 7.978646834061465e-055\n",
      "kappa = 41.775510204081634 completed in 1 trial(s).\n",
      "fidelity = 0.9999202135316594\n",
      "\n",
      "Status: kappa = 62.163265306122454\n",
      "Current cost: 0.0025560457798600167\n",
      "kappa = 62.163265306122454 completed in 1 trial(s).\n",
      "fidelity = 0.99744395422014\n",
      "\n",
      "Status: kappa = 82.55102040816327\n",
      "Current cost: 0.0028031964053701897\n",
      "kappa = 82.55102040816327 completed in 1 trial(s).\n",
      "fidelity = 0.9971968035946298\n",
      "\n",
      "Status: kappa = 102.93877551020408\n",
      "Current cost: 0.0009347243106139214\n",
      "kappa = 102.93877551020408 completed in 1 trial(s).\n",
      "fidelity = 0.9990652756893861\n",
      "\n",
      "Status: kappa = 123.32653061224491\n",
      "Current cost: 0.00040194447585994997\n",
      "kappa = 123.32653061224491 completed in 1 trial(s).\n",
      "fidelity = 0.99959805552414\n",
      "\n",
      "Status: kappa = 143.71428571428572\n",
      "Current cost: 0.008054640040233596\n",
      "kappa = 143.71428571428572 completed in 1 trial(s).\n",
      "fidelity = 0.9919453599597664\n",
      "\n",
      "Status: kappa = 164.10204081632654\n",
      "Current cost: 0.010250233465839975\n",
      "kappa = 164.10204081632654 completed in 2 trial(s).\n",
      "fidelity = 0.98974976653416\n",
      "\n",
      "Status: kappa = 184.48979591836735\n",
      "Current cost: 0.0025398184826554984\n",
      "kappa = 184.48979591836735 completed in 1 trial(s).\n",
      "fidelity = 0.9974601815173445\n",
      "\n",
      "Status: kappa = 204.87755102040816\n",
      "Current cost: 0.047825454797848395\n",
      "kappa = 204.87755102040816 completed in 1 trial(s).\n",
      "fidelity = 0.9521745452021516\n",
      "\n",
      "Status: kappa = 225.26530612244898\n",
      "Current cost: 0.009827835903444937\n",
      "kappa = 225.26530612244898 completed in 3 trial(s).\n",
      "fidelity = 0.9901721640965551\n",
      "\n",
      "Status: kappa = 245.65306122448982\n",
      "Current cost: 0.027570339735586984\n",
      "kappa = 245.65306122448982 completed in 1 trial(s).\n",
      "fidelity = 0.972429660264413\n",
      "\n",
      "Status: kappa = 266.0408163265306\n",
      "Current cost: 0.047575653318169486\n",
      "kappa = 266.0408163265306 completed in 2 trial(s).\n",
      "fidelity = 0.9524243466818305\n",
      "\n",
      "Status: kappa = 286.42857142857144\n",
      "Current cost: 0.040416221034741965\n",
      "kappa = 286.42857142857144 completed in 1 trial(s).\n",
      "fidelity = 0.959583778965258\n",
      "\n",
      "Status: kappa = 306.81632653061223\n",
      "Current cost: 0.008819040939863632\n",
      "kappa = 306.81632653061223 completed in 2 trial(s).\n",
      "fidelity = 0.9911809590601364\n",
      "\n",
      "Status: kappa = 327.2040816326531\n",
      "Current cost: 0.006967536577252131\n",
      "kappa = 327.2040816326531 completed in 1 trial(s).\n",
      "fidelity = 0.9930324634227479\n",
      "\n",
      "Status: kappa = 347.5918367346939\n",
      "Current cost: 0.029123168250230425\n",
      "kappa = 347.5918367346939 completed in 3 trial(s).\n",
      "fidelity = 0.9708768317497696\n",
      "\n",
      "Status: kappa = 367.9795918367347\n",
      "Current cost: 0.007641946040453651\n",
      "kappa = 367.9795918367347 completed in 2 trial(s).\n",
      "fidelity = 0.9923580539595463\n",
      "\n",
      "Status: kappa = 388.36734693877554\n",
      "Current cost: 0.018545667628025786\n",
      "kappa = 388.36734693877554 completed in 2 trial(s).\n",
      "fidelity = 0.9814543323719742\n",
      "\n",
      "Status: kappa = 408.7551020408163\n",
      "Current cost: 0.038233392021473584\n",
      "kappa = 408.7551020408163 completed in 5 trial(s).\n",
      "fidelity = 0.9617666079785264\n",
      "\n",
      "Status: kappa = 429.14285714285717\n",
      "Current cost: 0.0042325808369457765\n",
      "kappa = 429.14285714285717 completed in 1 trial(s).\n",
      "fidelity = 0.9957674191630542\n",
      "\n",
      "Status: kappa = 449.53061224489795\n",
      "Current cost: 0.0007621779365271086\n",
      "kappa = 449.53061224489795 completed in 1 trial(s).\n",
      "fidelity = 0.9992378220634729\n",
      "\n",
      "Status: kappa = 469.9183673469388\n",
      "Current cost: 0.039272557612864974\n",
      "kappa = 469.9183673469388 completed in 1 trial(s).\n",
      "fidelity = 0.960727442387135\n",
      "\n",
      "Status: kappa = 490.30612244897964\n",
      "Current cost: 0.010355017610908956\n",
      "kappa = 490.30612244897964 completed in 4 trial(s).\n",
      "fidelity = 0.989644982389091\n",
      "\n",
      "Status: kappa = 510.6938775510204\n",
      "Current cost: 0.0076061849281525714\n",
      "kappa = 510.6938775510204 completed in 1 trial(s).\n",
      "fidelity = 0.9923938150718474\n",
      "\n",
      "Status: kappa = 531.0816326530612\n",
      "Current cost: 0.017610085291478456\n",
      "kappa = 531.0816326530612 completed in 3 trial(s).\n",
      "fidelity = 0.9823899147085215\n",
      "\n",
      "Status: kappa = 551.469387755102\n",
      "Current cost: 0.034215762251586515\n",
      "kappa = 551.469387755102 completed in 2 trial(s).\n",
      "fidelity = 0.9657842377484135\n",
      "\n",
      "Status: kappa = 571.8571428571429\n",
      "Current cost: 0.021121128017739024\n",
      "kappa = 571.8571428571429 completed in 3 trial(s).\n",
      "fidelity = 0.978878871982261\n",
      "\n",
      "Status: kappa = 592.2448979591837\n",
      "Current cost: 0.040534919725666366\n",
      "kappa = 592.2448979591837 completed in 7 trial(s).\n",
      "fidelity = 0.9594650802743336\n",
      "\n",
      "Status: kappa = 612.6326530612245\n",
      "Current cost: 0.031159787873934808\n",
      "kappa = 612.6326530612245 completed in 1 trial(s).\n",
      "fidelity = 0.9688402121260652\n",
      "\n",
      "Status: kappa = 633.0204081632653\n",
      "Current cost: 0.004870237458351578\n",
      "kappa = 633.0204081632653 completed in 2 trial(s).\n",
      "fidelity = 0.9951297625416484\n",
      "\n",
      "Status: kappa = 653.4081632653061\n",
      "Current cost: 0.027152133043704563\n",
      "kappa = 653.4081632653061 completed in 2 trial(s).\n",
      "fidelity = 0.9728478669562954\n",
      "\n",
      "Status: kappa = 673.795918367347\n",
      "Current cost: 0.028233624811159542\n",
      "kappa = 673.795918367347 completed in 3 trial(s).\n",
      "fidelity = 0.9717663751888405\n",
      "\n",
      "Status: kappa = 694.1836734693878\n",
      "Current cost: 0.0095322562464228437\n",
      "kappa = 694.1836734693878 completed in 1 trial(s).\n",
      "fidelity = 0.9904677437535772\n",
      "\n",
      "Status: kappa = 714.5714285714286\n",
      "Current cost: 0.047428456019180776\n",
      "kappa = 714.5714285714286 completed in 3 trial(s).\n",
      "fidelity = 0.9525715439808192\n",
      "\n",
      "Status: kappa = 734.9591836734694\n",
      "Current cost: 0.038312309520650975\n",
      "kappa = 734.9591836734694 completed in 1 trial(s).\n",
      "fidelity = 0.9616876904793491\n",
      "\n",
      "Status: kappa = 755.3469387755102\n",
      "Current cost: 0.0033438470279656407\n",
      "kappa = 755.3469387755102 completed in 4 trial(s).\n",
      "fidelity = 0.9966561529720344\n",
      "\n",
      "Status: kappa = 775.7346938775511\n",
      "Current cost: 0.014233040150615448\n",
      "kappa = 775.7346938775511 completed in 4 trial(s).\n",
      "fidelity = 0.9857669598493846\n",
      "\n",
      "Status: kappa = 796.1224489795918\n",
      "Current cost: 0.030549098093890392\n",
      "kappa = 796.1224489795918 completed in 1 trial(s).\n",
      "fidelity = 0.9694509019061096\n",
      "\n",
      "Status: kappa = 816.5102040816327\n",
      "Current cost: 0.028751256424680238\n",
      "kappa = 816.5102040816327 completed in 2 trial(s).\n",
      "fidelity = 0.9712487435753198\n",
      "\n",
      "Status: kappa = 836.8979591836735\n",
      "Current cost: 0.0042714448476242066\n",
      "kappa = 836.8979591836735 completed in 4 trial(s).\n",
      "fidelity = 0.9957285551523758\n",
      "\n",
      "Status: kappa = 857.2857142857143\n",
      "Current cost: 0.030820216663488886\n",
      "kappa = 857.2857142857143 completed in 1 trial(s).\n",
      "fidelity = 0.9691797833365111\n",
      "\n",
      "Status: kappa = 877.6734693877552\n",
      "Current cost: 0.026709752048178825\n",
      "kappa = 877.6734693877552 completed in 3 trial(s).\n",
      "fidelity = 0.9732902479518212\n",
      "\n",
      "Status: kappa = 898.0612244897959\n",
      "Current cost: 0.023164137981682598\n",
      "kappa = 898.0612244897959 completed in 4 trial(s).\n",
      "fidelity = 0.9768358620183174\n",
      "\n",
      "Status: kappa = 918.4489795918367\n",
      "Current cost: 0.009240772399182752\n",
      "kappa = 918.4489795918367 completed in 3 trial(s).\n",
      "fidelity = 0.9907592276008172\n",
      "\n",
      "Status: kappa = 938.8367346938776\n",
      "Current cost: 0.011330962694253488\n",
      "kappa = 938.8367346938776 completed in 1 trial(s).\n",
      "fidelity = 0.9886690373057465\n",
      "\n",
      "Status: kappa = 959.2244897959184\n",
      "Current cost: 0.032810348626625574\n",
      "kappa = 959.2244897959184 completed in 6 trial(s).\n",
      "fidelity = 0.9671896513733744\n",
      "\n",
      "Status: kappa = 979.6122448979593\n",
      "Current cost: 0.046264768083575165\n",
      "kappa = 979.6122448979593 completed in 1 trial(s).\n",
      "fidelity = 0.9537352319164248\n",
      "\n",
      "Status: kappa = 1000.0\n",
      "Current cost: 0.377045210657322964\r"
     ]
    }
   ],
   "source": [
    "\"\"\"Do the minimization while varying kappa.\"\"\"\n",
    "# Some constants which define the system\n",
    "bvec = vector(3)\n",
    "time = 1.0\n",
    "\n",
    "for _ in range(SHOT)\n",
    "# List to store overall number of function evaluations\n",
    "nfevs = []\n",
    "\n",
    "# List to store number of trials\n",
    "trials = []\n",
    "\n",
    "# Loop over the kappa values\n",
    "for kappa in kappas:\n",
    "    print(\"Status: kappa =\", kappa)\n",
    "    # List for the current kappa values\n",
    "    fevs = []\n",
    "    \n",
    "    # Define the system\n",
    "    amat = matrix(kappa)\n",
    "    \n",
    "    # Get the classical solution\n",
    "    xclassical = np.linalg.solve(amat, bvec)\n",
    "    \n",
    "    # Do ten trials at this kappa value\n",
    "    for trial in range(NUM_TRIALS):\n",
    "        # Random set of initial parameters\n",
    "        x0 = np.random.randn(10)\n",
    "\n",
    "        # Do the minimization\n",
    "        out = minimize(cost, x0, method=\"COBYLA\")\n",
    "        \n",
    "        if final_overlap() >= MIN_FIDELITY:\n",
    "            print()\n",
    "            print(\"kappa = {} completed in {} trial(s).\".format(kappa, trial + 1))\n",
    "            print(\"fidelity =\", final_overlap())\n",
    "            print()\n",
    "            fevs.append(out.nfev)\n",
    "            break\n",
    "\n",
    "    nfevs.append(fevs)\n",
    "    trials.append(trial + 1)"
   ]
  },
  {
   "cell_type": "code",
   "execution_count": 429,
   "metadata": {},
   "outputs": [
    {
     "data": {
      "text/plain": [
       "Text(0,0.5,'Number of attempts to solution')"
      ]
     },
     "execution_count": 429,
     "metadata": {},
     "output_type": "execute_result"
    },
    {
     "data": {
      "image/png": "[encoded data removed]",
      "text/plain": [
       "<Figure size 432x288 with 1 Axes>"
      ]
     },
     "metadata": {},
     "output_type": "display_data"
    }
   ],
   "source": [
    "\"\"\"Plot the number of trials to solution vs. kappa.\"\"\"\n",
    "plt.plot(kappas, trials, \"-o\", linewidth=2.0)\n",
    "plt.grid()\n",
    "plt.xlabel(\"Condition number\")\n",
    "plt.ylabel(\"Number of attempts to solution\")"
   ]
  },
  {
   "cell_type": "code",
   "execution_count": 423,
   "metadata": {},
   "outputs": [],
   "source": [
    "\"\"\"Extract the average number of function evaluations and the standard deviation over all trials.\"\"\"\n",
    "# Lists to store values\n",
    "avgs = []\n",
    "stds = []\n",
    "\n",
    "# Append the average and std\n",
    "for row in nfevs:\n",
    "    avgs.append(np.average(row))\n",
    "    stds.append(np.std(row))"
   ]
  },
  {
   "cell_type": "code",
   "execution_count": 424,
   "metadata": {},
   "outputs": [
    {
     "data": {
      "image/png": "[encoded data removed]",
      "text/plain": [
       "<Figure size 864x504 with 1 Axes>"
      ]
     },
     "metadata": {},
     "output_type": "display_data"
    }
   ],
   "source": [
    "\"\"\"Plot the number of function evaluations.\"\"\"\n",
    "plt.figure(figsize=(12, 7))\n",
    "plt.errorbar(kappas, avgs, stds, color=\"black\", linewidth=3.0, elinewidth=2.0, capsize=10.0)\n",
    "plt.grid()\n",
    "plt.xlabel(\"Condition Number\")\n",
    "plt.ylabel(\"Number of Function Evaluations\")\n",
    "plt.show()\n",
    "# plt.savefig(\"powell-no-trend.pdf\", format=\"pdf\")"
   ]
  },
  {
   "cell_type": "markdown",
   "metadata": {},
   "source": [
    "## Do a grid search"
   ]
  },
  {
   "cell_type": "code",
   "execution_count": null,
   "metadata": {},
   "outputs": [],
   "source": [
    "\"\"\"Do a grid search.\"\"\"\n",
    "npoints = 100\n",
    "\n",
    "costs = np.zeros([npoints, npoints])\n",
    "\n",
    "gammas = np.linspace(0.0, 2.0 * np.pi, npoints)\n",
    "betas = np.linspace(0.0, 2.0 * np.pi, npoints)\n",
    "\n",
    "for (ii, gamma) in enumerate(gammas):\n",
    "    for (jj, beta) in enumerate(betas):\n",
    "        costs[ii, jj] = cost([gamma, beta])"
   ]
  },
  {
   "cell_type": "markdown",
   "metadata": {},
   "source": [
    "## References"
   ]
  },
  {
   "cell_type": "markdown",
   "metadata": {},
   "source": [
    "[1] Yigit Subasi, Rolando D. Somma, Davide Orsucci, Quantum algorithms for systems of linear equations inspired by adiabatic quantum computing. https://arxiv.org/abs/1805.10549."
   ]
  }
 ],
 "metadata": {
  "kernelspec": {
   "display_name": "Python 3",
   "language": "python",
   "name": "python3"
  },
  "language_info": {
   "codemirror_mode": {
    "name": "ipython",
    "version": 3
   },
   "file_extension": ".py",
   "mimetype": "text/x-python",
   "name": "python",
   "nbconvert_exporter": "python",
   "pygments_lexer": "ipython3",
   "version": "3.6.8"
  }
 },
 "nbformat": 4,
 "nbformat_minor": 2
}
