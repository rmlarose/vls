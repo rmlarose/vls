{
 "cells": [
  {
   "cell_type": "markdown",
   "metadata": {},
   "source": [
    "# QAOA Implementation: Time to Solution vs. Condition Number"
   ]
  },
  {
   "cell_type": "markdown",
   "metadata": {},
   "source": [
    "### Description"
   ]
  },
  {
   "cell_type": "markdown",
   "metadata": {},
   "source": [
    "We seek to solve the \"quantum linear systems problem\" (QLSP) defined by the system\n",
    "\n",
    "\\begin{equation}\n",
    "    A \\mathbf{x} = \\mathbf{b}\n",
    "\\end{equation}\n",
    "\n",
    "where $A \\in \\mathbb{R}^{N \\times N}$ and $N = 2^n$. QLSP is similar to the classical linear systems problem except we only want to output a \"quantum description\" of the solution\n",
    "\n",
    "\\begin{equation}\n",
    "    | \\mathbf{x} \\rangle = |A^{-1} \\mathbf{b} \\rangle\n",
    "\\end{equation}\n",
    "\n",
    "(because we don't have a good way around this).\n",
    "\n",
    "\n",
    "This notebook explores the time to solution vs the condition condition number $\\kappa$ of the matrix $A$."
   ]
  },
  {
   "cell_type": "code",
   "execution_count": 1,
   "metadata": {},
   "outputs": [],
   "source": [
    "\"\"\"Imports for the notebook.\n",
    "\n",
    "Requires:\n",
    "    numpy\n",
    "    scipy\n",
    "    matplotlib\n",
    "\"\"\"\n",
    "from copy import deepcopy\n",
    "import matplotlib.pyplot as plt\n",
    "import numpy as np\n",
    "from scipy.linalg import expm\n",
    "from scipy.optimize import minimize\n",
    "\n",
    "# Set precision for printing\n",
    "np.set_printoptions(precision=2)"
   ]
  },
  {
   "cell_type": "markdown",
   "metadata": {},
   "source": [
    "# Defining the linear system of equations"
   ]
  },
  {
   "cell_type": "markdown",
   "metadata": {},
   "source": [
    "Here, we define the matrix for the linear system of equations. First, we define Pauli $Z$ and the identity $I$ for convenience."
   ]
  },
  {
   "cell_type": "code",
   "execution_count": 2,
   "metadata": {},
   "outputs": [],
   "source": [
    "\"\"\"Helper function and matrices for defining the linear system.\"\"\"\n",
    "# Function for tensor products with arbitrary numbers of terms\n",
    "def tensor(*args) -> np.ndarray:\n",
    "    \"\"\"Returns the tensor product over all matrices in args.\n",
    "    \n",
    "    Args:\n",
    "        Each argument must be a np.ndarray.\n",
    "    \"\"\"\n",
    "    if len(args) <= 0:\n",
    "        raise ValueError(\"No arguments provided.\")\n",
    "    args = list(args)\n",
    "    mat = args.pop(0)\n",
    "    for term in args:\n",
    "        mat = np.kron(mat, term)\n",
    "    return mat\n",
    "\n",
    "# Define the Pauli X matrix\n",
    "xmat = np.array([[0, 1],\n",
    "                 [1, 0]], dtype=np.float32)\n",
    "\n",
    "# Define the Pauli Z matrix\n",
    "zmat = np.array([[1, 0],\n",
    "                 [0, -1]], dtype=np.float32)\n",
    "\n",
    "# Define the identity matrix\n",
    "imat = np.identity(2, dtype=np.float32)"
   ]
  },
  {
   "cell_type": "code",
   "execution_count": 3,
   "metadata": {},
   "outputs": [],
   "source": [
    "\"\"\"Quick test for the tensor function.\"\"\"\n",
    "assert np.allclose(np.kron(imat, imat), tensor(imat, imat))\n",
    "assert np.allclose(np.kron(imat, zmat), tensor(imat, zmat))\n",
    "assert np.allclose(np.kron(zmat, imat), tensor(zmat, imat))\n",
    "assert np.allclose(np.kron(zmat, zmat), tensor(zmat, zmat))"
   ]
  },
  {
   "cell_type": "markdown",
   "metadata": {},
   "source": [
    "We can now determine a matrix in terms of $\\kappa$:"
   ]
  },
  {
   "cell_type": "code",
   "execution_count": 4,
   "metadata": {},
   "outputs": [],
   "source": [
    "\"\"\"Define a function to get the linear system for a given condition number kappa.\"\"\"\n",
    "def matrix(kappa: float) -> np.ndarray:\n",
    "    \"\"\"Returns the matrix A defined above as a function of kappa.\n",
    "    \n",
    "    Args:\n",
    "        kappa : float\n",
    "            Condition number of matrix. (Must be greater than or equal to zero.)\n",
    "    \"\"\"\n",
    "    # Overall coefficient for matrix\n",
    "    coeff = 1 / 4 / kappa\n",
    "    \n",
    "    # Define the terms in the system\n",
    "    term1 = 2.0 * (kappa + 1.0) * tensor(imat, imat, imat)\n",
    "    term2 = (kappa - 1.0) * tensor(imat, imat, zmat)\n",
    "    term3 = (kappa - 1.0) * tensor(imat, zmat, imat)\n",
    "    \n",
    "    # Return the matrix\n",
    "    return coeff * (term1 + term2 + term3)"
   ]
  },
  {
   "cell_type": "code",
   "execution_count": 5,
   "metadata": {},
   "outputs": [],
   "source": [
    "\"\"\"Quick test for the matrix function.\"\"\"\n",
    "for kappa in range(1, 1000):\n",
    "    assert np.isclose(np.linalg.cond(matrix(kappa)), kappa)"
   ]
  },
  {
   "cell_type": "markdown",
   "metadata": {},
   "source": [
    "Finally, we define a function for the $b$ vector in terms of the number of qubits. We always use $\\mathbf{b} = H^{\\otimes n} |0\\rangle ^{\\otimes n}$ where $n$ is the number of qubits."
   ]
  },
  {
   "cell_type": "code",
   "execution_count": 6,
   "metadata": {},
   "outputs": [],
   "source": [
    "\"\"\"Define a function to get the b vector.\"\"\"\n",
    "def vector(nqubits: int) -> np.ndarray:\n",
    "    dim = 2**nqubits\n",
    "    return 1.0 / np.sqrt(dim) * np.ones(dim)"
   ]
  },
  {
   "cell_type": "code",
   "execution_count": 7,
   "metadata": {},
   "outputs": [],
   "source": [
    "\"\"\"Quick test for the vector function.\"\"\"\n",
    "for nqubits in range(1, 10):\n",
    "    assert np.isclose(np.linalg.norm(vector(nqubits), ord=2), 1.0)"
   ]
  },
  {
   "cell_type": "markdown",
   "metadata": {},
   "source": [
    "## Defining the Hamiltonian for QAOA"
   ]
  },
  {
   "cell_type": "markdown",
   "metadata": {},
   "source": [
    "We follow the method outlined in [1] to construct our ansatz wavefunction. First, define the projector\n",
    "\n",
    "\\begin{equation}\n",
    "    P_\\mathbf{b}^\\perp := I - |\\mathbf{b}\\rangle \\langle \\mathbf{b}| .\n",
    "\\end{equation}\n",
    "\n",
    "Since $P_\\mathbf{b}^\\perp |\\mathbf{b} \\rangle = \\mathbf{0}$, we have\n",
    "\n",
    "\\begin{equation}\n",
    "    P_\\mathbf{b}^\\perp A | \\mathbf{x} \\rangle = \\mathbf{0} .\n",
    "\\end{equation} \n",
    "\n",
    "Define $B := P_\\mathbf{b}^\\perp A$ and the operator\n",
    "\n",
    "\\begin{equation}\n",
    "    H_f := B^\\dagger B = A P_\\mathbf{b}^\\perp A .\n",
    "\\end{equation} \n",
    "\n",
    "The subscript $f$ will become apparent shortly. This operator (Hamiltonian) is:\n",
    "\n",
    "* Hermitian. \n",
    "* positive-semidefinite $\\implies$ $|\\mathbf{x}\\rangle$ is the ground state.\n",
    "\n",
    "Note that $|\\mathbf{x}\\rangle$ is the _unique_ ground state since $P_\\mathbf{b}^\\perp$ is an $N - 1$ dimensional projector.\n",
    "\n",
    "We now parameterize the linear system $A$ with the schedule\n",
    "\n",
    "\\begin{equation}\n",
    "    A \\mapsto A(t) := (1 - t) I + t A\n",
    "\\end{equation}\n",
    "\n",
    "for $0 \\le t \\le 1$ and similarly the Hamiltonian\n",
    "\n",
    "\\begin{equation}\n",
    "        H(t) := A(t) P_\\mathbf{b}^\\perp A(t)  .\n",
    "\\end{equation} \n",
    "\n",
    "Note that $H(t=1) = H_f$. \n",
    "\n",
    "This defines our \"driver Hamiltonian\" in QAOA, i.e. the unitary operator\n",
    "\n",
    "\\begin{equation}\n",
    "    U_t(\\gamma) = e^{ - i \\gamma H(t) }\n",
    "\\end{equation}\n",
    "\n",
    "We will, for now, take the standard mixer Hamiltonian\n",
    "\n",
    "\\begin{equation}\n",
    "    V(\\beta) = \\prod_j e^{ - i \\beta X_j} ,\n",
    "\\end{equation}\n",
    "\n",
    "i.e., a rotation of each qubit about the $x$-axis by $2 \\beta$. \n",
    "\n",
    "The ansatz wavefunction is thus\n",
    "\n",
    "\\begin{equation}\n",
    "    |\\mathbf{\\gamma}, \\mathbf{\\beta} \\rangle := \\left[ \\prod_{1}^{p} U_{t_i} (\\gamma_i) V(\\beta_i) \\right] H^{\\otimes n} |0\\rangle^{\\otimes n}\n",
    "\\end{equation}\n",
    "\n",
    "where $n := \\log_2 N$. "
   ]
  },
  {
   "cell_type": "markdown",
   "metadata": {},
   "source": [
    "We now define the Hamiltonian in code."
   ]
  },
  {
   "cell_type": "code",
   "execution_count": 8,
   "metadata": {},
   "outputs": [],
   "source": [
    "\"\"\"Define the Hamiltonian.\"\"\"\n",
    "def ham(amat: np.ndarray, bvec: np.ndarray, time: float) -> np.ndarray:\n",
    "    \"\"\"Returns the Hamiltonian of the linear system Ax = b at time t.\"\"\"\n",
    "    # Get the dimension of the system\n",
    "    dim = len(bvec)\n",
    "    \n",
    "    # Get the b projector\n",
    "    bprojector = np.identity(dim) - np.outer(bvec, bvec)\n",
    "    \n",
    "    # Compute the B matrix\n",
    "    bmat = bprojector @ amat\n",
    "    \n",
    "    # Compute the final hamiltonian\n",
    "    ham_final = bmat.conj().T @ bmat\n",
    "    \n",
    "    # Return the Hamiltonian at time t\n",
    "    return (1.0 - time) * np.identity(dim) + time * ham_final"
   ]
  },
  {
   "cell_type": "code",
   "execution_count": 9,
   "metadata": {},
   "outputs": [],
   "source": [
    "\"\"\"Quick test for the ham function.\"\"\"\n",
    "amat = matrix(kappa=10)\n",
    "bvec = vector(3)\n",
    "assert np.allclose(ham(amat, bvec, time=0), np.identity(8))\n",
    "assert np.allclose(ham(amat, bvec, time=0.25), ham(amat, bvec, time=0.25).conj().T)"
   ]
  },
  {
   "cell_type": "code",
   "execution_count": 10,
   "metadata": {},
   "outputs": [
    {
     "data": {
      "text/plain": [
       "array([[ 0.88, -0.07, -0.07, -0.01, -0.12, -0.07, -0.07, -0.01],\n",
       "       [-0.07,  0.26, -0.04, -0.01, -0.07, -0.04, -0.04, -0.01],\n",
       "       [-0.07, -0.04,  0.26, -0.01, -0.07, -0.04, -0.04, -0.01],\n",
       "       [-0.01, -0.01, -0.01,  0.01, -0.01, -0.01, -0.01, -0.  ],\n",
       "       [-0.12, -0.07, -0.07, -0.01,  0.88, -0.07, -0.07, -0.01],\n",
       "       [-0.07, -0.04, -0.04, -0.01, -0.07,  0.26, -0.04, -0.01],\n",
       "       [-0.07, -0.04, -0.04, -0.01, -0.07, -0.04,  0.26, -0.01],\n",
       "       [-0.01, -0.01, -0.01, -0.  , -0.01, -0.01, -0.01,  0.01]])"
      ]
     },
     "execution_count": 10,
     "metadata": {},
     "output_type": "execute_result"
    }
   ],
   "source": [
    "\n",
    "ham(amat, bvec, time=1.0)"
   ]
  },
  {
   "cell_type": "markdown",
   "metadata": {},
   "source": [
    "And now we define functions for the driver Hamiltonian and mixer Hamiltonian in QAOA."
   ]
  },
  {
   "cell_type": "code",
   "execution_count": 11,
   "metadata": {},
   "outputs": [],
   "source": [
    "\"\"\"Define the driver Hamiltonian.\"\"\"\n",
    "def driver(gamma: float, amat: np.ndarray, bvec: np.ndarray, time: float) -> np.ndarray:\n",
    "    \"\"\"Returns the driver Hamiltonian.\"\"\"\n",
    "    # Get the Hamiltonian\n",
    "    H = ham(amat, bvec, time)\n",
    "    \n",
    "    # Return the exponentiated Hamiltonian\n",
    "    return expm(-1j * gamma * H * kappa)"
   ]
  },
  {
   "cell_type": "code",
   "execution_count": 12,
   "metadata": {},
   "outputs": [],
   "source": [
    "\"\"\"Quick tests for the driver Hamiltonian.\"\"\"\n",
    "amat = matrix(kappa=10)\n",
    "bvec = vector(3)\n",
    "assert np.allclose(driver(gamma=0.0, amat=amat, bvec=bvec, time=0), np.identity(8))\n",
    "\n",
    "# Check unitary\n",
    "driverf = driver(gamma=0.2, amat=amat, bvec=bvec, time=1.0)\n",
    "assert np.allclose(driverf.conj().T @ driverf, np.identity(8))"
   ]
  },
  {
   "cell_type": "code",
   "execution_count": 13,
   "metadata": {},
   "outputs": [],
   "source": [
    "\"\"\"Define the mixer Hamiltonian.\"\"\"\n",
    "def mixer(beta: float) -> np.ndarray:\n",
    "    # Get the tensor product of Pauli X on each qubit\n",
    "    xtensor = tensor(xmat, xmat, xmat)\n",
    "    \n",
    "    # Return the exponentiated Hamiltonian\n",
    "    return expm(-1j * beta * xtensor * kappa)"
   ]
  },
  {
   "cell_type": "code",
   "execution_count": 14,
   "metadata": {},
   "outputs": [],
   "source": [
    "\"\"\"Quick tests for the mixer Hamiltonian.\"\"\"\n",
    "assert np.allclose(mixer(beta=0.0), np.identity(8))\n",
    "\n",
    "# Check unitary\n",
    "mix = mixer(beta=0.5)\n",
    "assert np.allclose(mix.conj().T @ mix, np.identity(8))"
   ]
  },
  {
   "cell_type": "markdown",
   "metadata": {},
   "source": [
    "Last, we need to define the initial state $H^{\\otimes n} |0\\rangle ^{\\otimes n}$ for QAOA:"
   ]
  },
  {
   "cell_type": "code",
   "execution_count": 15,
   "metadata": {},
   "outputs": [],
   "source": [
    "def init_state(nqubits: int) -> np.ndarray:\n",
    "    \"\"\"Returns the initial state H|0> for QAOA.\"\"\"\n",
    "    dim = 2**nqubits\n",
    "    return 1.0 / np.sqrt(dim) * np.ones(dim)"
   ]
  },
  {
   "cell_type": "code",
   "execution_count": 16,
   "metadata": {},
   "outputs": [],
   "source": [
    "\"\"\"Quick tests for initial state.\"\"\"\n",
    "for nqubits in range(1, 10):\n",
    "    assert np.isclose(np.linalg.norm(init_state(nqubits), ord=2), 1.0)\n",
    "    assert len(set(init_state(nqubits))) == 1"
   ]
  },
  {
   "cell_type": "markdown",
   "metadata": {},
   "source": [
    "## Defining the Ansatz"
   ]
  },
  {
   "cell_type": "markdown",
   "metadata": {},
   "source": [
    "The following functions will assume the matrix $A$ and vector $\\mathbf{b}$ have been defined (to limit the number of arguments)."
   ]
  },
  {
   "cell_type": "code",
   "execution_count": 17,
   "metadata": {},
   "outputs": [],
   "source": [
    "\"\"\"Defining the matrix, vector, and time to get the Hamiltonian, ansatz, and state.\"\"\"\n",
    "amat = matrix(kappa=10)\n",
    "bvec = vector(3)\n",
    "xclassical = np.linalg.solve(amat, bvec)\n",
    "time = 1.0\n",
    "Hf = ham(amat, bvec, 1.0)"
   ]
  },
  {
   "cell_type": "code",
   "execution_count": 18,
   "metadata": {},
   "outputs": [
    {
     "name": "stdout",
     "output_type": "stream",
     "text": [
      "Classical solution:\n",
      "[0.35 0.64 0.64 3.54 0.35 0.64 0.64 3.54]\n"
     ]
    }
   ],
   "source": [
    "\"\"\"Print out the classical solution.\"\"\"\n",
    "print(\"Classical solution:\")\n",
    "print(xclassical)"
   ]
  },
  {
   "cell_type": "code",
   "execution_count": 19,
   "metadata": {},
   "outputs": [],
   "source": [
    "def state(gammas: list, betas: list) -> np.ndarray:\n",
    "    \"\"\"Returns the state of the computer after the QAOA ansatz is applied with parameters gammas and betas.\"\"\"\n",
    "    if len(gammas) != len(betas):\n",
    "        raise ValueError(\"Length of gammas must be equal to the length of betas.\")\n",
    "    \n",
    "    if len(gammas) == 0:\n",
    "        raise ValueError(\"Need at least one parameter.\")\n",
    "    \n",
    "    # Get the first gamma and beta value\n",
    "    gamma0 = gammas[0]\n",
    "    beta0 = betas[0]\n",
    "    \n",
    "    # Get the first driver and mixer unitaries\n",
    "    driver0 = driver(gamma0, amat, bvec, time)\n",
    "    mixer0 = mixer(beta0)\n",
    "    \n",
    "    # Get the ansatz after this state\n",
    "    ansatz = np.dot(driver0, mixer0)\n",
    "    \n",
    "    # Do this for all parameters\n",
    "    for gamma, beta in zip(gammas[1:], betas[1:]):\n",
    "        drive = driver(gamma, amat, bvec, time)\n",
    "        mix = mixer(beta)\n",
    "        \n",
    "        ansatz = np.dot(ansatz, np.dot(drive, mix))\n",
    "    \n",
    "    # Return the ansatz applied to the initial state H|0>\n",
    "    return np.dot(ansatz, init_state(nqubits=3))"
   ]
  },
  {
   "cell_type": "code",
   "execution_count": 20,
   "metadata": {},
   "outputs": [],
   "source": [
    "\"\"\"Quick tests for the state function.\"\"\"\n",
    "assert np.allclose(state([0], [0]), init_state(3))\n",
    "assert np.allclose(state([0] * 10, [0] * 10), init_state(3))\n",
    "assert np.isclose(np.linalg.norm(state([1, 2], [3, 4]), ord=2), 1.0, atol=1e-4)\n",
    "assert np.allclose(state([0, 0, 1], [0, 0, 2]), state([1], [2]))\n",
    "assert np.allclose(state([0, 0, 1], [0, 0, 2]), state([1, 0, 0, 0], [2, 0, 0, 0]))"
   ]
  },
  {
   "cell_type": "markdown",
   "metadata": {},
   "source": [
    "## Defining the cost"
   ]
  },
  {
   "cell_type": "markdown",
   "metadata": {},
   "source": [
    "We now define the cost function for a set of parameters."
   ]
  },
  {
   "cell_type": "code",
   "execution_count": 21,
   "metadata": {},
   "outputs": [],
   "source": [
    "\"\"\"Defining the cost function.\"\"\"\n",
    "def cost(angles: list) -> float:\n",
    "    \"\"\"Returns the cost at the given angles, formatted as [gammas, betas].\"\"\"\n",
    "    if len(angles) % 2 != 0:\n",
    "        raise ValueError(\"Number of parameters must be even.\")\n",
    "    \n",
    "    # Get the gammas and betas\n",
    "    gammas = angles[:len(angles) // 2]\n",
    "    betas = angles[len(angles) // 2:]\n",
    "    \n",
    "    # Get the state\n",
    "    psi = state(gammas, betas)\n",
    "    \n",
    "    # Compute the overlap\n",
    "    overlap = abs(np.dot(psi.conj().T, xclassical))**2 / np.dot(xclassical, xclassical)\n",
    "    \n",
    "    # Compute the cost to minimize\n",
    "    obj = 1.0 - overlap\n",
    "    \n",
    "    # Display it to the console\n",
    "    print(\"Current cost:\", obj, end=\"\\r\")\n",
    "    \n",
    "    # Return the cost\n",
    "    return obj"
   ]
  },
  {
   "cell_type": "markdown",
   "metadata": {},
   "source": [
    "## Define gradient minimizer"
   ]
  },
  {
   "cell_type": "code",
   "execution_count": 22,
   "metadata": {},
   "outputs": [],
   "source": [
    "\"\"\"Defining a gradient optimizer.\"\"\"\n",
    "# Result class for optimization results\n",
    "class Result:\n",
    "        def __init__(self, fval, nfev, nit, x, tol):\n",
    "            self.fval = fval\n",
    "            self.nfev = nfev\n",
    "            self.nit = nit\n",
    "            self.x = x\n",
    "            self.success = fval < tol\n",
    "\n",
    "# Function to perform gradient optimization\n",
    "def vqgd(obj, x, eta=0.5, tol=1e-2, maxit=300, maxfev=1000):\n",
    "    \"\"\"Variational quantum gradient descent minimizer.\"\"\"\n",
    "    # Number of parameters\n",
    "    nparams = len(x)\n",
    "    \n",
    "    # Iteration counter\n",
    "    it = 0\n",
    "    \n",
    "    # Function evaluation counter\n",
    "    nfev = 0\n",
    "    \n",
    "    while obj(x) > tol and it < maxit and nfev < maxfev:\n",
    "        \n",
    "        for ii in range(nparams):\n",
    "            # ======================\n",
    "            # Compute the derivative\n",
    "            # ======================\n",
    "            \n",
    "            # Copy current parameters\n",
    "            xplus = deepcopy(x)\n",
    "            xminus = deepcopy(x)\n",
    "            \n",
    "            # Shift by plus/minus pi / 2\n",
    "            xplus[ii] += np.pi / 2\n",
    "            xminus[ii] -= np.pi / 2\n",
    "            \n",
    "            # Compute the derivative\n",
    "            deriv = 0.5 * (obj(xplus) - obj(xminus))\n",
    "            \n",
    "            # ====================\n",
    "            # Update the parameter\n",
    "            # ====================\n",
    "            \n",
    "            x[ii] += eta * deriv\n",
    "        \n",
    "        # Increment the counters\n",
    "        it += 1\n",
    "        nfev += 1 + 2 * nparams\n",
    "    \n",
    "    return Result(obj(x), nfev, it, x, tol)"
   ]
  },
  {
   "cell_type": "markdown",
   "metadata": {},
   "source": [
    "## Do the minimization"
   ]
  },
  {
   "cell_type": "code",
   "execution_count": 23,
   "metadata": {
    "scrolled": true
   },
   "outputs": [
    {
     "name": "stdout",
     "output_type": "stream",
     "text": [
      "Current cost: 0.020637756093326742\n",
      "nfev = 273\n",
      "obj = 0.020637756093326742\n"
     ]
    }
   ],
   "source": [
    "\"\"\"Do the minimization for a particular matrix using scipy.optimize.minimize.\"\"\"\n",
    "# Define the system\n",
    "kappa = 1000\n",
    "amat = matrix(kappa)\n",
    "bvec = vector(3)\n",
    "xclassical = np.linalg.solve(amat, bvec)\n",
    "time = 1.0\n",
    "\n",
    "# Random set of initial parameters\n",
    "x0 = np.random.randn(10)\n",
    "\n",
    "# Do the minimization\n",
    "out = minimize(cost, x0, method=\"COBYLA\", tol=1e-7)\n",
    "\n",
    "print()\n",
    "print(\"nfev =\", out.nfev)\n",
    "print(\"obj =\", out.fun)"
   ]
  },
  {
   "cell_type": "code",
   "execution_count": 32,
   "metadata": {},
   "outputs": [],
   "source": [
    "\"\"\"Define functions to return the final state and overlap with classical solution.\n",
    "\n",
    "REQUIRES: Output of scipy.optimize.minimize to be named `out`.\n",
    "\"\"\"\n",
    "def final_state(out):\n",
    "    return state(out.x[:len(out.x) // 2], out.x[len(out.x) // 2: ])\n",
    "\n",
    "def final_overlap(out):\n",
    "    return abs(np.dot(final_state(out), xclassical))**2 / np.dot(xclassical, xclassical)"
   ]
  },
  {
   "cell_type": "code",
   "execution_count": 33,
   "metadata": {},
   "outputs": [
    {
     "name": "stdout",
     "output_type": "stream",
     "text": [
      "Final overlap: 0.9634208227010037\n"
     ]
    }
   ],
   "source": [
    "print(\"Final overlap:\", final_overlap(out))"
   ]
  },
  {
   "cell_type": "markdown",
   "metadata": {},
   "source": [
    "## Do the minimization while varying kappa"
   ]
  },
  {
   "cell_type": "code",
   "execution_count": 97,
   "metadata": {},
   "outputs": [],
   "source": [
    "\"\"\"Some constants and hyperparameters.\"\"\"\n",
    "# Number of trials to do at each kappa value\n",
    "NUM_TRIALS = 50\n",
    "\n",
    "# Minimum fidelity to consider a solution\n",
    "MIN_FIDELITY = 0.95\n",
    "\n",
    "# Kappa values to consider\n",
    "kappas = np.linspace(1, 1000, 50)\n",
    "\n",
    "# Number to average over\n",
    "SHOTS = 10\n",
    "\n",
    "VERBOSE = False"
   ]
  },
  {
   "cell_type": "code",
   "execution_count": 109,
   "metadata": {
    "scrolled": false
   },
   "outputs": [
    {
     "name": "stdout",
     "output_type": "stream",
     "text": [
      "Shot # 0\n",
      "Status: kappa = 1.0\n",
      "Status: kappa = 21.387755102040817-07\n",
      "Status: kappa = 41.77551020408163456\n",
      "Status: kappa = 62.1632653061224545\n",
      "Status: kappa = 82.551020408163279\n",
      "Status: kappa = 102.938775510204082\n",
      "Status: kappa = 123.326530612244916\n",
      "Status: kappa = 143.71428571428572\n",
      "Status: kappa = 164.102040816326546\n",
      "Status: kappa = 184.489795918367354\n",
      "Status: kappa = 204.877551020408167\n",
      "Status: kappa = 225.265306122448985\n",
      "Status: kappa = 245.65306122448982\n",
      "Status: kappa = 266.0408163265306504\n",
      "Status: kappa = 286.428571428571444\n",
      "Status: kappa = 306.81632653061223\n",
      "Status: kappa = 327.20408163265315\n",
      "Status: kappa = 347.59183673469395\n",
      "Status: kappa = 367.979591836734743\n",
      "Status: kappa = 388.36734693877554\n",
      "Status: kappa = 408.75510204081632\n",
      "Status: kappa = 429.14285714285717\n",
      "Status: kappa = 449.53061224489795\n",
      "Status: kappa = 469.91836734693884\n",
      "Status: kappa = 490.30612244897964\n",
      "Status: kappa = 510.69387755102045\n",
      "Status: kappa = 531.08163265306124\n",
      "Status: kappa = 551.46938775510233\n",
      "Status: kappa = 571.85714285714294\n",
      "Status: kappa = 592.24489795918378\n",
      "Status: kappa = 612.63265306122457\n",
      "Status: kappa = 633.020408163265385\n",
      "Status: kappa = 653.408163265306192\n",
      "Status: kappa = 673.79591836734717\n",
      "Status: kappa = 694.18367346938781\n",
      "Status: kappa = 714.5714285714286246\n",
      "Status: kappa = 734.95918367346941\n",
      "Status: kappa = 755.34693877551024\n",
      "Status: kappa = 775.73469387755118\n",
      "Status: kappa = 796.12244897959184\n",
      "Status: kappa = 816.51020408163275\n",
      "Status: kappa = 836.89795918367352\n",
      "Status: kappa = 857.28571428571435\n",
      "Status: kappa = 877.67346938775524\n",
      "Status: kappa = 898.06122448979597\n",
      "Status: kappa = 918.44897959183676\n",
      "Status: kappa = 938.83673469387766\n",
      "Status: kappa = 959.224489795918434\n",
      "Status: kappa = 979.61224489795935\n",
      "Status: kappa = 1000.0175901979704\n",
      "Shot # 1cost: 0.035552637445793445\n",
      "Status: kappa = 1.0\n",
      "Status: kappa = 21.387755102040817-08\n",
      "Status: kappa = 41.7755102040816342\n",
      "Status: kappa = 62.16326530612245405\n",
      "Status: kappa = 82.5510204081632776\n",
      "Status: kappa = 102.9387755102040856\n",
      "Status: kappa = 123.32653061224491\n",
      "Status: kappa = 143.71428571428572\n",
      "Status: kappa = 164.102040816326545\n",
      "Status: kappa = 184.489795918367357\n",
      "Status: kappa = 204.87755102040816\n",
      "Status: kappa = 225.26530612244898\n",
      "Status: kappa = 245.65306122448982\n",
      "Status: kappa = 266.0408163265306165\n",
      "Status: kappa = 286.428571428571444\n",
      "Status: kappa = 306.81632653061223\n",
      "Status: kappa = 327.20408163265312\n",
      "Status: kappa = 347.591836734693912\n",
      "Status: kappa = 367.97959183673478\n",
      "Status: kappa = 388.36734693877554\n",
      "Status: kappa = 408.75510204081632\n",
      "Status: kappa = 429.14285714285717\n",
      "Status: kappa = 449.53061224489795\n",
      "Status: kappa = 469.91836734693886\n",
      "Status: kappa = 490.30612244897964\n",
      "Status: kappa = 510.69387755102044\n",
      "Status: kappa = 531.08163265306127\n",
      "Status: kappa = 551.46938775510265\n",
      "Status: kappa = 571.85714285714298\n",
      "Status: kappa = 592.24489795918372\n",
      "Status: kappa = 612.63265306122456\n",
      "Status: kappa = 633.02040816326535\n",
      "Status: kappa = 653.40816326530616\n",
      "Status: kappa = 673.79591836734704\n",
      "Status: kappa = 694.18367346938786\n",
      "Status: kappa = 714.57142857142863\n",
      "Status: kappa = 734.95918367346943\n",
      "Status: kappa = 755.34693877551022\n",
      "Status: kappa = 775.73469387755115\n",
      "Status: kappa = 796.12244897959187\n",
      "Status: kappa = 816.51020408163276\n",
      "Status: kappa = 836.89795918367355\n",
      "Status: kappa = 857.28571428571434\n",
      "Status: kappa = 877.67346938775526\n",
      "Status: kappa = 898.06122448979595\n",
      "Status: kappa = 918.44897959183675\n",
      "Status: kappa = 938.83673469387765\n",
      "Status: kappa = 959.22448979591848\n",
      "Status: kappa = 979.61224489795933\n",
      "Status: kappa = 1000.0895680776948\n",
      "Shot # 2cost: 0.019682747729788175\n",
      "Status: kappa = 1.0\n",
      "Status: kappa = 21.387755102040817088\n",
      "Status: kappa = 41.77551020408163456\n",
      "Status: kappa = 62.16326530612245455\n",
      "Status: kappa = 82.55102040816327518\n",
      "Status: kappa = 102.93877551020408\n",
      "Status: kappa = 123.326530612244915\n",
      "Status: kappa = 143.714285714285723\n",
      "Status: kappa = 164.102040816326546\n",
      "Status: kappa = 184.48979591836735\n",
      "Status: kappa = 204.87755102040816\n",
      "Status: kappa = 225.265306122448984\n",
      "Status: kappa = 245.653061224489824\n",
      "Status: kappa = 266.04081632653066\n",
      "Status: kappa = 286.4285714285714446\n",
      "Status: kappa = 306.81632653061223\n",
      "Status: kappa = 327.20408163265315\n",
      "Status: kappa = 347.591836734693975\n",
      "Status: kappa = 367.97959183673472\n",
      "Status: kappa = 388.367346938775547\n",
      "Status: kappa = 408.75510204081634\n",
      "Status: kappa = 429.14285714285717\n",
      "Status: kappa = 449.53061224489795\n",
      "Status: kappa = 469.91836734693885\n",
      "Status: kappa = 490.30612244897964\n",
      "Status: kappa = 510.69387755102043\n",
      "Status: kappa = 531.08163265306128\n",
      "Status: kappa = 551.46938775510244\n",
      "Status: kappa = 571.85714285714296\n",
      "Status: kappa = 592.24489795918376\n",
      "Status: kappa = 612.63265306122455\n",
      "Status: kappa = 633.02040816326534\n",
      "Status: kappa = 653.40816326530615\n",
      "Status: kappa = 673.79591836734736\n",
      "Status: kappa = 694.18367346938782\n",
      "Status: kappa = 714.57142857142867\n",
      "Status: kappa = 734.959183673469456\n",
      "Status: kappa = 755.34693877551022\n",
      "Status: kappa = 775.73469387755119\n",
      "Status: kappa = 796.12244897959184\n",
      "Status: kappa = 816.51020408163276\n",
      "Status: kappa = 836.89795918367354\n",
      "Status: kappa = 857.28571428571436\n",
      "Status: kappa = 877.67346938775527\n",
      "Status: kappa = 898.06122448979598\n",
      "Status: kappa = 918.448979591836776\n",
      "Status: kappa = 938.83673469387763\n",
      "Status: kappa = 959.224489795918475\n",
      "Status: kappa = 979.61224489795937\n",
      "Status: kappa = 1000.0101346325084\n",
      "Shot # 3cost: 0.044329021887882014\n",
      "Status: kappa = 1.0\n",
      "Status: kappa = 21.387755102040817-07\n",
      "Status: kappa = 41.775510204081634\n",
      "Status: kappa = 62.16326530612245455\n",
      "Status: kappa = 82.5510204081632718\n",
      "Status: kappa = 102.938775510204083\n",
      "Status: kappa = 123.32653061224491\n",
      "Status: kappa = 143.714285714285724\n",
      "Status: kappa = 164.102040816326544\n",
      "Status: kappa = 184.489795918367355\n",
      "Status: kappa = 204.87755102040816\n",
      "Status: kappa = 225.265306122448987\n",
      "Status: kappa = 245.653061224489826\n",
      "Status: kappa = 266.04081632653066\n",
      "Status: kappa = 286.428571428571446\n",
      "Status: kappa = 306.81632653061223\n",
      "Status: kappa = 327.204081632653114\n",
      "Status: kappa = 347.59183673469394\n",
      "Status: kappa = 367.97959183673475\n",
      "Status: kappa = 388.36734693877554\n",
      "Status: kappa = 408.75510204081634\n",
      "Status: kappa = 429.14285714285717\n",
      "Status: kappa = 449.53061224489795\n",
      "Status: kappa = 469.91836734693882\n",
      "Status: kappa = 490.30612244897964\n",
      "Status: kappa = 510.69387755102046\n",
      "Status: kappa = 531.08163265306126\n",
      "Status: kappa = 551.46938775510225\n",
      "Status: kappa = 571.85714285714296\n",
      "Status: kappa = 592.24489795918375\n",
      "Status: kappa = 612.63265306122454\n",
      "Status: kappa = 633.02040816326536\n",
      "Status: kappa = 653.40816326530614\n",
      "Status: kappa = 673.79591836734754\n",
      "Status: kappa = 694.18367346938784\n",
      "Status: kappa = 714.57142857142864\n",
      "Status: kappa = 734.95918367346945\n",
      "Status: kappa = 755.34693877551026\n",
      "Status: kappa = 775.73469387755115\n",
      "Status: kappa = 796.12244897959185\n",
      "Status: kappa = 816.51020408163275\n",
      "Status: kappa = 836.89795918367355\n",
      "Status: kappa = 857.28571428571436\n",
      "Status: kappa = 877.67346938775524\n",
      "Status: kappa = 898.06122448979594\n",
      "Status: kappa = 918.44897959183676\n",
      "Status: kappa = 938.83673469387765\n",
      "Status: kappa = 959.22448979591844\n",
      "Status: kappa = 979.61224489795935\n",
      "Status: kappa = 1000.06512474268595\n",
      "Shot # 4cost: 0.011184148550367098\n",
      "Status: kappa = 1.0\n",
      "Status: kappa = 21.387755102040817087\n",
      "Status: kappa = 41.775510204081634\n",
      "Status: kappa = 62.16326530612245405\n",
      "Status: kappa = 82.551020408163273\n",
      "Status: kappa = 102.938775510204086\n",
      "Status: kappa = 123.326530612244917\n",
      "Status: kappa = 143.714285714285728\n",
      "Status: kappa = 164.10204081632654\n",
      "Status: kappa = 184.489795918367357\n",
      "Status: kappa = 204.87755102040816\n",
      "Status: kappa = 225.26530612244898\n",
      "Status: kappa = 245.65306122448982\n",
      "Status: kappa = 266.040816326530647\n",
      "Status: kappa = 286.428571428571445\n",
      "Status: kappa = 306.81632653061223\n",
      "Status: kappa = 327.20408163265314\n",
      "Status: kappa = 347.59183673469395\n",
      "Status: kappa = 367.97959183673473\n",
      "Status: kappa = 388.36734693877554\n",
      "Status: kappa = 408.75510204081638\n",
      "Status: kappa = 429.142857142857179\n",
      "Status: kappa = 449.53061224489795\n",
      "Status: kappa = 469.91836734693886\n",
      "Status: kappa = 490.306122448979645\n",
      "Status: kappa = 510.69387755102044\n",
      "Status: kappa = 531.08163265306126\n",
      "Status: kappa = 551.46938775510284\n",
      "Status: kappa = 571.857142857142936\n"
     ]
    },
    {
     "name": "stdout",
     "output_type": "stream",
     "text": [
      "Status: kappa = 592.24489795918374\n",
      "Status: kappa = 612.63265306122455\n",
      "Status: kappa = 633.02040816326533\n",
      "Status: kappa = 653.40816326530616\n",
      "Status: kappa = 673.79591836734744\n",
      "Status: kappa = 694.18367346938787\n",
      "Status: kappa = 714.57142857142862\n",
      "Status: kappa = 734.9591836734694\n",
      "Status: kappa = 755.34693877551025\n",
      "Status: kappa = 775.73469387755114\n",
      "Status: kappa = 796.12244897959186\n",
      "Status: kappa = 816.51020408163276\n",
      "Status: kappa = 836.897959183673595\n",
      "Status: kappa = 857.28571428571435\n",
      "Status: kappa = 877.67346938775523\n",
      "Status: kappa = 898.06122448979592\n",
      "Status: kappa = 918.44897959183676\n",
      "Status: kappa = 938.83673469387767\n",
      "Status: kappa = 959.22448979591844\n",
      "Status: kappa = 979.61224489795935\n",
      "Status: kappa = 1000.0809257801133\n",
      "Shot # 5cost: 0.018926026502939508\n",
      "Status: kappa = 1.0\n",
      "Status: kappa = 21.387755102040817-07\n",
      "Status: kappa = 41.77551020408163405\n",
      "Status: kappa = 62.16326530612245474\n",
      "Status: kappa = 82.551020408163276\n",
      "Status: kappa = 102.9387755102040858\n",
      "Status: kappa = 123.3265306122449177\n",
      "Status: kappa = 143.71428571428572\n",
      "Status: kappa = 164.10204081632654\n",
      "Status: kappa = 184.489795918367356\n",
      "Status: kappa = 204.87755102040816\n",
      "Status: kappa = 225.265306122448983\n",
      "Status: kappa = 245.65306122448982\n",
      "Status: kappa = 266.04081632653066\n",
      "Status: kappa = 286.42857142857144\n",
      "Status: kappa = 306.816326530612233\n",
      "Status: kappa = 327.20408163265314\n",
      "Status: kappa = 347.59183673469396\n",
      "Status: kappa = 367.97959183673473\n",
      "Status: kappa = 388.367346938775548\n",
      "Status: kappa = 408.75510204081637\n",
      "Status: kappa = 429.14285714285717\n",
      "Status: kappa = 449.53061224489795\n",
      "Status: kappa = 469.91836734693881\n",
      "Status: kappa = 490.30612244897964\n",
      "Status: kappa = 510.69387755102044\n",
      "Status: kappa = 531.08163265306125\n",
      "Status: kappa = 551.46938775510215\n",
      "Status: kappa = 571.85714285714295\n",
      "Status: kappa = 592.24489795918375\n",
      "Status: kappa = 612.63265306122455\n",
      "Status: kappa = 633.02040816326532\n",
      "Status: kappa = 653.40816326530612\n",
      "Status: kappa = 673.79591836734785\n",
      "Status: kappa = 694.18367346938783\n",
      "Status: kappa = 714.57142857142864\n",
      "Status: kappa = 734.95918367346942.5827012428814202\n",
      "Status: kappa = 755.34693877551024\n",
      "Status: kappa = 775.73469387755114\n",
      "Status: kappa = 796.12244897959187\n",
      "Status: kappa = 816.51020408163274\n",
      "Status: kappa = 836.897959183673565\n",
      "Status: kappa = 857.28571428571432\n",
      "Status: kappa = 877.67346938775525\n",
      "Status: kappa = 898.06122448979596\n",
      "Status: kappa = 918.44897959183676\n",
      "Status: kappa = 938.83673469387764\n",
      "Status: kappa = 959.22448979591845\n",
      "Status: kappa = 979.61224489795936\n",
      "Status: kappa = 1000.0129194522464\n",
      "Shot # 6cost: 0.025753250897120772\n",
      "Status: kappa = 1.0\n",
      "Status: kappa = 21.387755102040817-07\n",
      "Status: kappa = 41.77551020408163455\n",
      "Status: kappa = 62.1632653061224541\n",
      "Status: kappa = 82.5510204081632776\n",
      "Status: kappa = 102.93877551020408\n",
      "Status: kappa = 123.32653061224491\n",
      "Status: kappa = 143.71428571428572\n",
      "Status: kappa = 164.1020408163265466\n",
      "Status: kappa = 184.48979591836735\n",
      "Status: kappa = 204.87755102040816\n",
      "Status: kappa = 225.265306122448985\n",
      "Status: kappa = 245.65306122448982\n",
      "Status: kappa = 266.040816326530617\n",
      "Status: kappa = 286.42857142857144\n",
      "Status: kappa = 306.816326530612234\n",
      "Status: kappa = 327.20408163265316\n",
      "Status: kappa = 347.59183673469397\n",
      "Status: kappa = 367.97959183673472\n",
      "Status: kappa = 388.36734693877554\n",
      "Status: kappa = 408.755102040816335\n",
      "Status: kappa = 429.14285714285717\n",
      "Status: kappa = 449.53061224489795\n",
      "Status: kappa = 469.91836734693884\n",
      "Status: kappa = 490.30612244897964\n",
      "Status: kappa = 510.693877551020464\n",
      "Status: kappa = 531.08163265306124\n",
      "Status: kappa = 551.46938775510293\n",
      "Status: kappa = 571.85714285714293\n",
      "Status: kappa = 592.24489795918375\n",
      "Status: kappa = 612.63265306122455\n",
      "Status: kappa = 633.020408163265347\n",
      "Status: kappa = 653.40816326530616\n",
      "Status: kappa = 673.79591836734715\n",
      "Status: kappa = 694.18367346938785\n",
      "Status: kappa = 714.57142857142865\n",
      "Status: kappa = 734.95918367346945\n",
      "Status: kappa = 755.34693877551025\n",
      "Status: kappa = 775.73469387755116\n",
      "Status: kappa = 796.12244897959182\n",
      "Status: kappa = 816.51020408163273\n",
      "Status: kappa = 836.89795918367355\n",
      "Status: kappa = 857.28571428571431\n",
      "Status: kappa = 877.67346938775523\n",
      "Status: kappa = 898.06122448979598\n",
      "Status: kappa = 918.44897959183676\n",
      "Status: kappa = 938.83673469387765\n",
      "Status: kappa = 959.22448979591844\n",
      "Status: kappa = 979.61224489795936\n",
      "Status: kappa = 1000.0258815165346\n",
      "Shot # 7cost: 0.0173408279627080836\n",
      "Status: kappa = 1.0\n",
      "Status: kappa = 21.387755102040817087\n",
      "Status: kappa = 41.7755102040816345\n",
      "Status: kappa = 62.1632653061224545\n",
      "Status: kappa = 82.551020408163274\n",
      "Status: kappa = 102.9387755102040805\n",
      "Status: kappa = 123.326530612244915\n",
      "Status: kappa = 143.714285714285724\n",
      "Status: kappa = 164.10204081632654\n",
      "Status: kappa = 184.48979591836735\n",
      "Status: kappa = 204.87755102040816\n",
      "Status: kappa = 225.26530612244898\n",
      "Status: kappa = 245.65306122448982\n",
      "Status: kappa = 266.04081632653062\n",
      "Status: kappa = 286.428571428571445\n",
      "Status: kappa = 306.81632653061223\n",
      "Status: kappa = 327.20408163265315\n",
      "Status: kappa = 347.59183673469391\n",
      "Status: kappa = 367.979591836734725\n",
      "Status: kappa = 388.36734693877554\n",
      "Status: kappa = 408.755102040816349\n",
      "Status: kappa = 429.14285714285717\n",
      "Status: kappa = 449.53061224489795\n",
      "Status: kappa = 469.91836734693887\n",
      "Status: kappa = 490.30612244897964\n",
      "Status: kappa = 510.693877551020475\n",
      "Status: kappa = 531.08163265306125\n",
      "Status: kappa = 551.46938775510274\n",
      "Status: kappa = 571.8571428571429187\n",
      "Status: kappa = 592.24489795918377\n",
      "Status: kappa = 612.63265306122455\n",
      "Status: kappa = 633.020408163265386\n",
      "Status: kappa = 653.40816326530612\n",
      "Status: kappa = 673.79591836734762\n",
      "Status: kappa = 694.18367346938788\n",
      "Status: kappa = 714.57142857142864\n",
      "Status: kappa = 734.959183673469415\n",
      "Status: kappa = 755.34693877551025\n",
      "Status: kappa = 775.73469387755111\n",
      "Status: kappa = 796.12244897959186\n",
      "Status: kappa = 816.51020408163275\n",
      "Status: kappa = 836.89795918367355\n",
      "Status: kappa = 857.28571428571436\n",
      "Status: kappa = 877.67346938775524\n",
      "Status: kappa = 898.06122448979592\n",
      "Status: kappa = 918.44897959183675\n",
      "Status: kappa = 938.836734693877646\n",
      "Status: kappa = 959.22448979591842\n",
      "Status: kappa = 979.612244897959355\n",
      "Status: kappa = 1000.0086773703444\n",
      "Shot # 8cost: 0.023784592795533466\n",
      "Status: kappa = 1.0\n",
      "Status: kappa = 21.387755102040817088\n",
      "Status: kappa = 41.77551020408163405\n",
      "Status: kappa = 62.16326530612245423\n",
      "Status: kappa = 82.5510204081632706\n",
      "Status: kappa = 102.9387755102040847\n",
      "Status: kappa = 123.32653061224491\n",
      "Status: kappa = 143.71428571428572\n",
      "Status: kappa = 164.102040816326549\n",
      "Status: kappa = 184.489795918367355\n",
      "Status: kappa = 204.87755102040816\n",
      "Status: kappa = 225.265306122448983\n",
      "Status: kappa = 245.65306122448982\n",
      "Status: kappa = 266.040816326530675\n",
      "Status: kappa = 286.42857142857144\n",
      "Status: kappa = 306.81632653061223\n",
      "Status: kappa = 327.20408163265314\n",
      "Status: kappa = 347.59183673469396\n",
      "Status: kappa = 367.97959183673474\n",
      "Status: kappa = 388.36734693877554\n",
      "Status: kappa = 408.7551020408163648\n",
      "Status: kappa = 429.14285714285717\n",
      "Status: kappa = 449.53061224489795\n",
      "Status: kappa = 469.91836734693887\n",
      "Status: kappa = 490.30612244897964\n",
      "Status: kappa = 510.69387755102045\n",
      "Status: kappa = 531.08163265306126\n",
      "Status: kappa = 551.46938775510228\n",
      "Status: kappa = 571.85714285714295.9664248756830982\n",
      "Status: kappa = 592.24489795918376\n",
      "Status: kappa = 612.63265306122458\n",
      "Status: kappa = 633.02040816326535\n",
      "Status: kappa = 653.40816326530615\n",
      "Status: kappa = 673.79591836734718\n",
      "Status: kappa = 694.18367346938783\n",
      "Status: kappa = 714.57142857142865\n",
      "Status: kappa = 734.95918367346946\n",
      "Status: kappa = 755.34693877551024\n",
      "Status: kappa = 775.73469387755113\n",
      "Status: kappa = 796.12244897959184\n",
      "Status: kappa = 816.51020408163276\n",
      "Status: kappa = 836.89795918367359\n",
      "Status: kappa = 857.285714285714385\n",
      "Status: kappa = 877.67346938775524\n",
      "Status: kappa = 898.06122448979594\n",
      "Status: kappa = 918.44897959183674\n",
      "Status: kappa = 938.83673469387766\n",
      "Status: kappa = 959.22448979591847\n",
      "Status: kappa = 979.61224489795934\n",
      "Status: kappa = 1000.0754939794572\n",
      "Shot # 9cost: 0.0062002254066463313\n",
      "Status: kappa = 1.0\n",
      "Status: kappa = 21.387755102040817-07\n",
      "Status: kappa = 41.77551020408163455\n",
      "Status: kappa = 62.16326530612245436\n",
      "Status: kappa = 82.5510204081632739\n",
      "Status: kappa = 102.938775510204085\n",
      "Status: kappa = 123.32653061224491\n"
     ]
    },
    {
     "name": "stdout",
     "output_type": "stream",
     "text": [
      "Status: kappa = 143.714285714285724\n",
      "Status: kappa = 164.10204081632654\n",
      "Status: kappa = 184.489795918367357\n",
      "Status: kappa = 204.87755102040816\n",
      "Status: kappa = 225.26530612244898\n",
      "Status: kappa = 245.65306122448982\n",
      "Status: kappa = 266.04081632653063\n",
      "Status: kappa = 286.42857142857144\n",
      "Status: kappa = 306.81632653061223\n",
      "Status: kappa = 327.204081632653125\n",
      "Status: kappa = 347.59183673469391\n",
      "Status: kappa = 367.97959183673474\n",
      "Status: kappa = 388.367346938775546\n",
      "Status: kappa = 408.75510204081638\n",
      "Status: kappa = 429.14285714285717\n",
      "Status: kappa = 449.53061224489795\n",
      "Status: kappa = 469.91836734693885\n",
      "Status: kappa = 490.30612244897964\n",
      "Status: kappa = 510.69387755102047\n",
      "Status: kappa = 531.08163265306126\n",
      "Status: kappa = 551.46938775510288\n",
      "Status: kappa = 571.85714285714291\n",
      "Status: kappa = 592.244897959183703\n",
      "Status: kappa = 612.632653061224526\n",
      "Status: kappa = 633.02040816326536\n",
      "Status: kappa = 653.40816326530614\n",
      "Status: kappa = 673.79591836734716\n",
      "Status: kappa = 694.18367346938784\n",
      "Status: kappa = 714.57142857142864\n",
      "Status: kappa = 734.95918367346945\n",
      "Status: kappa = 755.34693877551025\n",
      "Status: kappa = 775.73469387755115\n",
      "Status: kappa = 796.12244897959188\n",
      "Status: kappa = 816.51020408163275\n",
      "Status: kappa = 836.89795918367355\n",
      "Status: kappa = 857.28571428571436\n",
      "Status: kappa = 877.67346938775526\n",
      "Status: kappa = 898.06122448979595\n",
      "Status: kappa = 918.44897959183677\n",
      "Status: kappa = 938.83673469387765\n",
      "Status: kappa = 959.22448979591849\n",
      "Status: kappa = 979.61224489795932\n",
      "Status: kappa = 1000.0278948828236\n",
      "Current cost: 0.0055309705176884729\r"
     ]
    }
   ],
   "source": [
    "\"\"\"Do the minimization while varying kappa.\"\"\"\n",
    "# Some constants which define the system\n",
    "bvec = vector(3)\n",
    "time = 1.0\n",
    "\n",
    "allfevs = []\n",
    "alltrials = []\n",
    "\n",
    "for ii in range(SHOTS):\n",
    "    \n",
    "    print(\"Shot #\", ii, \"\\n========\\n\")\n",
    "\n",
    "    # List to store overall number of function evaluations\n",
    "    nfevs = []\n",
    "\n",
    "    # List to store number of trials\n",
    "    trials = []\n",
    "\n",
    "    # Loop over the kappa values\n",
    "    for kappa in kappas:\n",
    "        # Status update\n",
    "        print(\"Status: kappa =\", kappa)\n",
    "        \n",
    "        # Define the system\n",
    "        amat = matrix(kappa)\n",
    "\n",
    "        # Get the classical solution\n",
    "        xclassical = np.linalg.solve(amat, bvec)\n",
    "\n",
    "        # Do ten trials at this kappa value\n",
    "        for trial in range(NUM_TRIALS):\n",
    "            # Random set of initial parameters\n",
    "            x0 = np.random.randn(10)\n",
    "\n",
    "            # Do the minimization\n",
    "            out = minimize(cost, x0, method=\"COBYLA\")\n",
    "\n",
    "            if final_overlap(out) >= MIN_FIDELITY:\n",
    "                if VERBOSE:\n",
    "                    print()\n",
    "                    print(\"kappa = {} completed in {} trial(s).\".format(kappa, trial + 1))\n",
    "                    print(\"fidelity =\", final_overlap(out))\n",
    "                    print()\n",
    "                nfevs.append(out.nfev)\n",
    "                trials.append(trial + 1)\n",
    "                break\n",
    "\n",
    "    allfevs.append(nfevs)\n",
    "    alltrials.append(trials)"
   ]
  },
  {
   "cell_type": "code",
   "execution_count": 110,
   "metadata": {},
   "outputs": [],
   "source": [
    "\"\"\"Transpose the total trials and total function evaluations.\"\"\"\n",
    "tarray = np.array(alltrials)\n",
    "tarray = tarray.T\n",
    "\n",
    "farray = np.array(allfevs)\n",
    "farray = farray.T"
   ]
  },
  {
   "cell_type": "code",
   "execution_count": 111,
   "metadata": {},
   "outputs": [],
   "source": [
    "\"\"\"Extract the average number of function evaluations and the standard deviation over all trials.\"\"\"\n",
    "# Lists to store values\n",
    "tavgs = np.average(tarray, axis=1)\n",
    "tstds = np.std(tarray, axis=1)\n",
    "favgs = np.average(farray, axis=1)\n",
    "fstds = np.std(farray, axis=1)"
   ]
  },
  {
   "cell_type": "code",
   "execution_count": 112,
   "metadata": {},
   "outputs": [],
   "source": [
    "\"\"\"Some plotting options.\"\"\"\n",
    "plt.rcParams.update({'font.size': 17, \"font.weight\": \"bold\"})"
   ]
  },
  {
   "cell_type": "code",
   "execution_count": 118,
   "metadata": {
    "scrolled": false
   },
   "outputs": [
    {
     "data": {
      "image/png": "[encoded data removed]",
      "text/plain": [
       "<Figure size 864x504 with 1 Axes>"
      ]
     },
     "metadata": {},
     "output_type": "display_data"
    },
    {
     "data": {
      "text/plain": [
       "<Figure size 432x288 with 0 Axes>"
      ]
     },
     "metadata": {},
     "output_type": "display_data"
    }
   ],
   "source": [
    "\"\"\"Plot the trial number vs kappa statistics.\"\"\"\n",
    "plt.figure(figsize=(12, 7))\n",
    "plt.errorbar(kappas, tavgs, tstds, ls=\"-\", color=\"blue\", linewidth=3.0, elinewidth=2.0, capsize=10.0, errorevery=3)\n",
    "plt.grid()\n",
    "plt.xlabel(\"Condition number\")\n",
    "plt.ylabel(\"Number of trials until solution\")\n",
    "plt.show()\n",
    "# plt.savefig(\"trial-vs-kappa-statistics-kappa1000-cobyla-10shot-stats2.pdf\", format=\"pdf\")"
   ]
  },
  {
   "cell_type": "code",
   "execution_count": 119,
   "metadata": {},
   "outputs": [
    {
     "data": {
      "image/png": "[encoded data removed]",
      "text/plain": [
       "<Figure size 864x504 with 1 Axes>"
      ]
     },
     "metadata": {},
     "output_type": "display_data"
    },
    {
     "data": {
      "text/plain": [
       "<Figure size 432x288 with 0 Axes>"
      ]
     },
     "metadata": {},
     "output_type": "display_data"
    }
   ],
   "source": [
    "\"\"\"Plot the number of function evaluations vs kappa statistics.\"\"\"\n",
    "plt.figure(figsize=(12, 7))\n",
    "plt.errorbar(kappas, favgs, fstds, ls=\"-\", color=\"red\", linewidth=3.0, elinewidth=2.0, capsize=10.0, errorevery=3)\n",
    "plt.grid()\n",
    "plt.xlabel(\"Condition number\")\n",
    "plt.ylabel(\"Average function evaluations for solution\")\n",
    "plt.show()\n",
    "# plt.savefig(\"fev-vs-kappa-statistics-kappa1000-cobyla-10shot-stats2.pdf\", format=\"pdf\")"
   ]
  },
  {
   "cell_type": "markdown",
   "metadata": {},
   "source": [
    "## Do a grid search"
   ]
  },
  {
   "cell_type": "code",
   "execution_count": null,
   "metadata": {},
   "outputs": [],
   "source": [
    "\"\"\"Do a grid search.\"\"\"\n",
    "npoints = 100\n",
    "\n",
    "costs = np.zeros([npoints, npoints])\n",
    "\n",
    "gammas = np.linspace(0.0, 2.0 * np.pi, npoints)\n",
    "betas = np.linspace(0.0, 2.0 * np.pi, npoints)\n",
    "\n",
    "for (ii, gamma) in enumerate(gammas):\n",
    "    for (jj, beta) in enumerate(betas):\n",
    "        costs[ii, jj] = cost([gamma, beta])"
   ]
  },
  {
   "cell_type": "markdown",
   "metadata": {},
   "source": [
    "## References"
   ]
  },
  {
   "cell_type": "markdown",
   "metadata": {},
   "source": [
    "[1] Yigit Subasi, Rolando D. Somma, Davide Orsucci, Quantum algorithms for systems of linear equations inspired by adiabatic quantum computing. https://arxiv.org/abs/1805.10549."
   ]
  }
 ],
 "metadata": {
  "kernelspec": {
   "display_name": "Python 3",
   "language": "python",
   "name": "python3"
  },
  "language_info": {
   "codemirror_mode": {
    "name": "ipython",
    "version": 3
   },
   "file_extension": ".py",
   "mimetype": "text/x-python",
   "name": "python",
   "nbconvert_exporter": "python",
   "pygments_lexer": "ipython3",
   "version": "3.6.8"
  }
 },
 "nbformat": 4,
 "nbformat_minor": 2
}
