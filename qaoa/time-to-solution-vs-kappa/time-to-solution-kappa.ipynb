{
 "cells": [
  {
   "cell_type": "markdown",
   "metadata": {},
   "source": [
    "# QAOA Implementation: Time to Solution vs. Condition Number"
   ]
  },
  {
   "cell_type": "markdown",
   "metadata": {},
   "source": [
    "### Description"
   ]
  },
  {
   "cell_type": "markdown",
   "metadata": {},
   "source": [
    "We seek to solve the \"quantum linear systems problem\" (QLSP) defined by the system\n",
    "\n",
    "\\begin{equation}\n",
    "    A \\mathbf{x} = \\mathbf{b}\n",
    "\\end{equation}\n",
    "\n",
    "where $A \\in \\mathbb{R}^{N \\times N}$ and $N = 2^n$. QLSP is similar to the classical linear systems problem except we only want to output a \"quantum description\" of the solution\n",
    "\n",
    "\\begin{equation}\n",
    "    | \\mathbf{x} \\rangle = |A^{-1} \\mathbf{b} \\rangle\n",
    "\\end{equation}\n",
    "\n",
    "(because we don't have a good way around this).\n",
    "\n",
    "\n",
    "This notebook explores the time to solution vs the condition condition number $\\kappa$ of the matrix $A$."
   ]
  },
  {
   "cell_type": "code",
   "execution_count": null,
   "metadata": {},
   "outputs": [],
   "source": [
    "\"\"\"Imports for the notebook.\n",
    "\n",
    "Requires:\n",
    "    copy\n",
    "    numpy\n",
    "    scipy\n",
    "    matplotlib\n",
    "\"\"\"\n",
    "from copy import deepcopy\n",
    "import matplotlib.pyplot as plt\n",
    "import numpy as np\n",
    "from scipy.linalg import expm\n",
    "from scipy.optimize import minimize\n",
    "\n",
    "# Set precision for printing\n",
    "np.set_printoptions(precision=2)"
   ]
  },
  {
   "cell_type": "markdown",
   "metadata": {},
   "source": [
    "# Defining the linear system of equations"
   ]
  },
  {
   "cell_type": "markdown",
   "metadata": {},
   "source": [
    "Here, we define the matrix for the linear system of equations. First, we define Pauli $Z$ and the identity $I$ for convenience."
   ]
  },
  {
   "cell_type": "code",
   "execution_count": null,
   "metadata": {},
   "outputs": [],
   "source": [
    "\"\"\"Helper function and matrices for defining the linear system.\"\"\"\n",
    "# Function for tensor products with arbitrary numbers of terms\n",
    "def tensor(*args) -> np.ndarray:\n",
    "    \"\"\"Returns the tensor product over all matrices in args.\n",
    "    \n",
    "    Args:\n",
    "        Each argument must be a np.ndarray.\n",
    "    \"\"\"\n",
    "    if len(args) <= 0:\n",
    "        raise ValueError(\"No arguments provided.\")\n",
    "    args = list(args)\n",
    "    mat = args.pop(0)\n",
    "    for term in args:\n",
    "        mat = np.kron(mat, term)\n",
    "    return mat\n",
    "\n",
    "# Define the Pauli X matrix\n",
    "xmat = np.array([[0, 1],\n",
    "                 [1, 0]], dtype=np.float32)\n",
    "\n",
    "# Define the Pauli Z matrix\n",
    "zmat = np.array([[1, 0],\n",
    "                 [0, -1]], dtype=np.float32)\n",
    "\n",
    "# Define the identity matrix\n",
    "imat = np.identity(2, dtype=np.float32)"
   ]
  },
  {
   "cell_type": "code",
   "execution_count": null,
   "metadata": {},
   "outputs": [],
   "source": [
    "\"\"\"Quick test for the tensor function.\"\"\"\n",
    "assert np.allclose(np.kron(imat, imat), tensor(imat, imat))\n",
    "assert np.allclose(np.kron(imat, zmat), tensor(imat, zmat))\n",
    "assert np.allclose(np.kron(zmat, imat), tensor(zmat, imat))\n",
    "assert np.allclose(np.kron(zmat, zmat), tensor(zmat, zmat))"
   ]
  },
  {
   "cell_type": "markdown",
   "metadata": {},
   "source": [
    "We can now determine a matrix in terms of $\\kappa$:"
   ]
  },
  {
   "cell_type": "code",
   "execution_count": null,
   "metadata": {},
   "outputs": [],
   "source": [
    "\"\"\"Define a function to get the linear system for a given condition number kappa.\"\"\"\n",
    "def matrix(kappa: float) -> np.ndarray:\n",
    "    \"\"\"Returns the matrix A defined above as a function of kappa.\n",
    "    \n",
    "    Args:\n",
    "        kappa : float\n",
    "            Condition number of matrix. (Must be greater than or equal to zero.)\n",
    "    \"\"\"\n",
    "    # Overall coefficient for matrix\n",
    "    coeff = 1 / 4 / kappa\n",
    "    \n",
    "    # Define the terms in the system\n",
    "    term1 = 2.0 * (kappa + 1.0) * tensor(imat, imat, imat)\n",
    "    term2 = (kappa - 1.0) * tensor(imat, imat, zmat)\n",
    "    term3 = (kappa - 1.0) * tensor(imat, zmat, imat)\n",
    "    \n",
    "    # Return the matrix\n",
    "    return coeff * (term1 + term2 + term3)"
   ]
  },
  {
   "cell_type": "code",
   "execution_count": null,
   "metadata": {},
   "outputs": [],
   "source": [
    "\"\"\"Quick test for the matrix function.\"\"\"\n",
    "for kappa in range(1, 1000):\n",
    "    assert np.isclose(np.linalg.cond(matrix(kappa)), kappa)"
   ]
  },
  {
   "cell_type": "markdown",
   "metadata": {},
   "source": [
    "Finally, we define a function for the $b$ vector in terms of the number of qubits. We always use $\\mathbf{b} = H^{\\otimes n} |0\\rangle ^{\\otimes n}$ where $n$ is the number of qubits."
   ]
  },
  {
   "cell_type": "code",
   "execution_count": null,
   "metadata": {},
   "outputs": [],
   "source": [
    "\"\"\"Define a function to get the b vector.\"\"\"\n",
    "def vector(nqubits: int) -> np.ndarray:\n",
    "    dim = 2**nqubits\n",
    "    return 1.0 / np.sqrt(dim) * np.ones(dim)"
   ]
  },
  {
   "cell_type": "code",
   "execution_count": null,
   "metadata": {},
   "outputs": [],
   "source": [
    "\"\"\"Quick test for the vector function.\"\"\"\n",
    "for nqubits in range(1, 10):\n",
    "    assert np.isclose(np.linalg.norm(vector(nqubits), ord=2), 1.0)"
   ]
  },
  {
   "cell_type": "markdown",
   "metadata": {},
   "source": [
    "## Defining the Hamiltonian for QAOA"
   ]
  },
  {
   "cell_type": "markdown",
   "metadata": {},
   "source": [
    "We follow the method outlined in [1] to construct our ansatz wavefunction. First, define the projector\n",
    "\n",
    "\\begin{equation}\n",
    "    P_\\mathbf{b}^\\perp := I - |\\mathbf{b}\\rangle \\langle \\mathbf{b}| .\n",
    "\\end{equation}\n",
    "\n",
    "Since $P_\\mathbf{b}^\\perp |\\mathbf{b} \\rangle = \\mathbf{0}$, we have\n",
    "\n",
    "\\begin{equation}\n",
    "    P_\\mathbf{b}^\\perp A | \\mathbf{x} \\rangle = \\mathbf{0} .\n",
    "\\end{equation} \n",
    "\n",
    "Define $B := P_\\mathbf{b}^\\perp A$ and the operator\n",
    "\n",
    "\\begin{equation}\n",
    "    H_f := B^\\dagger B = A P_\\mathbf{b}^\\perp A .\n",
    "\\end{equation} \n",
    "\n",
    "The subscript $f$ will become apparent shortly. This operator (Hamiltonian) is:\n",
    "\n",
    "* Hermitian. \n",
    "* positive-semidefinite $\\implies$ $|\\mathbf{x}\\rangle$ is the ground state.\n",
    "\n",
    "Note that $|\\mathbf{x}\\rangle$ is the _unique_ ground state since $P_\\mathbf{b}^\\perp$ is an $N - 1$ dimensional projector.\n",
    "\n",
    "We now parameterize the linear system $A$ with the schedule\n",
    "\n",
    "\\begin{equation}\n",
    "    A \\mapsto A(t) := (1 - t) I + t A\n",
    "\\end{equation}\n",
    "\n",
    "for $0 \\le t \\le 1$ and similarly the Hamiltonian\n",
    "\n",
    "\\begin{equation}\n",
    "        H(t) := A(t) P_\\mathbf{b}^\\perp A(t)  .\n",
    "\\end{equation} \n",
    "\n",
    "Note that $H(t=1) = H_f$. \n",
    "\n",
    "This defines our \"driver Hamiltonian\" in QAOA, i.e. the unitary operator\n",
    "\n",
    "\\begin{equation}\n",
    "    U_t(\\gamma) = e^{ - i \\gamma H(t) }\n",
    "\\end{equation}\n",
    "\n",
    "We will, for now, take the standard mixer Hamiltonian\n",
    "\n",
    "\\begin{equation}\n",
    "    V(\\beta) = \\prod_j e^{ - i \\beta X_j} ,\n",
    "\\end{equation}\n",
    "\n",
    "i.e., a rotation of each qubit about the $x$-axis by $2 \\beta$. \n",
    "\n",
    "The ansatz wavefunction is thus\n",
    "\n",
    "\\begin{equation}\n",
    "    |\\mathbf{\\gamma}, \\mathbf{\\beta} \\rangle := \\left[ \\prod_{1}^{p} U_{t_i} (\\gamma_i) V(\\beta_i) \\right] H^{\\otimes n} |0\\rangle^{\\otimes n}\n",
    "\\end{equation}\n",
    "\n",
    "where $n := \\log_2 N$. "
   ]
  },
  {
   "cell_type": "markdown",
   "metadata": {},
   "source": [
    "We now define the Hamiltonian in code."
   ]
  },
  {
   "cell_type": "code",
   "execution_count": null,
   "metadata": {},
   "outputs": [],
   "source": [
    "\"\"\"Define the Hamiltonian.\"\"\"\n",
    "def ham(amat: np.ndarray, bvec: np.ndarray, time: float) -> np.ndarray:\n",
    "    \"\"\"Returns the Hamiltonian of the linear system Ax = b at time t.\"\"\"\n",
    "    # Get the dimension of the system\n",
    "    dim = len(bvec)\n",
    "    \n",
    "    # Get the b projector\n",
    "    bprojector = np.identity(dim) - np.outer(bvec, bvec)\n",
    "    \n",
    "    # Compute the B matrix\n",
    "    bmat = bprojector @ amat\n",
    "    \n",
    "    # Compute the final hamiltonian\n",
    "    ham_final = bmat.conj().T @ bmat\n",
    "    \n",
    "    # Return the Hamiltonian at time t\n",
    "    return (1.0 - time) * np.identity(dim) + time * ham_final"
   ]
  },
  {
   "cell_type": "code",
   "execution_count": null,
   "metadata": {},
   "outputs": [],
   "source": [
    "\"\"\"Quick test for the ham function.\"\"\"\n",
    "amat = matrix(kappa=10)\n",
    "bvec = vector(3)\n",
    "assert np.allclose(ham(amat, bvec, time=0), np.identity(8))\n",
    "assert np.allclose(ham(amat, bvec, time=0.25), ham(amat, bvec, time=0.25).conj().T)"
   ]
  },
  {
   "cell_type": "code",
   "execution_count": null,
   "metadata": {},
   "outputs": [],
   "source": [
    "\n",
    "ham(amat, bvec, time=1.0)"
   ]
  },
  {
   "cell_type": "markdown",
   "metadata": {},
   "source": [
    "And now we define functions for the driver Hamiltonian and mixer Hamiltonian in QAOA."
   ]
  },
  {
   "cell_type": "code",
   "execution_count": null,
   "metadata": {},
   "outputs": [],
   "source": [
    "\"\"\"Define the driver Hamiltonian.\"\"\"\n",
    "def driver(gamma: float, amat: np.ndarray, bvec: np.ndarray, time: float) -> np.ndarray:\n",
    "    \"\"\"Returns the driver Hamiltonian.\"\"\"\n",
    "    # Get the Hamiltonian\n",
    "    H = ham(amat, bvec, time)\n",
    "    \n",
    "    # Return the exponentiated Hamiltonian\n",
    "    return expm(-1j * gamma * H * kappa)"
   ]
  },
  {
   "cell_type": "code",
   "execution_count": null,
   "metadata": {},
   "outputs": [],
   "source": [
    "\"\"\"Quick tests for the driver Hamiltonian.\"\"\"\n",
    "amat = matrix(kappa=10)\n",
    "bvec = vector(3)\n",
    "assert np.allclose(driver(gamma=0.0, amat=amat, bvec=bvec, time=0), np.identity(8))\n",
    "\n",
    "# Check unitary\n",
    "driverf = driver(gamma=0.2, amat=amat, bvec=bvec, time=1.0)\n",
    "assert np.allclose(driverf.conj().T @ driverf, np.identity(8))"
   ]
  },
  {
   "cell_type": "code",
   "execution_count": null,
   "metadata": {},
   "outputs": [],
   "source": [
    "\"\"\"Define the mixer Hamiltonian.\"\"\"\n",
    "def mixer(beta: float) -> np.ndarray:\n",
    "    # Get the tensor product of Pauli X on each qubit\n",
    "    xtensor = tensor(xmat, xmat, xmat)\n",
    "    \n",
    "    # Return the exponentiated Hamiltonian\n",
    "    return expm(-1j * beta * xtensor * kappa)"
   ]
  },
  {
   "cell_type": "code",
   "execution_count": null,
   "metadata": {},
   "outputs": [],
   "source": [
    "\"\"\"Quick tests for the mixer Hamiltonian.\"\"\"\n",
    "assert np.allclose(mixer(beta=0.0), np.identity(8))\n",
    "\n",
    "# Check unitary\n",
    "mix = mixer(beta=0.5)\n",
    "assert np.allclose(mix.conj().T @ mix, np.identity(8))"
   ]
  },
  {
   "cell_type": "markdown",
   "metadata": {},
   "source": [
    "Last, we need to define the initial state $H^{\\otimes n} |0\\rangle ^{\\otimes n}$ for QAOA:"
   ]
  },
  {
   "cell_type": "code",
   "execution_count": null,
   "metadata": {},
   "outputs": [],
   "source": [
    "def init_state(nqubits: int) -> np.ndarray:\n",
    "    \"\"\"Returns the initial state H|0> for QAOA.\"\"\"\n",
    "    dim = 2**nqubits\n",
    "    return 1.0 / np.sqrt(dim) * np.ones(dim)"
   ]
  },
  {
   "cell_type": "code",
   "execution_count": null,
   "metadata": {},
   "outputs": [],
   "source": [
    "\"\"\"Quick tests for initial state.\"\"\"\n",
    "for nqubits in range(1, 10):\n",
    "    assert np.isclose(np.linalg.norm(init_state(nqubits), ord=2), 1.0)\n",
    "    assert len(set(init_state(nqubits))) == 1"
   ]
  },
  {
   "cell_type": "markdown",
   "metadata": {},
   "source": [
    "## Defining the Ansatz"
   ]
  },
  {
   "cell_type": "markdown",
   "metadata": {},
   "source": [
    "The following functions will assume the matrix $A$ and vector $\\mathbf{b}$ have been defined (to limit the number of arguments)."
   ]
  },
  {
   "cell_type": "code",
   "execution_count": null,
   "metadata": {},
   "outputs": [],
   "source": [
    "\"\"\"Defining the matrix, vector, and time to get the Hamiltonian, ansatz, and state.\"\"\"\n",
    "amat = matrix(kappa=10)\n",
    "bvec = vector(3)\n",
    "xclassical = np.linalg.solve(amat, bvec)\n",
    "time = 1.0\n",
    "Hf = ham(amat, bvec, 1.0)"
   ]
  },
  {
   "cell_type": "code",
   "execution_count": null,
   "metadata": {},
   "outputs": [],
   "source": [
    "\"\"\"Print out the classical solution.\"\"\"\n",
    "print(\"Classical solution:\")\n",
    "print(xclassical)"
   ]
  },
  {
   "cell_type": "code",
   "execution_count": null,
   "metadata": {},
   "outputs": [],
   "source": [
    "def state(gammas: list, betas: list) -> np.ndarray:\n",
    "    \"\"\"Returns the state of the computer after the QAOA ansatz is applied with parameters gammas and betas.\"\"\"\n",
    "    if len(gammas) != len(betas):\n",
    "        raise ValueError(\"Length of gammas must be equal to the length of betas.\")\n",
    "    \n",
    "    if len(gammas) == 0:\n",
    "        raise ValueError(\"Need at least one parameter.\")\n",
    "    \n",
    "    # Get the first gamma and beta value\n",
    "    gamma0 = gammas[0]\n",
    "    beta0 = betas[0]\n",
    "    \n",
    "    # Get the first driver and mixer unitaries\n",
    "    driver0 = driver(gamma0, amat, bvec, time)\n",
    "    mixer0 = mixer(beta0)\n",
    "    \n",
    "    # Get the ansatz after this state\n",
    "    ansatz = np.dot(driver0, mixer0)\n",
    "    \n",
    "    # Do this for all parameters\n",
    "    for gamma, beta in zip(gammas[1:], betas[1:]):\n",
    "        drive = driver(gamma, amat, bvec, time)\n",
    "        mix = mixer(beta)\n",
    "        \n",
    "        ansatz = np.dot(ansatz, np.dot(drive, mix))\n",
    "    \n",
    "    # Return the ansatz applied to the initial state H|0>\n",
    "    return np.dot(ansatz, init_state(nqubits=3))"
   ]
  },
  {
   "cell_type": "code",
   "execution_count": null,
   "metadata": {},
   "outputs": [],
   "source": [
    "\"\"\"Quick tests for the state function.\"\"\"\n",
    "assert np.allclose(state([0], [0]), init_state(3))\n",
    "assert np.allclose(state([0] * 10, [0] * 10), init_state(3))\n",
    "assert np.isclose(np.linalg.norm(state([1, 2], [3, 4]), ord=2), 1.0, atol=1e-4)\n",
    "assert np.allclose(state([0, 0, 1], [0, 0, 2]), state([1], [2]))\n",
    "assert np.allclose(state([0, 0, 1], [0, 0, 2]), state([1, 0, 0, 0], [2, 0, 0, 0]))"
   ]
  },
  {
   "cell_type": "markdown",
   "metadata": {},
   "source": [
    "## Defining the cost"
   ]
  },
  {
   "cell_type": "markdown",
   "metadata": {},
   "source": [
    "We now define the cost function for a set of parameters."
   ]
  },
  {
   "cell_type": "code",
   "execution_count": null,
   "metadata": {},
   "outputs": [],
   "source": [
    "\"\"\"Defining the cost function.\"\"\"\n",
    "def cost(angles: list) -> float:\n",
    "    \"\"\"Returns the cost at the given angles, formatted as [gammas, betas].\"\"\"\n",
    "    if len(angles) % 2 != 0:\n",
    "        raise ValueError(\"Number of parameters must be even.\")\n",
    "    \n",
    "    # Get the gammas and betas\n",
    "    gammas = angles[:len(angles) // 2]\n",
    "    betas = angles[len(angles) // 2:]\n",
    "    \n",
    "    # Get the state\n",
    "    psi = state(gammas, betas)\n",
    "    \n",
    "    # Compute the overlap\n",
    "    overlap = abs(np.dot(psi.conj().T, xclassical))**2 / np.dot(xclassical, xclassical)\n",
    "    \n",
    "    # Compute the cost to minimize\n",
    "    obj = 1.0 - overlap\n",
    "    \n",
    "    # Display it to the console\n",
    "    print(\"Current cost:\", obj, end=\"\\r\")\n",
    "    \n",
    "    # Return the cost\n",
    "    return obj"
   ]
  },
  {
   "cell_type": "markdown",
   "metadata": {},
   "source": [
    "## Define gradient minimizer"
   ]
  },
  {
   "cell_type": "code",
   "execution_count": null,
   "metadata": {},
   "outputs": [],
   "source": [
    "\"\"\"Defining a gradient optimizer.\"\"\"\n",
    "# Result class for optimization results\n",
    "class Result:\n",
    "        def __init__(self, fval, nfev, nit, x, tol):\n",
    "            self.fval = fval\n",
    "            self.nfev = nfev\n",
    "            self.nit = nit\n",
    "            self.x = x\n",
    "            self.success = fval < tol\n",
    "\n",
    "# Function to perform gradient optimization\n",
    "def vqgd(obj, x, eta=0.5, tol=1e-2, maxit=300, maxfev=1000):\n",
    "    \"\"\"Variational quantum gradient descent minimizer.\"\"\"\n",
    "    # Number of parameters\n",
    "    nparams = len(x)\n",
    "    \n",
    "    # Iteration counter\n",
    "    it = 0\n",
    "    \n",
    "    # Function evaluation counter\n",
    "    nfev = 0\n",
    "    \n",
    "    while obj(x) > tol and it < maxit and nfev < maxfev:\n",
    "        \n",
    "        for ii in range(nparams):\n",
    "            # ======================\n",
    "            # Compute the derivative\n",
    "            # ======================\n",
    "            \n",
    "            # Copy current parameters\n",
    "            xplus = deepcopy(x)\n",
    "            xminus = deepcopy(x)\n",
    "            \n",
    "            # Shift by plus/minus pi / 2\n",
    "            xplus[ii] += np.pi / 2\n",
    "            xminus[ii] -= np.pi / 2\n",
    "            \n",
    "            # Compute the derivative\n",
    "            deriv = 0.5 * (obj(xplus) - obj(xminus))\n",
    "            \n",
    "            # ====================\n",
    "            # Update the parameter\n",
    "            # ====================\n",
    "            \n",
    "            x[ii] += eta * deriv\n",
    "        \n",
    "        # Increment the counters\n",
    "        it += 1\n",
    "        nfev += 1 + 2 * nparams\n",
    "    \n",
    "    return Result(obj(x), nfev, it, x, tol)"
   ]
  },
  {
   "cell_type": "markdown",
   "metadata": {},
   "source": [
    "## Do the minimization"
   ]
  },
  {
   "cell_type": "code",
   "execution_count": null,
   "metadata": {
    "scrolled": true
   },
   "outputs": [],
   "source": [
    "\"\"\"Do the minimization for a particular matrix using scipy.optimize.minimize.\"\"\"\n",
    "# Define the system\n",
    "kappa = 1000\n",
    "amat = matrix(kappa)\n",
    "bvec = vector(3)\n",
    "xclassical = np.linalg.solve(amat, bvec)\n",
    "time = 1.0\n",
    "\n",
    "# Random set of initial parameters\n",
    "x0 = np.random.randn(10)\n",
    "\n",
    "# Do the minimization\n",
    "out = minimize(cost, x0, method=\"COBYLA\", tol=1e-7)\n",
    "\n",
    "print()\n",
    "print(\"nfev =\", out.nfev)\n",
    "print(\"obj =\", out.fun)"
   ]
  },
  {
   "cell_type": "code",
   "execution_count": null,
   "metadata": {},
   "outputs": [],
   "source": [
    "\"\"\"Define functions to return the final state and overlap with classical solution.\n",
    "\n",
    "REQUIRES: Output of scipy.optimize.minimize to be named `out`.\n",
    "\"\"\"\n",
    "def final_state(out):\n",
    "    return state(out.x[:len(out.x) // 2], out.x[len(out.x) // 2: ])\n",
    "\n",
    "def final_overlap(out):\n",
    "    return abs(np.dot(final_state(out), xclassical))**2 / np.dot(xclassical, xclassical)"
   ]
  },
  {
   "cell_type": "code",
   "execution_count": null,
   "metadata": {},
   "outputs": [],
   "source": [
    "print(\"Final overlap:\", final_overlap(out))"
   ]
  },
  {
   "cell_type": "markdown",
   "metadata": {},
   "source": [
    "## Do the minimization while varying kappa"
   ]
  },
  {
   "cell_type": "code",
   "execution_count": null,
   "metadata": {},
   "outputs": [],
   "source": [
    "\"\"\"Some constants and hyperparameters.\"\"\"\n",
    "# Max number of trials to do at each kappa value\n",
    "NUM_TRIALS = 200\n",
    "\n",
    "# Minimum fidelity to consider a solution\n",
    "MIN_FIDELITY = 0.95\n",
    "\n",
    "# Kappa values to consider\n",
    "KAPPA_MAX = 1000\n",
    "kappas = np.linspace(1, KAPPA_MAX, 50)\n",
    "\n",
    "# Optimization method\n",
    "METHOD = \"COBYLA\"\n",
    "\n",
    "# Number to average over\n",
    "SHOTS = 100\n",
    "\n",
    "VERBOSE = False"
   ]
  },
  {
   "cell_type": "code",
   "execution_count": null,
   "metadata": {
    "scrolled": false
   },
   "outputs": [],
   "source": [
    "\"\"\"Do the minimization while varying kappa.\"\"\"\n",
    "# Some constants which define the system\n",
    "bvec = vector(3)\n",
    "time = 1.0\n",
    "\n",
    "allfevs = []\n",
    "alltrials = []\n",
    "\n",
    "for ii in range(SHOTS):\n",
    "    \n",
    "    print(\"\\nShot #\", ii, \"\\n========\\n\")\n",
    "\n",
    "    # List to store overall number of function evaluations\n",
    "    nfevs = []\n",
    "\n",
    "    # List to store number of trials\n",
    "    trials = []\n",
    "\n",
    "    # Loop over the kappa values\n",
    "    for kappa in kappas:\n",
    "        # Status update\n",
    "        print(\"Status: kappa =\", kappa)\n",
    "        \n",
    "        # Define the system\n",
    "        amat = matrix(kappa)\n",
    "\n",
    "        # Get the classical solution\n",
    "        xclassical = np.linalg.solve(amat, bvec)\n",
    "\n",
    "        # Do ten trials at this kappa value\n",
    "        for trial in range(NUM_TRIALS):\n",
    "            # Random set of initial parameters\n",
    "            x0 = np.random.randn(10)\n",
    "\n",
    "            # Do the minimization\n",
    "            out = minimize(cost, x0, method=\"COBYLA\")\n",
    "\n",
    "            if final_overlap(out) >= MIN_FIDELITY:\n",
    "                if VERBOSE:\n",
    "                    print()\n",
    "                    print(\"kappa = {} completed in {} trial(s).\".format(kappa, trial + 1))\n",
    "                    print(\"fidelity =\", final_overlap(out))\n",
    "                    print(\"fev =\", out.nfev)\n",
    "                    print()\n",
    "                nfevs.append(out.nfev)\n",
    "                trials.append(trial + 1)\n",
    "                break\n",
    "            \n",
    "            elif trial == NUM_TRIALS - 1:\n",
    "                print()\n",
    "                print(\"kappa = {} failed to converged in {} trials.\".format(kappa, trial + 1))\n",
    "                print()\n",
    "                nfevs.append(np.NAN)\n",
    "                trials.append(np.NAN)\n",
    "\n",
    "    allfevs.append(nfevs)\n",
    "    alltrials.append(trials)"
   ]
  },
  {
   "cell_type": "code",
   "execution_count": null,
   "metadata": {},
   "outputs": [],
   "source": [
    "\"\"\"Some plotting and saving options.\"\"\"\n",
    "plt.rcParams.update({'font.size': 17, \"font.weight\": \"bold\"})\n",
    "import time\n",
    "SAVEKEY = time.asctime()"
   ]
  },
  {
   "cell_type": "code",
   "execution_count": null,
   "metadata": {},
   "outputs": [],
   "source": [
    "\"\"\"Save trials and total function evaluations.\"\"\"\n",
    "tarray = np.array(alltrials)\n",
    "\n",
    "farray = np.array(allfevs)\n",
    "\n",
    "# Save the data\n",
    "np.savetxt(\"trial-vs-kappa{}-{}-{}shots-{}fidelity-{}.txt\".format(KAPPA_MAX, METHOD, SHOTS, MIN_FIDELITY, SAVEKEY), tarray)\n",
    "np.savetxt(\"fev-vs-kappa{}-{}-{}shots-{}fidelity-{}.txt\".format(KAPPA_MAX, METHOD, SHOTS, MIN_FIDELITY, SAVEKEY), farray)"
   ]
  },
  {
   "cell_type": "code",
   "execution_count": null,
   "metadata": {},
   "outputs": [],
   "source": [
    "\"\"\"Extract the average number of function evaluations and the standard deviation over all trials.\"\"\"\n",
    "# Lists to store values\n",
    "tavgs = np.nanmean(tarray, axis=0)\n",
    "tstds = np.nanstd(tarray, axis=0)\n",
    "favgs = np.nanmean(farray, axis=0)\n",
    "fstds = np.nanstd(farray, axis=0)"
   ]
  },
  {
   "cell_type": "code",
   "execution_count": null,
   "metadata": {
    "scrolled": false
   },
   "outputs": [],
   "source": [
    "\"\"\"Plot the trial number vs kappa statistics.\"\"\"\n",
    "plt.figure(figsize=(12, 7))\n",
    "plt.errorbar(kappas, tavgs, tstds, ls=\"-\", color=\"blue\", linewidth=3.0, elinewidth=2.0, capsize=10.0, errorevery=3)\n",
    "plt.grid()\n",
    "plt.xlabel(\"Condition number\");\n",
    "plt.ylabel(\"Number of trials until solution\");\n",
    "plt.title(\"Minimum Fidelity = {}\".format(MIN_FIDELITY));\n",
    "plt.savefig(\"trial-vs-kappa-statistics-kappa{}-{}-{}shots-{}fidelity-{}.pdf\".format(KAPPA_MAX, METHOD, SHOTS, MIN_FIDELITY, SAVEKEY), format=\"pdf\")"
   ]
  },
  {
   "cell_type": "code",
   "execution_count": null,
   "metadata": {},
   "outputs": [],
   "source": [
    "\"\"\"Plot the number of function evaluations vs kappa statistics.\"\"\"\n",
    "plt.figure(figsize=(12, 7))\n",
    "plt.errorbar(kappas, favgs, fstds, ls=\"-\", color=\"red\", linewidth=3.0, elinewidth=2.0, capsize=10.0, errorevery=3)\n",
    "plt.grid()\n",
    "plt.xlabel(\"Condition number\");\n",
    "plt.ylabel(\"Number of trials until solution\");\n",
    "plt.title(\"Minimum Fidelity = {}\".format(MIN_FIDELITY));\n",
    "plt.savefig(\"fev-vs-kappa-statistics-kappa{}-{}-{}shots-{}fidelity-{}.pdf\".format(KAPPA_MAX, METHOD, SHOTS, MIN_FIDELITY, SAVEKEY), format=\"pdf\")"
   ]
  },
  {
   "cell_type": "markdown",
   "metadata": {},
   "source": [
    "## References"
   ]
  },
  {
   "cell_type": "markdown",
   "metadata": {},
   "source": [
    "[1] Yigit Subasi, Rolando D. Somma, Davide Orsucci, Quantum algorithms for systems of linear equations inspired by adiabatic quantum computing. https://arxiv.org/abs/1805.10549."
   ]
  }
 ],
 "metadata": {
  "kernelspec": {
   "display_name": "Python 3",
   "language": "python",
   "name": "python3"
  },
  "language_info": {
   "codemirror_mode": {
    "name": "ipython",
    "version": 3
   },
   "file_extension": ".py",
   "mimetype": "text/x-python",
   "name": "python",
   "nbconvert_exporter": "python",
   "pygments_lexer": "ipython3",
   "version": "3.6.8"
  }
 },
 "nbformat": 4,
 "nbformat_minor": 2
}
