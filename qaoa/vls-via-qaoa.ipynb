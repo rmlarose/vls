{
 "cells": [
  {
   "cell_type": "markdown",
   "metadata": {},
   "source": [
    "# Variational Linear Systems via QAOA"
   ]
  },
  {
   "cell_type": "markdown",
   "metadata": {},
   "source": [
    "Ryan LaRose, Yigit Subasi, Lukasz Cincio, Patrick Coles"
   ]
  },
  {
   "cell_type": "markdown",
   "metadata": {},
   "source": [
    "### Abstract\n",
    "\n",
    "In this notebook, we implement an approach to solving linear systems on a NISQ computer. The approach uses QAOA [1] with the \"linear system Hamiltonian\" given in [2]. Other approaches for the \"quantum linear systems problem\" [3-5] require resources beyond current hardware capabilities. This method can be implemented on NISQ processors. Other \"near-term approaches\" have recently emerged in the literature [6-7]."
   ]
  },
  {
   "cell_type": "code",
   "execution_count": 1,
   "metadata": {},
   "outputs": [],
   "source": [
    "\"\"\"Imports for the notebook.\n",
    "\n",
    "Requires:\n",
    "    Matplotlib\n",
    "    Numpy\n",
    "    Scipy\n",
    "    Cirq v0.5.0\n",
    "\"\"\"\n",
    "from time import time\n",
    "\n",
    "import numpy as np\n",
    "import matplotlib.pyplot as plt\n",
    "from scipy.linalg import expm\n",
    "from scipy.optimize import minimize\n",
    "\n",
    "import cirq\n",
    "assert cirq.__version__ == \"0.5.0\", \"Wrong version of Cirq! Code may or may not work.\""
   ]
  },
  {
   "cell_type": "code",
   "execution_count": 2,
   "metadata": {},
   "outputs": [],
   "source": [
    "\"\"\"Flags for testing behavior.\"\"\"\n",
    "# Option to use identity matrix if true\n",
    "DEBUG = False\n",
    "\n",
    "# Option to scale gamma parameters by matrix condition number if true\n",
    "SCALE = True"
   ]
  },
  {
   "cell_type": "markdown",
   "metadata": {},
   "source": [
    "## Preliminaries"
   ]
  },
  {
   "cell_type": "markdown",
   "metadata": {},
   "source": [
    "We seek to solve the \"quantum linear systems problem\" (QLSP) defined by the system\n",
    "\n",
    "\\begin{equation}\n",
    "    A \\mathbf{x} = \\mathbf{b}\n",
    "\\end{equation}\n",
    "\n",
    "where $A \\in \\mathbb{R}^{N \\times N}$ and $N = 2^n$. QLSP is similar to the classical linear systems problem except we only want to output a \"quantum description\" of the solution\n",
    "\n",
    "\\begin{equation}\n",
    "    | \\mathbf{x} \\rangle = |A^{-1} \\mathbf{b} \\rangle\n",
    "\\end{equation}\n",
    "\n",
    "(because we don't have a good way around this).\n",
    "\n",
    "#### Challenge: Find a (practical) problem where we only want some expectation of the solution $\\langle \\mathbf{x} | \\hat{O} | \\mathbf{x} \\rangle$ for some Hermitian operator $\\hat{O}$."
   ]
  },
  {
   "cell_type": "markdown",
   "metadata": {},
   "source": [
    "## Ansatz wavefunction\n",
    "\n",
    "_Note: This presentation is based off the slides Yigit presented at SQUINT 2019._"
   ]
  },
  {
   "cell_type": "markdown",
   "metadata": {},
   "source": [
    "We follow the method outlined in [2] to construct our ansatz wavefunction. First, define the projector\n",
    "\n",
    "\\begin{equation}\n",
    "    P_\\mathbf{b}^\\perp := I - |\\mathbf{b}\\rangle \\langle \\mathbf{b}| .\n",
    "\\end{equation}\n",
    "\n",
    "Since $P_\\mathbf{b}^\\perp |\\mathbf{b} \\rangle = \\mathbf{0}$, we have\n",
    "\n",
    "\\begin{equation}\n",
    "    P_\\mathbf{b}^\\perp A | \\mathbf{x} \\rangle = \\mathbf{0} .\n",
    "\\end{equation} \n",
    "\n",
    "Define $B := P_\\mathbf{b}^\\perp A$ and the operator\n",
    "\n",
    "\\begin{equation}\n",
    "    H_f := B^\\dagger B = A P_\\mathbf{b}^\\perp A .\n",
    "\\end{equation} \n",
    "\n",
    "The subscript $f$ will become apparent shortly. This operator (Hamiltonian) is:\n",
    "\n",
    "* Hermitian. \n",
    "* positive-semidefinite $\\implies$ $|\\mathbf{x}\\rangle$ is the ground state.\n",
    "\n",
    "Note that $|\\mathbf{x}\\rangle$ is the _unique_ ground state since $P_\\mathbf{b}^\\perp$ is an $N - 1$ dimensional projector.\n",
    "\n",
    "We now parameterize the linear system $A$ with the schedule\n",
    "\n",
    "\\begin{equation}\n",
    "    A \\mapsto A(t) := (1 - t) I + t A\n",
    "\\end{equation}\n",
    "\n",
    "for $0 \\le t \\le 1$ and similarly the Hamiltonian\n",
    "\n",
    "\\begin{equation}\n",
    "        H(t) := A(t) P_\\mathbf{b}^\\perp A(t)  .\n",
    "\\end{equation} \n",
    "\n",
    "Note that $H(t=1) = H_f$. \n",
    "\n",
    "This defines our \"driver Hamiltonian\" in QAOA, i.e. the unitary operator\n",
    "\n",
    "\\begin{equation}\n",
    "    U_t(\\gamma) = e^{ - i \\gamma H(t) }\n",
    "\\end{equation}\n",
    "\n",
    "#### Question: Normally, the \"cost Hamiltonian\" in QAOA is assumed to be diagonal in the computational basis. In general, our Hamiltonian is not. Do we need a separate \"mixer Hamiltonian\" in this case?\n",
    "\n",
    "#### Note: QAOA typically assumes the driver Hamiltonian is time-independent (so far as I know), but our Hamiltonian is time-dependent. \n",
    "\n",
    "We will, for now, take the standard mixer Hamiltonian\n",
    "\n",
    "\\begin{equation}\n",
    "    V(\\beta) = \\prod_j e^{ - i \\beta X_j} ,\n",
    "\\end{equation}\n",
    "\n",
    "i.e., a rotation of each qubit about the $x$-axis by $2 \\beta$. \n",
    "\n",
    "The ansatz wavefunction is thus\n",
    "\n",
    "\\begin{equation}\n",
    "    |\\mathbf{\\gamma}, \\mathbf{\\beta} \\rangle := \\left[ \\prod_{1}^{p} U_{t_i} (\\gamma_i) V(\\beta_i) \\right] H^{\\otimes n} |0\\rangle^{\\otimes n}\n",
    "\\end{equation}\n",
    "\n",
    "where $n := \\log_2 N$. "
   ]
  },
  {
   "cell_type": "markdown",
   "metadata": {},
   "source": [
    "# Code Implementation"
   ]
  },
  {
   "cell_type": "markdown",
   "metadata": {},
   "source": [
    "We now turn to a implementation of this algorithm using Cirq."
   ]
  },
  {
   "cell_type": "markdown",
   "metadata": {},
   "source": [
    "## Example Problem"
   ]
  },
  {
   "cell_type": "markdown",
   "metadata": {},
   "source": [
    "In the cells below we'll generate a random linear system of equations."
   ]
  },
  {
   "cell_type": "code",
   "execution_count": 3,
   "metadata": {},
   "outputs": [],
   "source": [
    "\"\"\"Seed the random number generator.\"\"\"\n",
    "SEED = 8675309\n",
    "np.random.seed(SEED)"
   ]
  },
  {
   "cell_type": "code",
   "execution_count": 4,
   "metadata": {},
   "outputs": [
    {
     "name": "stdout",
     "output_type": "stream",
     "text": [
      "Classically solving the system Ax = b...\n",
      "A =\n",
      " [[0.39875983 0.28467884 0.09215715 0.1337503 ]\n",
      " [0.28467884 0.04030731 0.21712353 0.23781039]\n",
      " [0.09215715 0.21712353 0.29453437 0.40167631]\n",
      " [0.1337503  0.23781039 0.40167631 0.08767353]]\n",
      "b =\n",
      " [0.68094862 0.55811585 0.08812806 0.46588531]\n",
      "\n",
      "Solution found in 0.00034308433532714844 seconds.\n",
      "x =\n",
      " [ 1.94094536 -0.2727669   0.82406441 -0.68272663]\n",
      "Ax =\n",
      " [0.68094862 0.55811585 0.08812806 0.46588531]\n"
     ]
    }
   ],
   "source": [
    "\"\"\"Generate a system of equations to solve.\"\"\"\n",
    "# Dimension of system. Assume square for now\n",
    "# Note: Studying different systems is (unfortunately) not as\n",
    "# simple as changing n, since we defined the driver Hamiltonian\n",
    "# as a cirq.TwoQubitGate\n",
    "# TODO: Can this be changed to cirq.Gate?\n",
    "n = 2\n",
    "N = 2**n\n",
    "\n",
    "if DEBUG:\n",
    "    A = np.identity(4)\n",
    "else:\n",
    "    # Generate a random matrix\n",
    "    A = np.random.rand(N, N)\n",
    "\n",
    "    # Make sure it's Hermitian\n",
    "    A = A + A.conj().T\n",
    "\n",
    "    # Normalize it WLOG. Note this defaults to the Froebenius norm for matrices.\n",
    "    A /= np.linalg.norm(A)\n",
    "\n",
    "# Compute the condition number of the matrix to scale exponentials\n",
    "if SCALE:\n",
    "    kappa = np.linalg.cond(A)\n",
    "else:\n",
    "    kappa = 1.0\n",
    "\n",
    "if DEBUG:\n",
    "    b = np.array([1.0, 0.0, 0.0, 0.0], dtype=float)\n",
    "else:\n",
    "    # Generate the vector\n",
    "    b = np.random.rand(N)\n",
    "\n",
    "    # Normalize it WLOG. Note this defaults to the l2-norm for vectors.\n",
    "    b /= np.linalg.norm(b)\n",
    "\n",
    "# Do the solution classically\n",
    "start = time()\n",
    "x = np.linalg.solve(A, b)\n",
    "total = time() - start\n",
    "\n",
    "# Display the system, solution, and time to solve\n",
    "print(\"Classically solving the system Ax = b...\")\n",
    "print(\"A =\\n\", A)\n",
    "print(\"b =\\n\", b)\n",
    "print()\n",
    "print(\"Solution found in\", total, \"seconds.\")\n",
    "print(\"x =\\n\", x)\n",
    "print(\"Ax =\\n\", np.dot(A, x))"
   ]
  },
  {
   "cell_type": "markdown",
   "metadata": {},
   "source": [
    "## Building up the ansatz"
   ]
  },
  {
   "cell_type": "markdown",
   "metadata": {},
   "source": [
    "Now we'll build up the ansatz. We'll \"cheat\" a little by\n",
    "\n",
    "1. Allowing for matrix gates (to avoid compiling).\n",
    "1. Classically exponentiating the system (to avoid Trotterization).\n",
    "\n",
    "We'll use the \"half-way point\" Hamiltonian. That is, setting $t = 0.5$ in the Hamiltonian $H(t)$. "
   ]
  },
  {
   "cell_type": "code",
   "execution_count": 5,
   "metadata": {},
   "outputs": [],
   "source": [
    "\"\"\"Get the matrix for the driver Hamiltonian.\"\"\"\n",
    "# Set the time for the Hamiltonian\n",
    "t = 1.0\n",
    "\n",
    "# Identity matrix, for convenince\n",
    "iden = np.identity(N)\n",
    "\n",
    "# Get the \"b^\\perp projector\"\n",
    "Pb = iden - np.outer(b, b)\n",
    "\n",
    "# Get the parameterized linear system\n",
    "At = (1.0 - t) * iden + t * A\n",
    "\n",
    "# Get the Hamiltonian\n",
    "Ht = At @ Pb @ At\n",
    "\n",
    "# Make sure it's Hermitian\n",
    "assert np.allclose(Ht, Ht.conj().T)"
   ]
  },
  {
   "cell_type": "markdown",
   "metadata": {},
   "source": [
    "This gives us a matrix representation of the $U_t(\\gamma)$ unitary -- except without the $\\gamma$ parameter. We'll take care of this when we construct a matrix gate in Cirq by raising the gate to the power $\\gamma$. We now construct a gate from this unitary that we can use in a circuit."
   ]
  },
  {
   "cell_type": "code",
   "execution_count": 6,
   "metadata": {},
   "outputs": [],
   "source": [
    "\"\"\"Create a gate for the driver Hamiltonian (unitary).\"\"\"\n",
    "class Driver(cirq.TwoQubitGate):\n",
    "    \"\"\"Gate for the U_t(\\gamma) driver Hamiltonian (for a particular t).\"\"\"\n",
    "    \n",
    "    def __init__(self, H, gamma):\n",
    "        self.gamma = gamma\n",
    "        self.matrix = expm(-1j * kappa * gamma * H)\n",
    "        assert np.allclose(self.matrix @ self.matrix.conj().T, iden)\n",
    "    \n",
    "    def _unitary_(self):\n",
    "        return self.matrix\n",
    "    \n",
    "    def _circuit_diagram_info_(self, args):\n",
    "        return \"Driver^{}\".format(self.gamma), \"Driver^{}\".format(self.gamma)"
   ]
  },
  {
   "cell_type": "markdown",
   "metadata": {},
   "source": [
    "Now we'll make sure we can implement this in a quantum circuit."
   ]
  },
  {
   "cell_type": "code",
   "execution_count": 7,
   "metadata": {},
   "outputs": [],
   "source": [
    "\"\"\"Function for building the ansatz circuit.\"\"\"\n",
    "def circuit(gamma, beta):\n",
    "    \"\"\"Returns the state |gamma, beta> defined above.\"\"\"\n",
    "    # Get a qubit register\n",
    "    qreg = cirq.LineQubit.range(n)\n",
    "\n",
    "    # Get a quantum circuit\n",
    "    circ = cirq.Circuit()\n",
    "\n",
    "    # How about a round of Hadamards?\n",
    "    circ.append(cirq.H.on_each(*qreg))\n",
    "\n",
    "    # Do the driver Hamiltonian\n",
    "    U = Driver(Ht, gamma)\n",
    "    circ.append(U.on(*qreg))\n",
    "\n",
    "    # Do the mixer Hamiltonian\n",
    "    circ.append(cirq.Rx(beta).on_each(*qreg))\n",
    "    \n",
    "    return circ"
   ]
  },
  {
   "cell_type": "code",
   "execution_count": 8,
   "metadata": {
    "scrolled": true
   },
   "outputs": [
    {
     "name": "stdout",
     "output_type": "stream",
     "text": [
      "Circuit:\n",
      "0: ───H───Driver^0───Rx(0.0π)───\n",
      "          │\n",
      "1: ───H───Driver^0───Rx(0.0π)───\n",
      "\n",
      "Final state:\n",
      "|psi> =  (0.49999997+0j) (0.49999997+0j) (0.49999997+0j) (0.49999997+0j)\n"
     ]
    }
   ],
   "source": [
    "\"\"\"Make sure the code above is working properly.\"\"\"\n",
    "# Display the circuit\n",
    "circ = circuit(0, 0)\n",
    "print(\"Circuit:\")\n",
    "print(circ)\n",
    "\n",
    "# Make sure it can be simulated\n",
    "sim = cirq.Simulator()\n",
    "res = sim.simulate(circ)\n",
    "\n",
    "# Display the final state\n",
    "print(\"\\nFinal state:\")\n",
    "print(\"|psi> = \", *res.final_state)"
   ]
  },
  {
   "cell_type": "markdown",
   "metadata": {},
   "source": [
    "## Computing the Expectation Value"
   ]
  },
  {
   "cell_type": "markdown",
   "metadata": {},
   "source": [
    "To compute the expectation value (cost), we use the final Hamiltonian $H_f$:\n",
    "\n",
    "\\begin{equation}\n",
    "    C(\\mathbf{\\gamma}, \\mathbf{\\beta}) = \n",
    "        \\langle \\mathbf{\\gamma}, \\mathbf{\\beta} | H_f | \\mathbf{\\gamma}, \\mathbf{\\beta} \\rangle\n",
    "\\end{equation}\n",
    "\n",
    "It is this quantity we minimize during the optimization procedure."
   ]
  },
  {
   "cell_type": "code",
   "execution_count": 9,
   "metadata": {},
   "outputs": [],
   "source": [
    "\"\"\"Function for computing the cost.\"\"\"\n",
    "def cost(gamma, beta, simulator=cirq.Simulator()):\n",
    "    \"\"\"Returns the cost C(\\gamma, \\beta) defined above.\"\"\"\n",
    "    # Build the circuit\n",
    "    circ = circuit(gamma, beta)\n",
    "    \n",
    "    # Get the final state\n",
    "    psi = sim.simulate(circ).final_state\n",
    "    \n",
    "    # Return the expectation <\\gamma, \\beta| Hf | \\gamma, \\beta>\n",
    "    Hf = A @ Pb @ A\n",
    "    return abs(np.dot(psi.conj().T, np.dot(Hf, psi)))"
   ]
  },
  {
   "cell_type": "markdown",
   "metadata": {},
   "source": [
    "## Minimizing the cost"
   ]
  },
  {
   "cell_type": "markdown",
   "metadata": {},
   "source": [
    "We now minimize the cost. For simplicity, we use built-in optimizers from Scipy. Alternatively, a dynamic grid search or analytic-gradient methods could be used."
   ]
  },
  {
   "cell_type": "code",
   "execution_count": 10,
   "metadata": {},
   "outputs": [],
   "source": [
    "\"\"\"Function that returns the objective and inputs an array (for Scipy).\"\"\"\n",
    "# Functional form for scipy.optimize.minimize\n",
    "def obj(x):\n",
    "    val = cost(x[0], x[1])\n",
    "    print(\"Current cost:\", val, end=\"\\r\")\n",
    "    return val"
   ]
  },
  {
   "cell_type": "code",
   "execution_count": 11,
   "metadata": {},
   "outputs": [
    {
     "name": "stdout",
     "output_type": "stream",
     "text": [
      "Current cost: 0.0204391264197851670.020705237809971508\r"
     ]
    }
   ],
   "source": [
    "\"\"\"Do the minimization and time it.\"\"\"\n",
    "start = time()\n",
    "out = minimize(obj, np.random.rand(2), method=\"Powell\")\n",
    "total = time() - start"
   ]
  },
  {
   "cell_type": "code",
   "execution_count": 12,
   "metadata": {
    "scrolled": true
   },
   "outputs": [
    {
     "name": "stdout",
     "output_type": "stream",
     "text": [
      "[-1.79775117  2.48596379]\n"
     ]
    }
   ],
   "source": [
    "print(out[\"x\"])"
   ]
  },
  {
   "cell_type": "markdown",
   "metadata": {},
   "source": [
    "## Doing a grid search over the landscape"
   ]
  },
  {
   "cell_type": "markdown",
   "metadata": {},
   "source": [
    "Here we visualize the cost landscape by evaluating the cost on a grid."
   ]
  },
  {
   "cell_type": "code",
   "execution_count": 13,
   "metadata": {},
   "outputs": [
    {
     "name": "stdout",
     "output_type": "stream",
     "text": [
      "Current cost: 0.0732516584687177750.13830698471779268 0.244936206858419690.249626989241525650.16504729902404347 0.02120800685910843 0.13901069620804482 0.029595843267922063\r"
     ]
    }
   ],
   "source": [
    "\"\"\"Do a grid search over all angles.\"\"\"\n",
    "# Define ranges of parameters to search over\n",
    "gammas = np.linspace(-3, 3, 100)\n",
    "betas = np.linspace(-np.pi, np.pi, 100)\n",
    "\n",
    "# Initialize an array to store the costs at each point\n",
    "costs = np.zeros((100, 100))\n",
    "\n",
    "# Evaluate the cost at each point and store it\n",
    "for ii, gamma in enumerate(gammas):\n",
    "    for jj, beta in enumerate(betas):\n",
    "        costs[ii, jj] = obj([gamma, beta])"
   ]
  },
  {
   "cell_type": "markdown",
   "metadata": {},
   "source": [
    "We can now make a 2D plot of the landscape."
   ]
  },
  {
   "cell_type": "code",
   "execution_count": 14,
   "metadata": {},
   "outputs": [
    {
     "data": {
      "text/plain": [
       "Text(0.5,1,'First Order QAOA Cost Landscape')"
      ]
     },
     "execution_count": 14,
     "metadata": {},
     "output_type": "execute_result"
    },
    {
     "data": {
      "image/png": "[encoded data removed]",
      "text/plain": [
       "<Figure size 432x288 with 2 Axes>"
      ]
     },
     "metadata": {},
     "output_type": "display_data"
    }
   ],
   "source": [
    "\"\"\"Plot the cost landscape.\"\"\"\n",
    "plt.imshow(costs, origin=\"lower\")\n",
    "plt.colorbar()\n",
    "plt.title(\"First Order QAOA Cost Landscape\")"
   ]
  },
  {
   "cell_type": "code",
   "execution_count": 15,
   "metadata": {
    "scrolled": false
   },
   "outputs": [
    {
     "name": "stdout",
     "output_type": "stream",
     "text": [
      "Quantumly solving the system Ax = b...\n",
      "A =\n",
      " [[0.39875983 0.28467884 0.09215715 0.1337503 ]\n",
      " [0.28467884 0.04030731 0.21712353 0.23781039]\n",
      " [0.09215715 0.21712353 0.29453437 0.40167631]\n",
      " [0.1337503  0.23781039 0.40167631 0.08767353]]\n",
      "b =\n",
      " [0.68094862 0.55811585 0.08812806 0.46588531]\n",
      "\n",
      "Quantum solution found in 1.488330602645874 seconds.\n",
      "xquantum =\n",
      " [ 0.6864176 -0.06828402j  0.5710068 -0.04920428j  0.11719272-0.13700399j\n",
      " -0.37911433+0.13952154j]\n",
      "xclassical =\n",
      " [ 1.94094536 -0.2727669   0.82406441 -0.68272663]\n",
      "Ax =\n",
      " [0.3963628 -0.03520119j 0.15371228-0.01798942j 0.06947333-0.00128615j\n",
      " 0.24143515-0.06363321j]\n",
      "Overlap with classical solution: 0.1084620710266784\n"
     ]
    }
   ],
   "source": [
    "\"\"\"See the quantum solution.\"\"\"\n",
    "# Get the wavefunction at the best angles\n",
    "gamma_opt, beta_opt = out[\"x\"]\n",
    "circ = circuit(gamma_opt, beta_opt)\n",
    "xquantum = sim.simulate(circ).final_state\n",
    "\n",
    "# Display the system, solution, and time to solve\n",
    "print(\"Quantumly solving the system Ax = b...\")\n",
    "print(\"A =\\n\", A)\n",
    "print(\"b =\\n\", b)\n",
    "print()\n",
    "print(\"Quantum solution found in\", total, \"seconds.\")\n",
    "print(\"xquantum =\\n\", xquantum)\n",
    "print(\"xclassical =\\n\", x)\n",
    "print(\"Ax =\\n\", np.dot(A, xquantum))\n",
    "print(\"Overlap with classical solution:\", \n",
    "      abs(np.dot(xquantum, x))**2 / abs(np.dot(xquantum, xquantum))**2 / abs(np.dot(x, x)**2))"
   ]
  },
  {
   "cell_type": "markdown",
   "metadata": {},
   "source": [
    "## Higher order QAOA"
   ]
  },
  {
   "cell_type": "markdown",
   "metadata": {},
   "source": [
    "We now go beyond one layer $p > 1$ in the QAOA ansatz. This is just a slight modification of the code above."
   ]
  },
  {
   "cell_type": "code",
   "execution_count": 16,
   "metadata": {},
   "outputs": [],
   "source": [
    "\"\"\"Circuit for higher order QAOA.\"\"\"\n",
    "def qaoa(gammas, betas):\n",
    "    \"\"\"Returns the state |gamma, beta> defined above.\"\"\"\n",
    "    # Make sure we have the correct number of parameters\n",
    "    if len(gammas) != len(betas):\n",
    "        raise ValueError(\"gammas and betas must have the same length.\")\n",
    "\n",
    "    # Get a qubit register\n",
    "    qreg = cirq.LineQubit.range(n)\n",
    "\n",
    "    # Get a quantum circuit\n",
    "    circ = cirq.Circuit()\n",
    "\n",
    "    # How about a round of Hadamards?\n",
    "    circ.append(cirq.H.on_each(*qreg))\n",
    "    \n",
    "    # Do each layer of QAOA\n",
    "    for gamma, beta in zip(gammas, betas):\n",
    "        # Do the driver Hamiltonian\n",
    "        U = Driver(Ht, gamma)\n",
    "        circ.append(U.on(*qreg))\n",
    "\n",
    "        # Do the mixer Hamiltonian\n",
    "        circ.append(cirq.Rx(beta).on_each(*qreg))\n",
    "    \n",
    "    return circ"
   ]
  },
  {
   "cell_type": "markdown",
   "metadata": {},
   "source": [
    "Let's test this to make sure it works properly."
   ]
  },
  {
   "cell_type": "code",
   "execution_count": 17,
   "metadata": {
    "scrolled": true
   },
   "outputs": [
    {
     "name": "stdout",
     "output_type": "stream",
     "text": [
      "Circuit:\n",
      "0: ───H───Driver^0───Rx(0.0π)───Driver^0───Rx(0.0π)───Driver^0───Rx(0.0π)───\n",
      "          │                     │                     │\n",
      "1: ───H───Driver^0───Rx(0.0π)───Driver^0───Rx(0.0π)───Driver^0───Rx(0.0π)───\n",
      "\n",
      "Final state:\n",
      "|psi> =  (0.49999997+0j) (0.49999997+0j) (0.49999997+0j) (0.49999997+0j)\n"
     ]
    }
   ],
   "source": [
    "\"\"\"Testing the higher order QAOA circuit.\"\"\"\n",
    "gammas = [0, 0, 0]\n",
    "betas = [0.0, 0.0, 0.0]\n",
    "\n",
    "circ = qaoa(gammas, betas)\n",
    "\n",
    "print(\"Circuit:\")\n",
    "print(circ)\n",
    "\n",
    "# Make sure it can be simulated\n",
    "sim = cirq.Simulator()\n",
    "res = sim.simulate(circ)\n",
    "\n",
    "# Display the final state\n",
    "print(\"\\nFinal state:\")\n",
    "print(\"|psi> = \", *res.final_state)"
   ]
  },
  {
   "cell_type": "markdown",
   "metadata": {},
   "source": [
    "Now we modify the cost function."
   ]
  },
  {
   "cell_type": "code",
   "execution_count": 18,
   "metadata": {},
   "outputs": [],
   "source": [
    "\"\"\"Defining the cost function for higher order QAOA.\"\"\"\n",
    "def expectation(gammas, betas, simulator=cirq.Simulator()):\n",
    "    \"\"\"Returns the cost C(\\gamma, \\beta) defined above.\"\"\"\n",
    "    # Build the circuit\n",
    "    circ = qaoa(gammas, betas)\n",
    "    \n",
    "    # Get the final state\n",
    "    psi = sim.simulate(circ).final_state\n",
    "    \n",
    "    # Return the expectation <\\gamma, \\beta| Hf |\\gamma, \\beta>\n",
    "    Hf = A.conj().T @ Pb @ A\n",
    "    return abs(np.dot(psi.conj().T, np.dot(Hf, psi)))"
   ]
  },
  {
   "cell_type": "markdown",
   "metadata": {},
   "source": [
    "And now test it."
   ]
  },
  {
   "cell_type": "code",
   "execution_count": 19,
   "metadata": {},
   "outputs": [
    {
     "name": "stdout",
     "output_type": "stream",
     "text": [
      "0.058821772927194954\n"
     ]
    }
   ],
   "source": [
    "\"\"\"Testing the cost function for higher order QAOA.\"\"\"\n",
    "print(expectation([1, 2], [3, 4]))"
   ]
  },
  {
   "cell_type": "markdown",
   "metadata": {},
   "source": [
    "And finally minimization for higher order QAOA."
   ]
  },
  {
   "cell_type": "code",
   "execution_count": 20,
   "metadata": {},
   "outputs": [],
   "source": [
    "\"\"\"Defining the objective function for optimization with multiple layers.\"\"\"\n",
    "def objective(x):\n",
    "    \"\"\"Returns the objective function for higher order QAOA.\"\"\"\n",
    "    # Make sure the number of parameters is valid\n",
    "    if len(x) % 2 != 0:\n",
    "        raise ValueError(\"Invalid number of parameters. Must be even.\")\n",
    "    \n",
    "    # Parse the parameters (arbitrary convention)\n",
    "    gammas = x[:len(x) // 2]\n",
    "    betas = x[len(x) // 2:]\n",
    "    \n",
    "    # Compute the expectation for these parameters\n",
    "    cval = expectation(gammas, betas)\n",
    "    \n",
    "    # Print it out\n",
    "    print(\"Current cost:\", cval, end=\"\\r\")\n",
    "    \n",
    "    return cval"
   ]
  },
  {
   "cell_type": "markdown",
   "metadata": {},
   "source": [
    "## Higher order QAOA"
   ]
  },
  {
   "cell_type": "markdown",
   "metadata": {},
   "source": [
    "Now we look at performing the optimization."
   ]
  },
  {
   "cell_type": "code",
   "execution_count": 21,
   "metadata": {},
   "outputs": [],
   "source": [
    "\"\"\"Set the number of layers p for QAOA.\"\"\"\n",
    "p = 2"
   ]
  },
  {
   "cell_type": "code",
   "execution_count": 22,
   "metadata": {
    "scrolled": true
   },
   "outputs": [
    {
     "name": "stdout",
     "output_type": "stream",
     "text": [
      "Current cost: 0.021413235590975074 0.021466891234218632\r"
     ]
    }
   ],
   "source": [
    "\"\"\"Optimizing higher order QAOA.\"\"\"\n",
    "# Do the minimization\n",
    "start = time()\n",
    "out = minimize(objective, np.random.rand(2 * p), method=\"Powell\")\n",
    "total = time() - start"
   ]
  },
  {
   "cell_type": "code",
   "execution_count": 23,
   "metadata": {},
   "outputs": [
    {
     "name": "stdout",
     "output_type": "stream",
     "text": [
      "Quantumly solving the system Ax = b...\n",
      "A =\n",
      " [[0.39875983 0.28467884 0.09215715 0.1337503 ]\n",
      " [0.28467884 0.04030731 0.21712353 0.23781039]\n",
      " [0.09215715 0.21712353 0.29453437 0.40167631]\n",
      " [0.1337503  0.23781039 0.40167631 0.08767353]]\n",
      "b =\n",
      " [0.68094862 0.55811585 0.08812806 0.46588531]\n",
      "\n",
      "Solution found in 3.7638437747955322 seconds.\n",
      "xquantum =\n",
      " [ 0.6719093 -0.12466912j  0.48967785-0.36894876j  0.09502258+0.02217263j\n",
      " -0.3383093 +0.18197092j]\n",
      "xclassical =\n",
      " [ 0.86915924 -0.12214557  0.3690177  -0.30572636]\n",
      "Ax =\n",
      " [0.37083939-0.12836291j 0.15119412-0.00227322j 0.06033842-0.0119726j\n",
      " 0.2148261 -0.07955413j]\n",
      "Overlap with classical solution: 0.11095345774819544\n"
     ]
    }
   ],
   "source": [
    "\"\"\"See the quantum solution.\"\"\"\n",
    "# Get the wavefunction at the best angles\n",
    "opt_params = out[\"x\"]\n",
    "gammas = opt_params[:len(opt_params) // 2]\n",
    "betas = opt_params[len(opt_params) // 2:]\n",
    "circ = qaoa(gammas, betas)\n",
    "xquantum = sim.simulate(circ).final_state\n",
    "\n",
    "# Display the system, solution, and time to solve\n",
    "print(\"Quantumly solving the system Ax = b...\")\n",
    "print(\"A =\\n\", A)\n",
    "print(\"b =\\n\", b)\n",
    "print()\n",
    "print(\"Solution found in\", total, \"seconds.\")\n",
    "print(\"xquantum =\\n\", xquantum)\n",
    "print(\"xclassical =\\n\", x / np.linalg.norm(x))\n",
    "print(\"Ax =\\n\", np.dot(A, xquantum))\n",
    "print(\"Overlap with classical solution:\", \n",
    "      abs(np.dot(xquantum, x))**2 / abs(np.dot(xquantum, xquantum))**2 / abs(np.dot(x, x)**2))"
   ]
  },
  {
   "cell_type": "markdown",
   "metadata": {},
   "source": [
    "# References"
   ]
  },
  {
   "cell_type": "markdown",
   "metadata": {},
   "source": [
    "[1] Edward Farhi, Jeffrey Goldstone, Sam Gutmann, A quantum approximate optimization algorithm. https://arxiv.org/abs/1411.4028\n",
    "\n",
    "[2] Yigit Subasi, Rolando D. Somma, Davide Orsucci, Quantum algorithms for systems of linear equations inspired by adiabatic quantum computing. https://arxiv.org/abs/1805.10549.\n",
    "\n",
    "[3] A. W. Harrow, A. Hassidim, and S. Lloyd, “Quantum algorithm for solving linear systems of equations,” Physical Review Letters, vol. 103, no. 15, Oct. 2009.\n",
    "\n",
    "\n",
    "[4] L. Wossnig, Z. Zhao, and A. Prakash, “A quantum linear system algorithm for dense matrices,” Phys. Rev. Lett., vol. 120, no. 5, p. 050502, Jan. 2018.\n",
    "\n",
    "\n",
    "[5] D. Dervovic, M. Herbster, P. Mountney, S. Severini, N. Usher, and L. Wossnig, “Quantum linear systems algorithms: a primer,” arXiv:1802.08227 [quant-ph], Feb. 2018.\n",
    "\n",
    "\n",
    "[6] NISQLSP I.\n",
    "\n",
    "[7] NISQLSP II."
   ]
  }
 ],
 "metadata": {
  "kernelspec": {
   "display_name": "Python 3",
   "language": "python",
   "name": "python3"
  },
  "language_info": {
   "codemirror_mode": {
    "name": "ipython",
    "version": 3
   },
   "file_extension": ".py",
   "mimetype": "text/x-python",
   "name": "python",
   "nbconvert_exporter": "python",
   "pygments_lexer": "ipython3",
   "version": "3.6.8"
  }
 },
 "nbformat": 4,
 "nbformat_minor": 2
}
